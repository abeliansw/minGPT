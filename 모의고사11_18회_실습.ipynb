{
  "cells": [
    {
      "cell_type": "markdown",
      "metadata": {
        "id": "view-in-github",
        "colab_type": "text"
      },
      "source": [
        "<a href=\"https://colab.research.google.com/github/abeliansw/minGPT/blob/master/%EB%AA%A8%EC%9D%98%EA%B3%A0%EC%82%AC11_18%ED%9A%8C_%EC%8B%A4%EC%8A%B5.ipynb\" target=\"_parent\"><img src=\"https://colab.research.google.com/assets/colab-badge.svg\" alt=\"Open In Colab\"/></a>"
      ]
    },
    {
      "cell_type": "code",
      "execution_count": null,
      "id": "88db9617",
      "metadata": {
        "id": "88db9617"
      },
      "outputs": [],
      "source": [
        "import pandas as pd\n",
        "import numpy as np"
      ]
    },
    {
      "cell_type": "markdown",
      "id": "652e9168",
      "metadata": {
        "id": "652e9168"
      },
      "source": [
        "# 기출문제 11회"
      ]
    },
    {
      "cell_type": "code",
      "execution_count": null,
      "id": "16228fde",
      "metadata": {
        "id": "16228fde"
      },
      "outputs": [],
      "source": [
        "data11=pd.read_csv('Dataset_11.csv')"
      ]
    },
    {
      "cell_type": "code",
      "execution_count": null,
      "id": "74e76a37",
      "metadata": {
        "id": "74e76a37",
        "outputId": "b52277e5-6982-47e2-d6e5-345e862af7d5"
      },
      "outputs": [
        {
          "name": "stdout",
          "output_type": "stream",
          "text": [
            "<class 'pandas.core.frame.DataFrame'>\n",
            "RangeIndex: 470 entries, 0 to 469\n",
            "Data columns (total 4 columns):\n",
            " #   Column           Non-Null Count  Dtype  \n",
            "---  ------           --------------  -----  \n",
            " 0   Country          470 non-null    object \n",
            " 1   Happiness_Rank   470 non-null    int64  \n",
            " 2   Happiness_Score  470 non-null    float64\n",
            " 3   year             470 non-null    int64  \n",
            "dtypes: float64(1), int64(2), object(1)\n",
            "memory usage: 14.8+ KB\n"
          ]
        }
      ],
      "source": [
        "data11.info()"
      ]
    },
    {
      "cell_type": "code",
      "execution_count": null,
      "id": "fb4ac798",
      "metadata": {
        "id": "fb4ac798",
        "outputId": "51c0c28a-68f8-4803-d5d9-5a02bf51d8c7"
      },
      "outputs": [
        {
          "data": {
            "text/html": [
              "<div>\n",
              "<style scoped>\n",
              "    .dataframe tbody tr th:only-of-type {\n",
              "        vertical-align: middle;\n",
              "    }\n",
              "\n",
              "    .dataframe tbody tr th {\n",
              "        vertical-align: top;\n",
              "    }\n",
              "\n",
              "    .dataframe thead th {\n",
              "        text-align: right;\n",
              "    }\n",
              "</style>\n",
              "<table border=\"1\" class=\"dataframe\">\n",
              "  <thead>\n",
              "    <tr style=\"text-align: right;\">\n",
              "      <th></th>\n",
              "      <th>Country</th>\n",
              "      <th>Happiness_Rank</th>\n",
              "      <th>Happiness_Score</th>\n",
              "      <th>year</th>\n",
              "    </tr>\n",
              "  </thead>\n",
              "  <tbody>\n",
              "    <tr>\n",
              "      <th>0</th>\n",
              "      <td>Switzerland</td>\n",
              "      <td>1</td>\n",
              "      <td>7.587</td>\n",
              "      <td>2015</td>\n",
              "    </tr>\n",
              "    <tr>\n",
              "      <th>1</th>\n",
              "      <td>Iceland</td>\n",
              "      <td>2</td>\n",
              "      <td>7.561</td>\n",
              "      <td>2015</td>\n",
              "    </tr>\n",
              "    <tr>\n",
              "      <th>2</th>\n",
              "      <td>Denmark</td>\n",
              "      <td>3</td>\n",
              "      <td>7.527</td>\n",
              "      <td>2015</td>\n",
              "    </tr>\n",
              "    <tr>\n",
              "      <th>3</th>\n",
              "      <td>Norway</td>\n",
              "      <td>4</td>\n",
              "      <td>7.522</td>\n",
              "      <td>2015</td>\n",
              "    </tr>\n",
              "    <tr>\n",
              "      <th>4</th>\n",
              "      <td>Canada</td>\n",
              "      <td>5</td>\n",
              "      <td>7.427</td>\n",
              "      <td>2015</td>\n",
              "    </tr>\n",
              "  </tbody>\n",
              "</table>\n",
              "</div>"
            ],
            "text/plain": [
              "       Country  Happiness_Rank  Happiness_Score  year\n",
              "0  Switzerland               1            7.587  2015\n",
              "1      Iceland               2            7.561  2015\n",
              "2      Denmark               3            7.527  2015\n",
              "3       Norway               4            7.522  2015\n",
              "4       Canada               5            7.427  2015"
            ]
          },
          "execution_count": 4,
          "metadata": {},
          "output_type": "execute_result"
        }
      ],
      "source": [
        "data11.head()"
      ]
    },
    {
      "cell_type": "markdown",
      "id": "41cc73b6",
      "metadata": {
        "id": "41cc73b6"
      },
      "source": [
        "## Q1"
      ]
    },
    {
      "cell_type": "code",
      "execution_count": null,
      "id": "4ffac0c7",
      "metadata": {
        "id": "4ffac0c7",
        "outputId": "e39282ef-ea3a-4924-ad9e-d73d5ef623e5"
      },
      "outputs": [
        {
          "data": {
            "text/plain": [
              "Switzerland                 3\n",
              "Mongolia                    3\n",
              "Lebanon                     3\n",
              "Hungary                     3\n",
              "Honduras                    3\n",
              "                           ..\n",
              "Puerto Rico                 1\n",
              "Somaliland Region           1\n",
              "Oman                        1\n",
              "Taiwan Province of China    1\n",
              "Hong Kong S.A.R. China      1\n",
              "Name: Country, Length: 166, dtype: int64"
            ]
          },
          "execution_count": 5,
          "metadata": {},
          "output_type": "execute_result"
        }
      ],
      "source": [
        "q11_1=data11.Country.value_counts()\n",
        "q11_1"
      ]
    },
    {
      "cell_type": "code",
      "execution_count": null,
      "id": "63e36916",
      "metadata": {
        "id": "63e36916",
        "outputId": "35f36710-cabf-4a5a-b122-55562c96c9e6"
      },
      "outputs": [
        {
          "data": {
            "text/plain": [
              "Index(['Switzerland', 'Mongolia', 'Lebanon', 'Hungary', 'Honduras',\n",
              "       'Tajikistan', 'Tunisia', 'Palestinian Territories', 'Bangladesh',\n",
              "       'Iran',\n",
              "       ...\n",
              "       'Ecuador', 'Italy', 'Slovakia', 'Bolivia', 'Moldova', 'Japan',\n",
              "       'Paraguay', 'Slovenia', 'Lithuania', 'South Korea'],\n",
              "      dtype='object', length=146)"
            ]
          },
          "execution_count": 6,
          "metadata": {},
          "output_type": "execute_result"
        }
      ],
      "source": [
        "q11_1_list=q11_1.index[q11_1 == 3]\n",
        "q11_1_list"
      ]
    },
    {
      "cell_type": "code",
      "execution_count": null,
      "id": "468c74b1",
      "metadata": {
        "id": "468c74b1",
        "outputId": "ade4ea43-97d0-4a67-b7a6-642a3396ac77"
      },
      "outputs": [
        {
          "data": {
            "text/plain": [
              "20"
            ]
          },
          "execution_count": 7,
          "metadata": {},
          "output_type": "execute_result"
        }
      ],
      "source": [
        "# 답\n",
        "q11_1_list_out=q11_1.index[q11_1 < 3]\n",
        "len(q11_1_list_out)"
      ]
    },
    {
      "cell_type": "code",
      "execution_count": null,
      "id": "d30cbcc3",
      "metadata": {
        "id": "d30cbcc3"
      },
      "outputs": [],
      "source": [
        "q11_1_2=pd.pivot_table(data11, index='Country', columns='year', values='Happiness_Score', aggfunc='count')"
      ]
    },
    {
      "cell_type": "code",
      "execution_count": null,
      "id": "7dc9173d",
      "metadata": {
        "id": "7dc9173d",
        "outputId": "e2f5a2c9-022c-47f4-e957-b2e59c4c3e5d"
      },
      "outputs": [
        {
          "data": {
            "text/html": [
              "<div>\n",
              "<style scoped>\n",
              "    .dataframe tbody tr th:only-of-type {\n",
              "        vertical-align: middle;\n",
              "    }\n",
              "\n",
              "    .dataframe tbody tr th {\n",
              "        vertical-align: top;\n",
              "    }\n",
              "\n",
              "    .dataframe thead th {\n",
              "        text-align: right;\n",
              "    }\n",
              "</style>\n",
              "<table border=\"1\" class=\"dataframe\">\n",
              "  <thead>\n",
              "    <tr style=\"text-align: right;\">\n",
              "      <th>year</th>\n",
              "      <th>2015</th>\n",
              "      <th>2016</th>\n",
              "      <th>2017</th>\n",
              "    </tr>\n",
              "    <tr>\n",
              "      <th>Country</th>\n",
              "      <th></th>\n",
              "      <th></th>\n",
              "      <th></th>\n",
              "    </tr>\n",
              "  </thead>\n",
              "  <tbody>\n",
              "    <tr>\n",
              "      <th>Afghanistan</th>\n",
              "      <td>1.0</td>\n",
              "      <td>1.0</td>\n",
              "      <td>1.0</td>\n",
              "    </tr>\n",
              "    <tr>\n",
              "      <th>Albania</th>\n",
              "      <td>1.0</td>\n",
              "      <td>1.0</td>\n",
              "      <td>1.0</td>\n",
              "    </tr>\n",
              "    <tr>\n",
              "      <th>Algeria</th>\n",
              "      <td>1.0</td>\n",
              "      <td>1.0</td>\n",
              "      <td>1.0</td>\n",
              "    </tr>\n",
              "    <tr>\n",
              "      <th>Angola</th>\n",
              "      <td>1.0</td>\n",
              "      <td>1.0</td>\n",
              "      <td>1.0</td>\n",
              "    </tr>\n",
              "    <tr>\n",
              "      <th>Argentina</th>\n",
              "      <td>1.0</td>\n",
              "      <td>1.0</td>\n",
              "      <td>1.0</td>\n",
              "    </tr>\n",
              "    <tr>\n",
              "      <th>...</th>\n",
              "      <td>...</td>\n",
              "      <td>...</td>\n",
              "      <td>...</td>\n",
              "    </tr>\n",
              "    <tr>\n",
              "      <th>Venezuela</th>\n",
              "      <td>1.0</td>\n",
              "      <td>1.0</td>\n",
              "      <td>1.0</td>\n",
              "    </tr>\n",
              "    <tr>\n",
              "      <th>Vietnam</th>\n",
              "      <td>1.0</td>\n",
              "      <td>1.0</td>\n",
              "      <td>1.0</td>\n",
              "    </tr>\n",
              "    <tr>\n",
              "      <th>Yemen</th>\n",
              "      <td>1.0</td>\n",
              "      <td>1.0</td>\n",
              "      <td>1.0</td>\n",
              "    </tr>\n",
              "    <tr>\n",
              "      <th>Zambia</th>\n",
              "      <td>1.0</td>\n",
              "      <td>1.0</td>\n",
              "      <td>1.0</td>\n",
              "    </tr>\n",
              "    <tr>\n",
              "      <th>Zimbabwe</th>\n",
              "      <td>1.0</td>\n",
              "      <td>1.0</td>\n",
              "      <td>1.0</td>\n",
              "    </tr>\n",
              "  </tbody>\n",
              "</table>\n",
              "<p>166 rows × 3 columns</p>\n",
              "</div>"
            ],
            "text/plain": [
              "year         2015  2016  2017\n",
              "Country                      \n",
              "Afghanistan   1.0   1.0   1.0\n",
              "Albania       1.0   1.0   1.0\n",
              "Algeria       1.0   1.0   1.0\n",
              "Angola        1.0   1.0   1.0\n",
              "Argentina     1.0   1.0   1.0\n",
              "...           ...   ...   ...\n",
              "Venezuela     1.0   1.0   1.0\n",
              "Vietnam       1.0   1.0   1.0\n",
              "Yemen         1.0   1.0   1.0\n",
              "Zambia        1.0   1.0   1.0\n",
              "Zimbabwe      1.0   1.0   1.0\n",
              "\n",
              "[166 rows x 3 columns]"
            ]
          },
          "execution_count": 9,
          "metadata": {},
          "output_type": "execute_result"
        }
      ],
      "source": [
        "q11_1_2"
      ]
    },
    {
      "cell_type": "code",
      "execution_count": null,
      "id": "f9f6e883",
      "metadata": {
        "id": "f9f6e883"
      },
      "outputs": [],
      "source": [
        "q11_1_2['sum'] = q11_1_2.sum(axis=1)"
      ]
    },
    {
      "cell_type": "code",
      "execution_count": null,
      "id": "3a483549",
      "metadata": {
        "id": "3a483549",
        "outputId": "fe28780d-4572-46b7-e9e1-05baf21d2ead"
      },
      "outputs": [
        {
          "data": {
            "text/html": [
              "<div>\n",
              "<style scoped>\n",
              "    .dataframe tbody tr th:only-of-type {\n",
              "        vertical-align: middle;\n",
              "    }\n",
              "\n",
              "    .dataframe tbody tr th {\n",
              "        vertical-align: top;\n",
              "    }\n",
              "\n",
              "    .dataframe thead th {\n",
              "        text-align: right;\n",
              "    }\n",
              "</style>\n",
              "<table border=\"1\" class=\"dataframe\">\n",
              "  <thead>\n",
              "    <tr style=\"text-align: right;\">\n",
              "      <th>year</th>\n",
              "      <th>2015</th>\n",
              "      <th>2016</th>\n",
              "      <th>2017</th>\n",
              "      <th>sum</th>\n",
              "    </tr>\n",
              "    <tr>\n",
              "      <th>Country</th>\n",
              "      <th></th>\n",
              "      <th></th>\n",
              "      <th></th>\n",
              "      <th></th>\n",
              "    </tr>\n",
              "  </thead>\n",
              "  <tbody>\n",
              "    <tr>\n",
              "      <th>Afghanistan</th>\n",
              "      <td>1.0</td>\n",
              "      <td>1.0</td>\n",
              "      <td>1.0</td>\n",
              "      <td>3.0</td>\n",
              "    </tr>\n",
              "    <tr>\n",
              "      <th>Albania</th>\n",
              "      <td>1.0</td>\n",
              "      <td>1.0</td>\n",
              "      <td>1.0</td>\n",
              "      <td>3.0</td>\n",
              "    </tr>\n",
              "    <tr>\n",
              "      <th>Algeria</th>\n",
              "      <td>1.0</td>\n",
              "      <td>1.0</td>\n",
              "      <td>1.0</td>\n",
              "      <td>3.0</td>\n",
              "    </tr>\n",
              "    <tr>\n",
              "      <th>Angola</th>\n",
              "      <td>1.0</td>\n",
              "      <td>1.0</td>\n",
              "      <td>1.0</td>\n",
              "      <td>3.0</td>\n",
              "    </tr>\n",
              "    <tr>\n",
              "      <th>Argentina</th>\n",
              "      <td>1.0</td>\n",
              "      <td>1.0</td>\n",
              "      <td>1.0</td>\n",
              "      <td>3.0</td>\n",
              "    </tr>\n",
              "    <tr>\n",
              "      <th>...</th>\n",
              "      <td>...</td>\n",
              "      <td>...</td>\n",
              "      <td>...</td>\n",
              "      <td>...</td>\n",
              "    </tr>\n",
              "    <tr>\n",
              "      <th>Venezuela</th>\n",
              "      <td>1.0</td>\n",
              "      <td>1.0</td>\n",
              "      <td>1.0</td>\n",
              "      <td>3.0</td>\n",
              "    </tr>\n",
              "    <tr>\n",
              "      <th>Vietnam</th>\n",
              "      <td>1.0</td>\n",
              "      <td>1.0</td>\n",
              "      <td>1.0</td>\n",
              "      <td>3.0</td>\n",
              "    </tr>\n",
              "    <tr>\n",
              "      <th>Yemen</th>\n",
              "      <td>1.0</td>\n",
              "      <td>1.0</td>\n",
              "      <td>1.0</td>\n",
              "      <td>3.0</td>\n",
              "    </tr>\n",
              "    <tr>\n",
              "      <th>Zambia</th>\n",
              "      <td>1.0</td>\n",
              "      <td>1.0</td>\n",
              "      <td>1.0</td>\n",
              "      <td>3.0</td>\n",
              "    </tr>\n",
              "    <tr>\n",
              "      <th>Zimbabwe</th>\n",
              "      <td>1.0</td>\n",
              "      <td>1.0</td>\n",
              "      <td>1.0</td>\n",
              "      <td>3.0</td>\n",
              "    </tr>\n",
              "  </tbody>\n",
              "</table>\n",
              "<p>166 rows × 4 columns</p>\n",
              "</div>"
            ],
            "text/plain": [
              "year         2015  2016  2017  sum\n",
              "Country                           \n",
              "Afghanistan   1.0   1.0   1.0  3.0\n",
              "Albania       1.0   1.0   1.0  3.0\n",
              "Algeria       1.0   1.0   1.0  3.0\n",
              "Angola        1.0   1.0   1.0  3.0\n",
              "Argentina     1.0   1.0   1.0  3.0\n",
              "...           ...   ...   ...  ...\n",
              "Venezuela     1.0   1.0   1.0  3.0\n",
              "Vietnam       1.0   1.0   1.0  3.0\n",
              "Yemen         1.0   1.0   1.0  3.0\n",
              "Zambia        1.0   1.0   1.0  3.0\n",
              "Zimbabwe      1.0   1.0   1.0  3.0\n",
              "\n",
              "[166 rows x 4 columns]"
            ]
          },
          "execution_count": 11,
          "metadata": {},
          "output_type": "execute_result"
        }
      ],
      "source": [
        "q11_1_2"
      ]
    },
    {
      "cell_type": "code",
      "execution_count": null,
      "id": "3182e526",
      "metadata": {
        "id": "3182e526",
        "outputId": "bee08d30-fc3a-47b3-e566-4844a294cf2c"
      },
      "outputs": [
        {
          "data": {
            "text/plain": [
              "Country\n",
              "Afghanistan    False\n",
              "Albania        False\n",
              "Algeria        False\n",
              "Angola         False\n",
              "Argentina      False\n",
              "               ...  \n",
              "Venezuela      False\n",
              "Vietnam        False\n",
              "Yemen          False\n",
              "Zambia         False\n",
              "Zimbabwe       False\n",
              "Name: sum, Length: 166, dtype: bool"
            ]
          },
          "execution_count": 12,
          "metadata": {},
          "output_type": "execute_result"
        }
      ],
      "source": [
        "q11_1_2['sum'] < 3.0"
      ]
    },
    {
      "cell_type": "code",
      "execution_count": null,
      "id": "b2903bb1",
      "metadata": {
        "id": "b2903bb1",
        "outputId": "147442a0-92cb-4cb0-f446-ff404c7e8749"
      },
      "outputs": [
        {
          "data": {
            "text/plain": [
              "20"
            ]
          },
          "execution_count": 13,
          "metadata": {},
          "output_type": "execute_result"
        }
      ],
      "source": [
        "len(q11_1_2[q11_1_2['sum'] < 3.0])"
      ]
    },
    {
      "cell_type": "markdown",
      "id": "30136210",
      "metadata": {
        "id": "30136210"
      },
      "source": [
        "## Q2"
      ]
    },
    {
      "cell_type": "code",
      "execution_count": null,
      "id": "01162a4f",
      "metadata": {
        "id": "01162a4f",
        "outputId": "e4d1b704-0162-4629-f670-1f411fa24750"
      },
      "outputs": [
        {
          "data": {
            "text/plain": [
              "146"
            ]
          },
          "execution_count": 14,
          "metadata": {},
          "output_type": "execute_result"
        }
      ],
      "source": [
        "q11_2 = pd.pivot_table(data11, index='Country', columns='year', values='Happiness_Score').dropna()\n",
        "len(q11_2)"
      ]
    },
    {
      "cell_type": "code",
      "execution_count": null,
      "id": "ab026c1f",
      "metadata": {
        "id": "ab026c1f",
        "outputId": "fd35f3e6-cb12-45f0-a043-cd861be9c9e3"
      },
      "outputs": [
        {
          "data": {
            "text/plain": [
              "146"
            ]
          },
          "execution_count": 15,
          "metadata": {},
          "output_type": "execute_result"
        }
      ],
      "source": [
        "len(q11_1_list)"
      ]
    },
    {
      "cell_type": "code",
      "execution_count": null,
      "id": "b671c5d9",
      "metadata": {
        "id": "b671c5d9",
        "outputId": "1d531361-7088-4cf1-c5bd-86b12c0071b6"
      },
      "outputs": [
        {
          "data": {
            "text/html": [
              "<div>\n",
              "<style scoped>\n",
              "    .dataframe tbody tr th:only-of-type {\n",
              "        vertical-align: middle;\n",
              "    }\n",
              "\n",
              "    .dataframe tbody tr th {\n",
              "        vertical-align: top;\n",
              "    }\n",
              "\n",
              "    .dataframe thead th {\n",
              "        text-align: right;\n",
              "    }\n",
              "</style>\n",
              "<table border=\"1\" class=\"dataframe\">\n",
              "  <thead>\n",
              "    <tr style=\"text-align: right;\">\n",
              "      <th>year</th>\n",
              "      <th>2015</th>\n",
              "      <th>2016</th>\n",
              "      <th>2017</th>\n",
              "    </tr>\n",
              "    <tr>\n",
              "      <th>Country</th>\n",
              "      <th></th>\n",
              "      <th></th>\n",
              "      <th></th>\n",
              "    </tr>\n",
              "  </thead>\n",
              "  <tbody>\n",
              "    <tr>\n",
              "      <th>Afghanistan</th>\n",
              "      <td>3.575</td>\n",
              "      <td>3.360</td>\n",
              "      <td>3.794</td>\n",
              "    </tr>\n",
              "    <tr>\n",
              "      <th>Albania</th>\n",
              "      <td>4.959</td>\n",
              "      <td>4.655</td>\n",
              "      <td>4.644</td>\n",
              "    </tr>\n",
              "    <tr>\n",
              "      <th>Algeria</th>\n",
              "      <td>5.605</td>\n",
              "      <td>6.355</td>\n",
              "      <td>5.872</td>\n",
              "    </tr>\n",
              "    <tr>\n",
              "      <th>Angola</th>\n",
              "      <td>4.033</td>\n",
              "      <td>3.866</td>\n",
              "      <td>3.795</td>\n",
              "    </tr>\n",
              "    <tr>\n",
              "      <th>Argentina</th>\n",
              "      <td>6.574</td>\n",
              "      <td>6.650</td>\n",
              "      <td>6.599</td>\n",
              "    </tr>\n",
              "    <tr>\n",
              "      <th>...</th>\n",
              "      <td>...</td>\n",
              "      <td>...</td>\n",
              "      <td>...</td>\n",
              "    </tr>\n",
              "    <tr>\n",
              "      <th>Venezuela</th>\n",
              "      <td>6.810</td>\n",
              "      <td>6.084</td>\n",
              "      <td>5.250</td>\n",
              "    </tr>\n",
              "    <tr>\n",
              "      <th>Vietnam</th>\n",
              "      <td>5.360</td>\n",
              "      <td>5.061</td>\n",
              "      <td>5.074</td>\n",
              "    </tr>\n",
              "    <tr>\n",
              "      <th>Yemen</th>\n",
              "      <td>4.077</td>\n",
              "      <td>3.724</td>\n",
              "      <td>3.593</td>\n",
              "    </tr>\n",
              "    <tr>\n",
              "      <th>Zambia</th>\n",
              "      <td>5.129</td>\n",
              "      <td>4.795</td>\n",
              "      <td>4.514</td>\n",
              "    </tr>\n",
              "    <tr>\n",
              "      <th>Zimbabwe</th>\n",
              "      <td>4.610</td>\n",
              "      <td>4.193</td>\n",
              "      <td>3.875</td>\n",
              "    </tr>\n",
              "  </tbody>\n",
              "</table>\n",
              "<p>146 rows × 3 columns</p>\n",
              "</div>"
            ],
            "text/plain": [
              "year          2015   2016   2017\n",
              "Country                         \n",
              "Afghanistan  3.575  3.360  3.794\n",
              "Albania      4.959  4.655  4.644\n",
              "Algeria      5.605  6.355  5.872\n",
              "Angola       4.033  3.866  3.795\n",
              "Argentina    6.574  6.650  6.599\n",
              "...            ...    ...    ...\n",
              "Venezuela    6.810  6.084  5.250\n",
              "Vietnam      5.360  5.061  5.074\n",
              "Yemen        4.077  3.724  3.593\n",
              "Zambia       5.129  4.795  4.514\n",
              "Zimbabwe     4.610  4.193  3.875\n",
              "\n",
              "[146 rows x 3 columns]"
            ]
          },
          "execution_count": 16,
          "metadata": {},
          "output_type": "execute_result"
        }
      ],
      "source": [
        "q11_2"
      ]
    },
    {
      "cell_type": "code",
      "execution_count": null,
      "id": "eb112c2a",
      "metadata": {
        "id": "eb112c2a",
        "outputId": "6d46fff6-bd4c-4b7a-bc27-e56d41498006"
      },
      "outputs": [
        {
          "data": {
            "text/html": [
              "<div>\n",
              "<style scoped>\n",
              "    .dataframe tbody tr th:only-of-type {\n",
              "        vertical-align: middle;\n",
              "    }\n",
              "\n",
              "    .dataframe tbody tr th {\n",
              "        vertical-align: top;\n",
              "    }\n",
              "\n",
              "    .dataframe thead th {\n",
              "        text-align: right;\n",
              "    }\n",
              "</style>\n",
              "<table border=\"1\" class=\"dataframe\">\n",
              "  <thead>\n",
              "    <tr style=\"text-align: right;\">\n",
              "      <th>year</th>\n",
              "      <th>2015</th>\n",
              "      <th>2016</th>\n",
              "      <th>2017</th>\n",
              "      <th>ratio</th>\n",
              "    </tr>\n",
              "    <tr>\n",
              "      <th>Country</th>\n",
              "      <th></th>\n",
              "      <th></th>\n",
              "      <th></th>\n",
              "      <th></th>\n",
              "    </tr>\n",
              "  </thead>\n",
              "  <tbody>\n",
              "    <tr>\n",
              "      <th>Afghanistan</th>\n",
              "      <td>3.575</td>\n",
              "      <td>3.360</td>\n",
              "      <td>3.794</td>\n",
              "      <td>0.1095</td>\n",
              "    </tr>\n",
              "    <tr>\n",
              "      <th>Albania</th>\n",
              "      <td>4.959</td>\n",
              "      <td>4.655</td>\n",
              "      <td>4.644</td>\n",
              "      <td>-0.1575</td>\n",
              "    </tr>\n",
              "    <tr>\n",
              "      <th>Algeria</th>\n",
              "      <td>5.605</td>\n",
              "      <td>6.355</td>\n",
              "      <td>5.872</td>\n",
              "      <td>0.1335</td>\n",
              "    </tr>\n",
              "    <tr>\n",
              "      <th>Angola</th>\n",
              "      <td>4.033</td>\n",
              "      <td>3.866</td>\n",
              "      <td>3.795</td>\n",
              "      <td>-0.1190</td>\n",
              "    </tr>\n",
              "    <tr>\n",
              "      <th>Argentina</th>\n",
              "      <td>6.574</td>\n",
              "      <td>6.650</td>\n",
              "      <td>6.599</td>\n",
              "      <td>0.0125</td>\n",
              "    </tr>\n",
              "    <tr>\n",
              "      <th>...</th>\n",
              "      <td>...</td>\n",
              "      <td>...</td>\n",
              "      <td>...</td>\n",
              "      <td>...</td>\n",
              "    </tr>\n",
              "    <tr>\n",
              "      <th>Venezuela</th>\n",
              "      <td>6.810</td>\n",
              "      <td>6.084</td>\n",
              "      <td>5.250</td>\n",
              "      <td>-0.7800</td>\n",
              "    </tr>\n",
              "    <tr>\n",
              "      <th>Vietnam</th>\n",
              "      <td>5.360</td>\n",
              "      <td>5.061</td>\n",
              "      <td>5.074</td>\n",
              "      <td>-0.1430</td>\n",
              "    </tr>\n",
              "    <tr>\n",
              "      <th>Yemen</th>\n",
              "      <td>4.077</td>\n",
              "      <td>3.724</td>\n",
              "      <td>3.593</td>\n",
              "      <td>-0.2420</td>\n",
              "    </tr>\n",
              "    <tr>\n",
              "      <th>Zambia</th>\n",
              "      <td>5.129</td>\n",
              "      <td>4.795</td>\n",
              "      <td>4.514</td>\n",
              "      <td>-0.3075</td>\n",
              "    </tr>\n",
              "    <tr>\n",
              "      <th>Zimbabwe</th>\n",
              "      <td>4.610</td>\n",
              "      <td>4.193</td>\n",
              "      <td>3.875</td>\n",
              "      <td>-0.3675</td>\n",
              "    </tr>\n",
              "  </tbody>\n",
              "</table>\n",
              "<p>146 rows × 4 columns</p>\n",
              "</div>"
            ],
            "text/plain": [
              "year          2015   2016   2017   ratio\n",
              "Country                                 \n",
              "Afghanistan  3.575  3.360  3.794  0.1095\n",
              "Albania      4.959  4.655  4.644 -0.1575\n",
              "Algeria      5.605  6.355  5.872  0.1335\n",
              "Angola       4.033  3.866  3.795 -0.1190\n",
              "Argentina    6.574  6.650  6.599  0.0125\n",
              "...            ...    ...    ...     ...\n",
              "Venezuela    6.810  6.084  5.250 -0.7800\n",
              "Vietnam      5.360  5.061  5.074 -0.1430\n",
              "Yemen        4.077  3.724  3.593 -0.2420\n",
              "Zambia       5.129  4.795  4.514 -0.3075\n",
              "Zimbabwe     4.610  4.193  3.875 -0.3675\n",
              "\n",
              "[146 rows x 4 columns]"
            ]
          },
          "execution_count": 17,
          "metadata": {},
          "output_type": "execute_result"
        }
      ],
      "source": [
        "q11_2['ratio']=(q11_2[2017] - q11_2[2015])/2\n",
        "q11_2"
      ]
    },
    {
      "cell_type": "code",
      "execution_count": null,
      "id": "93c19930",
      "metadata": {
        "id": "93c19930",
        "outputId": "564ccb6a-cf1e-4df8-dae5-27cc58f84e76"
      },
      "outputs": [
        {
          "data": {
            "text/plain": [
              "Index(['Latvia', 'Romania', 'Togo'], dtype='object', name='Country')"
            ]
          },
          "execution_count": 18,
          "metadata": {},
          "output_type": "execute_result"
        }
      ],
      "source": [
        "# 답\n",
        "q11_2.ratio.nlargest(3).index"
      ]
    },
    {
      "cell_type": "markdown",
      "id": "94c8f031",
      "metadata": {
        "id": "94c8f031"
      },
      "source": [
        "## Q3"
      ]
    },
    {
      "cell_type": "code",
      "execution_count": null,
      "id": "b956c241",
      "metadata": {
        "id": "b956c241"
      },
      "outputs": [],
      "source": [
        "import scipy.stats as st  # one-way 만 가능\n",
        "\n",
        "from statsmodels.formula.api import ols  # two-way 이상 가능\n",
        "from statsmodels.stats.anova import anova_lm"
      ]
    },
    {
      "cell_type": "code",
      "execution_count": null,
      "id": "aa23c2ce",
      "metadata": {
        "id": "aa23c2ce"
      },
      "outputs": [],
      "source": [
        "q11_3=q11_2.drop(columns='ratio')"
      ]
    },
    {
      "cell_type": "code",
      "execution_count": null,
      "id": "15db01e2",
      "metadata": {
        "id": "15db01e2",
        "outputId": "17217e2b-94ee-4b51-9185-5f40308afac6"
      },
      "outputs": [
        {
          "data": {
            "text/html": [
              "<div>\n",
              "<style scoped>\n",
              "    .dataframe tbody tr th:only-of-type {\n",
              "        vertical-align: middle;\n",
              "    }\n",
              "\n",
              "    .dataframe tbody tr th {\n",
              "        vertical-align: top;\n",
              "    }\n",
              "\n",
              "    .dataframe thead th {\n",
              "        text-align: right;\n",
              "    }\n",
              "</style>\n",
              "<table border=\"1\" class=\"dataframe\">\n",
              "  <thead>\n",
              "    <tr style=\"text-align: right;\">\n",
              "      <th>year</th>\n",
              "      <th>2015</th>\n",
              "      <th>2016</th>\n",
              "      <th>2017</th>\n",
              "    </tr>\n",
              "    <tr>\n",
              "      <th>Country</th>\n",
              "      <th></th>\n",
              "      <th></th>\n",
              "      <th></th>\n",
              "    </tr>\n",
              "  </thead>\n",
              "  <tbody>\n",
              "    <tr>\n",
              "      <th>Afghanistan</th>\n",
              "      <td>3.575</td>\n",
              "      <td>3.360</td>\n",
              "      <td>3.794</td>\n",
              "    </tr>\n",
              "    <tr>\n",
              "      <th>Albania</th>\n",
              "      <td>4.959</td>\n",
              "      <td>4.655</td>\n",
              "      <td>4.644</td>\n",
              "    </tr>\n",
              "    <tr>\n",
              "      <th>Algeria</th>\n",
              "      <td>5.605</td>\n",
              "      <td>6.355</td>\n",
              "      <td>5.872</td>\n",
              "    </tr>\n",
              "    <tr>\n",
              "      <th>Angola</th>\n",
              "      <td>4.033</td>\n",
              "      <td>3.866</td>\n",
              "      <td>3.795</td>\n",
              "    </tr>\n",
              "    <tr>\n",
              "      <th>Argentina</th>\n",
              "      <td>6.574</td>\n",
              "      <td>6.650</td>\n",
              "      <td>6.599</td>\n",
              "    </tr>\n",
              "    <tr>\n",
              "      <th>...</th>\n",
              "      <td>...</td>\n",
              "      <td>...</td>\n",
              "      <td>...</td>\n",
              "    </tr>\n",
              "    <tr>\n",
              "      <th>Venezuela</th>\n",
              "      <td>6.810</td>\n",
              "      <td>6.084</td>\n",
              "      <td>5.250</td>\n",
              "    </tr>\n",
              "    <tr>\n",
              "      <th>Vietnam</th>\n",
              "      <td>5.360</td>\n",
              "      <td>5.061</td>\n",
              "      <td>5.074</td>\n",
              "    </tr>\n",
              "    <tr>\n",
              "      <th>Yemen</th>\n",
              "      <td>4.077</td>\n",
              "      <td>3.724</td>\n",
              "      <td>3.593</td>\n",
              "    </tr>\n",
              "    <tr>\n",
              "      <th>Zambia</th>\n",
              "      <td>5.129</td>\n",
              "      <td>4.795</td>\n",
              "      <td>4.514</td>\n",
              "    </tr>\n",
              "    <tr>\n",
              "      <th>Zimbabwe</th>\n",
              "      <td>4.610</td>\n",
              "      <td>4.193</td>\n",
              "      <td>3.875</td>\n",
              "    </tr>\n",
              "  </tbody>\n",
              "</table>\n",
              "<p>146 rows × 3 columns</p>\n",
              "</div>"
            ],
            "text/plain": [
              "year          2015   2016   2017\n",
              "Country                         \n",
              "Afghanistan  3.575  3.360  3.794\n",
              "Albania      4.959  4.655  4.644\n",
              "Algeria      5.605  6.355  5.872\n",
              "Angola       4.033  3.866  3.795\n",
              "Argentina    6.574  6.650  6.599\n",
              "...            ...    ...    ...\n",
              "Venezuela    6.810  6.084  5.250\n",
              "Vietnam      5.360  5.061  5.074\n",
              "Yemen        4.077  3.724  3.593\n",
              "Zambia       5.129  4.795  4.514\n",
              "Zimbabwe     4.610  4.193  3.875\n",
              "\n",
              "[146 rows x 3 columns]"
            ]
          },
          "execution_count": 21,
          "metadata": {},
          "output_type": "execute_result"
        }
      ],
      "source": [
        "q11_3"
      ]
    },
    {
      "cell_type": "code",
      "execution_count": null,
      "id": "48760185",
      "metadata": {
        "id": "48760185",
        "outputId": "73348208-6714-48af-c82d-634f2414f587"
      },
      "outputs": [
        {
          "data": {
            "text/plain": [
              "F_onewayResult(statistic=0.004276725037689305, pvalue=0.9957324489944479)"
            ]
          },
          "execution_count": 22,
          "metadata": {},
          "output_type": "execute_result"
        }
      ],
      "source": [
        "st.f_oneway(q11_3[2015], q11_3[2016], q11_3[2017])"
      ]
    },
    {
      "cell_type": "code",
      "execution_count": null,
      "id": "7b0094d8",
      "metadata": {
        "id": "7b0094d8"
      },
      "outputs": [],
      "source": [
        "?st.f_oneway"
      ]
    },
    {
      "cell_type": "code",
      "execution_count": null,
      "id": "cdeae508",
      "metadata": {
        "id": "cdeae508",
        "outputId": "6e3482e8-fa92-4cd2-fda6-e23215854981"
      },
      "outputs": [
        {
          "data": {
            "text/plain": [
              "F_onewayResult(statistic=0.004276725037689305, pvalue=0.9957324489944479)"
            ]
          },
          "execution_count": 24,
          "metadata": {},
          "output_type": "execute_result"
        }
      ],
      "source": [
        "st.f_oneway(*q11_3.values.T, axis=0)"
      ]
    },
    {
      "cell_type": "code",
      "execution_count": null,
      "id": "5766f2a8",
      "metadata": {
        "id": "5766f2a8"
      },
      "outputs": [],
      "source": [
        "q11_3_2=data11[data11.Country.isin(q11_1_list)]"
      ]
    },
    {
      "cell_type": "code",
      "execution_count": null,
      "id": "d818b007",
      "metadata": {
        "id": "d818b007",
        "outputId": "545f0a8f-b551-4cb2-911b-913c599cf376"
      },
      "outputs": [
        {
          "data": {
            "text/plain": [
              "Index(['Country', 'Happiness_Rank', 'Happiness_Score', 'year'], dtype='object')"
            ]
          },
          "execution_count": 26,
          "metadata": {},
          "output_type": "execute_result"
        }
      ],
      "source": [
        "q11_3_2.columns"
      ]
    },
    {
      "cell_type": "code",
      "execution_count": null,
      "id": "09888b71",
      "metadata": {
        "id": "09888b71"
      },
      "outputs": [],
      "source": [
        "anova1=ols('Happiness_Score~C(year)', data=q11_3_2).fit()"
      ]
    },
    {
      "cell_type": "code",
      "execution_count": null,
      "id": "d80a964d",
      "metadata": {
        "id": "d80a964d",
        "outputId": "fda89b2d-b893-4e40-eb93-e65dacb099dc"
      },
      "outputs": [
        {
          "data": {
            "text/html": [
              "<table class=\"simpletable\">\n",
              "<caption>OLS Regression Results</caption>\n",
              "<tr>\n",
              "  <th>Dep. Variable:</th>     <td>Happiness_Score</td> <th>  R-squared:         </th> <td>   0.000</td>\n",
              "</tr>\n",
              "<tr>\n",
              "  <th>Model:</th>                   <td>OLS</td>       <th>  Adj. R-squared:    </th> <td>  -0.005</td>\n",
              "</tr>\n",
              "<tr>\n",
              "  <th>Method:</th>             <td>Least Squares</td>  <th>  F-statistic:       </th> <td>0.004277</td>\n",
              "</tr>\n",
              "<tr>\n",
              "  <th>Date:</th>             <td>Sat, 29 Jul 2023</td> <th>  Prob (F-statistic):</th>  <td> 0.996</td> \n",
              "</tr>\n",
              "<tr>\n",
              "  <th>Time:</th>                 <td>10:41:50</td>     <th>  Log-Likelihood:    </th> <td> -678.98</td>\n",
              "</tr>\n",
              "<tr>\n",
              "  <th>No. Observations:</th>      <td>   438</td>      <th>  AIC:               </th> <td>   1364.</td>\n",
              "</tr>\n",
              "<tr>\n",
              "  <th>Df Residuals:</th>          <td>   435</td>      <th>  BIC:               </th> <td>   1376.</td>\n",
              "</tr>\n",
              "<tr>\n",
              "  <th>Df Model:</th>              <td>     2</td>      <th>                     </th>     <td> </td>   \n",
              "</tr>\n",
              "<tr>\n",
              "  <th>Covariance Type:</th>      <td>nonrobust</td>    <th>                     </th>     <td> </td>   \n",
              "</tr>\n",
              "</table>\n",
              "<table class=\"simpletable\">\n",
              "<tr>\n",
              "         <td></td>            <th>coef</th>     <th>std err</th>      <th>t</th>      <th>P>|t|</th>  <th>[0.025</th>    <th>0.975]</th>  \n",
              "</tr>\n",
              "<tr>\n",
              "  <th>Intercept</th>       <td>    5.3959</td> <td>    0.095</td> <td>   56.983</td> <td> 0.000</td> <td>    5.210</td> <td>    5.582</td>\n",
              "</tr>\n",
              "<tr>\n",
              "  <th>C(year)[T.2016]</th> <td>   -0.0112</td> <td>    0.134</td> <td>   -0.084</td> <td> 0.933</td> <td>   -0.274</td> <td>    0.252</td>\n",
              "</tr>\n",
              "<tr>\n",
              "  <th>C(year)[T.2017]</th> <td>   -0.0010</td> <td>    0.134</td> <td>   -0.007</td> <td> 0.994</td> <td>   -0.264</td> <td>    0.262</td>\n",
              "</tr>\n",
              "</table>\n",
              "<table class=\"simpletable\">\n",
              "<tr>\n",
              "  <th>Omnibus:</th>       <td>41.991</td> <th>  Durbin-Watson:     </th> <td>   0.078</td>\n",
              "</tr>\n",
              "<tr>\n",
              "  <th>Prob(Omnibus):</th> <td> 0.000</td> <th>  Jarque-Bera (JB):  </th> <td>  13.285</td>\n",
              "</tr>\n",
              "<tr>\n",
              "  <th>Skew:</th>          <td> 0.050</td> <th>  Prob(JB):          </th> <td> 0.00130</td>\n",
              "</tr>\n",
              "<tr>\n",
              "  <th>Kurtosis:</th>      <td> 2.153</td> <th>  Cond. No.          </th> <td>    3.73</td>\n",
              "</tr>\n",
              "</table><br/><br/>Notes:<br/>[1] Standard Errors assume that the covariance matrix of the errors is correctly specified."
            ],
            "text/plain": [
              "<class 'statsmodels.iolib.summary.Summary'>\n",
              "\"\"\"\n",
              "                            OLS Regression Results                            \n",
              "==============================================================================\n",
              "Dep. Variable:        Happiness_Score   R-squared:                       0.000\n",
              "Model:                            OLS   Adj. R-squared:                 -0.005\n",
              "Method:                 Least Squares   F-statistic:                  0.004277\n",
              "Date:                Sat, 29 Jul 2023   Prob (F-statistic):              0.996\n",
              "Time:                        10:41:50   Log-Likelihood:                -678.98\n",
              "No. Observations:                 438   AIC:                             1364.\n",
              "Df Residuals:                     435   BIC:                             1376.\n",
              "Df Model:                           2                                         \n",
              "Covariance Type:            nonrobust                                         \n",
              "===================================================================================\n",
              "                      coef    std err          t      P>|t|      [0.025      0.975]\n",
              "-----------------------------------------------------------------------------------\n",
              "Intercept           5.3959      0.095     56.983      0.000       5.210       5.582\n",
              "C(year)[T.2016]    -0.0112      0.134     -0.084      0.933      -0.274       0.252\n",
              "C(year)[T.2017]    -0.0010      0.134     -0.007      0.994      -0.264       0.262\n",
              "==============================================================================\n",
              "Omnibus:                       41.991   Durbin-Watson:                   0.078\n",
              "Prob(Omnibus):                  0.000   Jarque-Bera (JB):               13.285\n",
              "Skew:                           0.050   Prob(JB):                      0.00130\n",
              "Kurtosis:                       2.153   Cond. No.                         3.73\n",
              "==============================================================================\n",
              "\n",
              "Notes:\n",
              "[1] Standard Errors assume that the covariance matrix of the errors is correctly specified.\n",
              "\"\"\""
            ]
          },
          "execution_count": 28,
          "metadata": {},
          "output_type": "execute_result"
        }
      ],
      "source": [
        "anova1.summary()"
      ]
    },
    {
      "cell_type": "code",
      "execution_count": null,
      "id": "2c192ed5",
      "metadata": {
        "id": "2c192ed5",
        "outputId": "bf37bdbb-f1ba-459e-d04f-1db18643258b"
      },
      "outputs": [
        {
          "data": {
            "text/html": [
              "<div>\n",
              "<style scoped>\n",
              "    .dataframe tbody tr th:only-of-type {\n",
              "        vertical-align: middle;\n",
              "    }\n",
              "\n",
              "    .dataframe tbody tr th {\n",
              "        vertical-align: top;\n",
              "    }\n",
              "\n",
              "    .dataframe thead th {\n",
              "        text-align: right;\n",
              "    }\n",
              "</style>\n",
              "<table border=\"1\" class=\"dataframe\">\n",
              "  <thead>\n",
              "    <tr style=\"text-align: right;\">\n",
              "      <th></th>\n",
              "      <th>df</th>\n",
              "      <th>sum_sq</th>\n",
              "      <th>mean_sq</th>\n",
              "      <th>F</th>\n",
              "      <th>PR(&gt;F)</th>\n",
              "    </tr>\n",
              "  </thead>\n",
              "  <tbody>\n",
              "    <tr>\n",
              "      <th>C(year)</th>\n",
              "      <td>2.0</td>\n",
              "      <td>0.011198</td>\n",
              "      <td>0.005599</td>\n",
              "      <td>0.004277</td>\n",
              "      <td>0.995732</td>\n",
              "    </tr>\n",
              "    <tr>\n",
              "      <th>Residual</th>\n",
              "      <td>435.0</td>\n",
              "      <td>569.472307</td>\n",
              "      <td>1.309132</td>\n",
              "      <td>NaN</td>\n",
              "      <td>NaN</td>\n",
              "    </tr>\n",
              "  </tbody>\n",
              "</table>\n",
              "</div>"
            ],
            "text/plain": [
              "             df      sum_sq   mean_sq         F    PR(>F)\n",
              "C(year)     2.0    0.011198  0.005599  0.004277  0.995732\n",
              "Residual  435.0  569.472307  1.309132       NaN       NaN"
            ]
          },
          "execution_count": 29,
          "metadata": {},
          "output_type": "execute_result"
        }
      ],
      "source": [
        "anova_lm(anova1)"
      ]
    },
    {
      "cell_type": "code",
      "execution_count": null,
      "id": "ad029738",
      "metadata": {
        "id": "ad029738",
        "outputId": "5050830b-399c-4c76-8829-6fc8964fe69d"
      },
      "outputs": [
        {
          "data": {
            "text/plain": [
              "0.0042"
            ]
          },
          "execution_count": 30,
          "metadata": {},
          "output_type": "execute_result"
        }
      ],
      "source": [
        "# 답\n",
        "np.trunc(anova_lm(anova1)['F'][0]*10000) / 10000"
      ]
    },
    {
      "cell_type": "code",
      "execution_count": null,
      "id": "332320d7",
      "metadata": {
        "id": "332320d7"
      },
      "outputs": [],
      "source": [
        "from statsmodels.stats.multicomp import pairwise_tukeyhsd"
      ]
    },
    {
      "cell_type": "code",
      "execution_count": null,
      "id": "98d6d0c2",
      "metadata": {
        "id": "98d6d0c2"
      },
      "outputs": [],
      "source": [
        "# ?pairwise_tukeyhsd"
      ]
    },
    {
      "cell_type": "code",
      "execution_count": null,
      "id": "31475e76",
      "metadata": {
        "id": "31475e76",
        "outputId": "4ba40812-3e37-485a-81bd-32a8ca745a5c"
      },
      "outputs": [
        {
          "name": "stdout",
          "output_type": "stream",
          "text": [
            "Multiple Comparison of Means - Tukey HSD, FWER=0.05\n",
            "==================================================\n",
            "group1 group2 meandiff p-adj  lower  upper  reject\n",
            "--------------------------------------------------\n",
            "  2015   2016  -0.0112   0.9 -0.3261 0.3038  False\n",
            "  2015   2017   -0.001   0.9 -0.3159  0.314  False\n",
            "  2016   2017   0.0102   0.9 -0.3048 0.3251  False\n",
            "--------------------------------------------------\n"
          ]
        }
      ],
      "source": [
        "# 참고 다중비교\n",
        "print(pairwise_tukeyhsd(q11_3_2.Happiness_Score, q11_3_2.year))"
      ]
    },
    {
      "cell_type": "markdown",
      "id": "22b29233",
      "metadata": {
        "id": "22b29233"
      },
      "source": [
        "# 모의고사 12"
      ]
    },
    {
      "cell_type": "code",
      "execution_count": null,
      "id": "de8f42b5",
      "metadata": {
        "id": "de8f42b5"
      },
      "outputs": [],
      "source": [
        "data12 = pd.read_csv('Dataset_12.csv')"
      ]
    },
    {
      "cell_type": "markdown",
      "id": "c4223872",
      "metadata": {
        "id": "c4223872"
      },
      "source": [
        "## Q1"
      ]
    },
    {
      "cell_type": "code",
      "execution_count": null,
      "id": "32aa8978",
      "metadata": {
        "id": "32aa8978",
        "outputId": "e9c76f87-d6aa-4e75-e88c-24546a47f225"
      },
      "outputs": [
        {
          "name": "stdout",
          "output_type": "stream",
          "text": [
            "<class 'pandas.core.frame.DataFrame'>\n",
            "RangeIndex: 5000 entries, 0 to 4999\n",
            "Data columns (total 7 columns):\n",
            " #   Column              Non-Null Count  Dtype \n",
            "---  ------              --------------  ----- \n",
            " 0   Age                 5000 non-null   int64 \n",
            " 1   Gender              5000 non-null   object\n",
            " 2   Dependent_Count     5000 non-null   int64 \n",
            " 3   Education_Level     5000 non-null   object\n",
            " 4   is_Married          5000 non-null   int64 \n",
            " 5   Read_Book_per_Year  5000 non-null   int64 \n",
            " 6   Income_Range        5000 non-null   object\n",
            "dtypes: int64(4), object(3)\n",
            "memory usage: 273.6+ KB\n"
          ]
        }
      ],
      "source": [
        "data12.info()"
      ]
    },
    {
      "cell_type": "code",
      "execution_count": null,
      "id": "61b355af",
      "metadata": {
        "id": "61b355af",
        "outputId": "a1639155-3323-41ed-9b63-23485305f908"
      },
      "outputs": [
        {
          "data": {
            "text/plain": [
              "Index(['Age', 'Dependent_Count', 'is_Married', 'Read_Book_per_Year'], dtype='object')"
            ]
          },
          "execution_count": 36,
          "metadata": {},
          "output_type": "execute_result"
        }
      ],
      "source": [
        "num_list=data12.columns[data12.dtypes != 'object']\n",
        "num_list"
      ]
    },
    {
      "cell_type": "code",
      "execution_count": null,
      "id": "a46013d0",
      "metadata": {
        "id": "a46013d0",
        "outputId": "e0f755d2-9efe-48ba-a779-3b5eb301b9ef"
      },
      "outputs": [
        {
          "data": {
            "text/html": [
              "<div>\n",
              "<style scoped>\n",
              "    .dataframe tbody tr th:only-of-type {\n",
              "        vertical-align: middle;\n",
              "    }\n",
              "\n",
              "    .dataframe tbody tr th {\n",
              "        vertical-align: top;\n",
              "    }\n",
              "\n",
              "    .dataframe thead th {\n",
              "        text-align: right;\n",
              "    }\n",
              "</style>\n",
              "<table border=\"1\" class=\"dataframe\">\n",
              "  <thead>\n",
              "    <tr style=\"text-align: right;\">\n",
              "      <th></th>\n",
              "      <th>Age</th>\n",
              "      <th>Dependent_Count</th>\n",
              "      <th>is_Married</th>\n",
              "      <th>Read_Book_per_Year</th>\n",
              "    </tr>\n",
              "  </thead>\n",
              "  <tbody>\n",
              "    <tr>\n",
              "      <th>Age</th>\n",
              "      <td>1.000000</td>\n",
              "      <td>-0.143767</td>\n",
              "      <td>0.040360</td>\n",
              "      <td>0.796843</td>\n",
              "    </tr>\n",
              "    <tr>\n",
              "      <th>Dependent_Count</th>\n",
              "      <td>-0.143767</td>\n",
              "      <td>1.000000</td>\n",
              "      <td>0.024472</td>\n",
              "      <td>-0.132591</td>\n",
              "    </tr>\n",
              "    <tr>\n",
              "      <th>is_Married</th>\n",
              "      <td>0.040360</td>\n",
              "      <td>0.024472</td>\n",
              "      <td>1.000000</td>\n",
              "      <td>0.027221</td>\n",
              "    </tr>\n",
              "    <tr>\n",
              "      <th>Read_Book_per_Year</th>\n",
              "      <td>0.796843</td>\n",
              "      <td>-0.132591</td>\n",
              "      <td>0.027221</td>\n",
              "      <td>1.000000</td>\n",
              "    </tr>\n",
              "  </tbody>\n",
              "</table>\n",
              "</div>"
            ],
            "text/plain": [
              "                         Age  Dependent_Count  is_Married  Read_Book_per_Year\n",
              "Age                 1.000000        -0.143767    0.040360            0.796843\n",
              "Dependent_Count    -0.143767         1.000000    0.024472           -0.132591\n",
              "is_Married          0.040360         0.024472    1.000000            0.027221\n",
              "Read_Book_per_Year  0.796843        -0.132591    0.027221            1.000000"
            ]
          },
          "execution_count": 37,
          "metadata": {},
          "output_type": "execute_result"
        }
      ],
      "source": [
        "data12[num_list].corr()"
      ]
    },
    {
      "cell_type": "markdown",
      "id": "00205351",
      "metadata": {
        "id": "00205351"
      },
      "source": [
        "## Q2"
      ]
    },
    {
      "cell_type": "code",
      "execution_count": null,
      "id": "a9d6b7e7",
      "metadata": {
        "id": "a9d6b7e7",
        "outputId": "9b199333-7e9d-4ccf-a88a-1f70268aebd9"
      },
      "outputs": [
        {
          "data": {
            "text/plain": [
              "array(['석사', '박사', '학사', '고졸'], dtype=object)"
            ]
          },
          "execution_count": 38,
          "metadata": {},
          "output_type": "execute_result"
        }
      ],
      "source": [
        "data12.Education_Level.unique()"
      ]
    },
    {
      "cell_type": "code",
      "execution_count": null,
      "id": "0d3411dd",
      "metadata": {
        "id": "0d3411dd"
      },
      "outputs": [],
      "source": [
        "data12_2_1=data12[data12.Education_Level.isin(['석사', '박사'])]['Read_Book_per_Year']\n",
        "data12_2_0=data12[~data12.Education_Level.isin(['석사', '박사'])]['Read_Book_per_Year']"
      ]
    },
    {
      "cell_type": "code",
      "execution_count": null,
      "id": "34429d06",
      "metadata": {
        "id": "34429d06",
        "outputId": "c4208a46-c9c1-4bb8-f21d-647d6b09717f"
      },
      "outputs": [
        {
          "data": {
            "text/plain": [
              "0.2685589229897138"
            ]
          },
          "execution_count": 40,
          "metadata": {},
          "output_type": "execute_result"
        }
      ],
      "source": [
        "# 답\n",
        "q12_2_out=st.ttest_ind(data12_2_1, data12_2_0, equal_var=True)\n",
        "q12_2_out.pvalue"
      ]
    },
    {
      "cell_type": "markdown",
      "id": "c0528afe",
      "metadata": {
        "id": "c0528afe"
      },
      "source": [
        "## Q3"
      ]
    },
    {
      "cell_type": "code",
      "execution_count": null,
      "id": "067c6173",
      "metadata": {
        "id": "067c6173"
      },
      "outputs": [],
      "source": [
        "q12_3=data12[data12.Education_Level.isin(['석사', '박사'])]\n",
        "q12_3_2=q12_3[q12_3.Income_Range != 'X']"
      ]
    },
    {
      "cell_type": "code",
      "execution_count": null,
      "id": "4607c661",
      "metadata": {
        "id": "4607c661",
        "outputId": "69d77297-24ad-4c72-bd51-dc72e61ebbf3"
      },
      "outputs": [
        {
          "data": {
            "text/plain": [
              "A    997\n",
              "B    450\n",
              "D    414\n",
              "C    346\n",
              "E    184\n",
              "Name: Income_Range, dtype: int64"
            ]
          },
          "execution_count": 42,
          "metadata": {},
          "output_type": "execute_result"
        }
      ],
      "source": [
        "q12_3_2.Income_Range.value_counts()"
      ]
    },
    {
      "cell_type": "code",
      "execution_count": null,
      "id": "fab0266f",
      "metadata": {
        "id": "fab0266f"
      },
      "outputs": [],
      "source": [
        "q12_3_list=num_list.drop('Read_Book_per_Year')"
      ]
    },
    {
      "cell_type": "code",
      "execution_count": null,
      "id": "93e1f558",
      "metadata": {
        "id": "93e1f558"
      },
      "outputs": [],
      "source": [
        "from sklearn.linear_model import LinearRegression"
      ]
    },
    {
      "cell_type": "code",
      "execution_count": null,
      "id": "25b3af41",
      "metadata": {
        "id": "25b3af41"
      },
      "outputs": [],
      "source": [
        "lm=LinearRegression().fit(q12_3_2[q12_3_list], q12_3_2['Read_Book_per_Year'])"
      ]
    },
    {
      "cell_type": "code",
      "execution_count": null,
      "id": "c4b24c29",
      "metadata": {
        "id": "c4b24c29",
        "outputId": "fcc8e89b-f36e-4e1a-e76f-06738571b979"
      },
      "outputs": [
        {
          "data": {
            "text/plain": [
              "Index(['Age', 'Dependent_Count', 'is_Married'], dtype='object')"
            ]
          },
          "execution_count": 46,
          "metadata": {},
          "output_type": "execute_result"
        }
      ],
      "source": [
        "q12_3_list"
      ]
    },
    {
      "cell_type": "code",
      "execution_count": null,
      "id": "1c662023",
      "metadata": {
        "id": "1c662023",
        "outputId": "163dfb54-7d00-4e78-a556-27213b57cff9"
      },
      "outputs": [
        {
          "data": {
            "text/plain": [
              "array([ 0.79476583, -0.22882582,  0.14567566])"
            ]
          },
          "execution_count": 47,
          "metadata": {},
          "output_type": "execute_result"
        }
      ],
      "source": [
        "lm.coef_"
      ]
    },
    {
      "cell_type": "code",
      "execution_count": null,
      "id": "06c08054",
      "metadata": {
        "id": "06c08054",
        "outputId": "a27a1afa-988a-47fe-ed9f-13931eae7d66"
      },
      "outputs": [
        {
          "data": {
            "text/plain": [
              "7.947658328251059"
            ]
          },
          "execution_count": 48,
          "metadata": {},
          "output_type": "execute_result"
        }
      ],
      "source": [
        "# 답\n",
        "lm.coef_[0] * (40-30)"
      ]
    },
    {
      "cell_type": "markdown",
      "id": "79f253b3",
      "metadata": {
        "id": "79f253b3"
      },
      "source": [
        "## 모의고사 13"
      ]
    },
    {
      "cell_type": "code",
      "execution_count": null,
      "id": "62ce575e",
      "metadata": {
        "id": "62ce575e"
      },
      "outputs": [],
      "source": [
        "import pandas as pd"
      ]
    },
    {
      "cell_type": "code",
      "execution_count": null,
      "id": "12ef6a6e",
      "metadata": {
        "id": "12ef6a6e"
      },
      "outputs": [],
      "source": [
        "data13 = pd.read_csv(\"Dataset_13_train.csv\")"
      ]
    },
    {
      "cell_type": "code",
      "execution_count": null,
      "id": "71e7c5db",
      "metadata": {
        "id": "71e7c5db",
        "outputId": "5a66d92d-0368-4080-ecb2-cbb6ac8e0659"
      },
      "outputs": [
        {
          "name": "stdout",
          "output_type": "stream",
          "text": [
            "<class 'pandas.core.frame.DataFrame'>\n",
            "RangeIndex: 1500 entries, 0 to 1499\n",
            "Data columns (total 10 columns):\n",
            " #   Column                  Non-Null Count  Dtype  \n",
            "---  ------                  --------------  -----  \n",
            " 0   city_development_index  1500 non-null   float64\n",
            " 1   gender                  1500 non-null   object \n",
            " 2   relevent_experience     1500 non-null   int64  \n",
            " 3   enrolled_university     1500 non-null   int64  \n",
            " 4   education_level         1500 non-null   object \n",
            " 5   major_discipline        1500 non-null   object \n",
            " 6   experience              1500 non-null   int64  \n",
            " 7   last_new_job            1500 non-null   int64  \n",
            " 8   training_hours          1500 non-null   int64  \n",
            " 9   target                  1500 non-null   int64  \n",
            "dtypes: float64(1), int64(6), object(3)\n",
            "memory usage: 117.3+ KB\n"
          ]
        }
      ],
      "source": [
        "data13.info()"
      ]
    },
    {
      "cell_type": "code",
      "execution_count": null,
      "id": "bcc3904c",
      "metadata": {
        "id": "bcc3904c",
        "outputId": "e55cc281-ad2c-4642-de38-5a08a17151c7"
      },
      "outputs": [
        {
          "data": {
            "text/plain": [
              "Index(['city_development_index', 'gender', 'relevent_experience',\n",
              "       'enrolled_university', 'education_level', 'major_discipline',\n",
              "       'experience', 'last_new_job', 'training_hours', 'target'],\n",
              "      dtype='object')"
            ]
          },
          "execution_count": 52,
          "metadata": {},
          "output_type": "execute_result"
        }
      ],
      "source": [
        "data13.columns\n",
        "# ['city_development_index', 'gender', 'relevent_experience',\n",
        "#        'enrolled_university', 'education_level', 'major_discipline',\n",
        "#        'experience', 'last_new_job', 'training_hours', 'target']"
      ]
    },
    {
      "cell_type": "markdown",
      "id": "347d1e03",
      "metadata": {
        "id": "347d1e03"
      },
      "source": [
        "## Q1"
      ]
    },
    {
      "cell_type": "code",
      "execution_count": null,
      "id": "eb785601",
      "metadata": {
        "id": "eb785601",
        "outputId": "d75dc5dd-4ee2-4ad2-9d10-f840020e9c13"
      },
      "outputs": [
        {
          "data": {
            "text/html": [
              "<div>\n",
              "<style scoped>\n",
              "    .dataframe tbody tr th:only-of-type {\n",
              "        vertical-align: middle;\n",
              "    }\n",
              "\n",
              "    .dataframe tbody tr th {\n",
              "        vertical-align: top;\n",
              "    }\n",
              "\n",
              "    .dataframe thead th {\n",
              "        text-align: right;\n",
              "    }\n",
              "</style>\n",
              "<table border=\"1\" class=\"dataframe\">\n",
              "  <thead>\n",
              "    <tr style=\"text-align: right;\">\n",
              "      <th></th>\n",
              "      <th></th>\n",
              "      <th>experience</th>\n",
              "      <th>last_new_job</th>\n",
              "    </tr>\n",
              "    <tr>\n",
              "      <th>gender</th>\n",
              "      <th></th>\n",
              "      <th></th>\n",
              "      <th></th>\n",
              "    </tr>\n",
              "  </thead>\n",
              "  <tbody>\n",
              "    <tr>\n",
              "      <th rowspan=\"2\" valign=\"top\">Female</th>\n",
              "      <th>experience</th>\n",
              "      <td>1.000000</td>\n",
              "      <td>0.451898</td>\n",
              "    </tr>\n",
              "    <tr>\n",
              "      <th>last_new_job</th>\n",
              "      <td>0.451898</td>\n",
              "      <td>1.000000</td>\n",
              "    </tr>\n",
              "    <tr>\n",
              "      <th rowspan=\"2\" valign=\"top\">Male</th>\n",
              "      <th>experience</th>\n",
              "      <td>1.000000</td>\n",
              "      <td>0.411155</td>\n",
              "    </tr>\n",
              "    <tr>\n",
              "      <th>last_new_job</th>\n",
              "      <td>0.411155</td>\n",
              "      <td>1.000000</td>\n",
              "    </tr>\n",
              "  </tbody>\n",
              "</table>\n",
              "</div>"
            ],
            "text/plain": [
              "                     experience  last_new_job\n",
              "gender                                       \n",
              "Female experience      1.000000      0.451898\n",
              "       last_new_job    0.451898      1.000000\n",
              "Male   experience      1.000000      0.411155\n",
              "       last_new_job    0.411155      1.000000"
            ]
          },
          "execution_count": 53,
          "metadata": {},
          "output_type": "execute_result"
        }
      ],
      "source": [
        "data13.groupby('gender')[['experience', 'last_new_job']].corr()\n",
        "\n",
        "# (정답) 0.45"
      ]
    },
    {
      "cell_type": "markdown",
      "id": "5435780c",
      "metadata": {
        "id": "5435780c"
      },
      "source": [
        "## Q2"
      ]
    },
    {
      "cell_type": "code",
      "execution_count": null,
      "id": "7ec2440e",
      "metadata": {
        "id": "7ec2440e",
        "outputId": "9e9d599a-5b4b-404e-aec0-f9caf6214ab8"
      },
      "outputs": [
        {
          "data": {
            "text/plain": [
              "dtype('O')"
            ]
          },
          "execution_count": 54,
          "metadata": {},
          "output_type": "execute_result"
        }
      ],
      "source": [
        "# (1) 데이터 타입 변경\n",
        "q2=data13.copy()\n",
        "q2['target']=q2['target'].astype(str)\n",
        "q2['target'].dtype"
      ]
    },
    {
      "cell_type": "code",
      "execution_count": null,
      "id": "353cb8b6",
      "metadata": {
        "id": "353cb8b6"
      },
      "outputs": [],
      "source": [
        "# (2) 조건에 해당하는 데이터 필터링\n",
        "\n",
        "q2['major_discipline'].value_counts()\n",
        "\n",
        "base=q2['city_development_index'].quantile(0.85)\n",
        "\n",
        "q2_1=q2[(q2['major_discipline']=='STEM') &\n",
        "   (q2['city_development_index'] > base)]"
      ]
    },
    {
      "cell_type": "code",
      "execution_count": null,
      "id": "3507e857",
      "metadata": {
        "id": "3507e857"
      },
      "outputs": [],
      "source": [
        "# (3) 범주형 데이터의 독립성 검정 : 카이스퀘어 검정\n",
        "from scipy.stats import chi2_contingency"
      ]
    },
    {
      "cell_type": "code",
      "execution_count": null,
      "id": "c8160ece",
      "metadata": {
        "id": "c8160ece",
        "outputId": "fe1a2e24-dd4c-44bd-cdcf-e1ab074a4ab3"
      },
      "outputs": [
        {
          "data": {
            "text/plain": [
              "0.64"
            ]
          },
          "execution_count": 57,
          "metadata": {},
          "output_type": "execute_result"
        }
      ],
      "source": [
        "q2_tab=pd.crosstab(index=q2_1.relevent_experience,\n",
        "                     columns=q2_1.target)\n",
        "\n",
        "q2_out=chi2_contingency(q2_tab)[1]\n",
        "\n",
        "# (41.16381604042102,\n",
        "#  1.3999022544385146e-10,\n",
        "#  1,\n",
        "#  array([[213.35891473,  73.64108527],\n",
        "#         [745.64108527, 257.35891473]]))\n",
        "\n",
        "round(q2_out,2)\n",
        "\n",
        "# (정답) 0.64"
      ]
    },
    {
      "cell_type": "markdown",
      "id": "8c5f620c",
      "metadata": {
        "id": "8c5f620c"
      },
      "source": [
        "## Q3"
      ]
    },
    {
      "cell_type": "code",
      "execution_count": null,
      "id": "c698f819",
      "metadata": {
        "id": "c698f819"
      },
      "outputs": [],
      "source": [
        "x_var= data13.columns[data13.dtypes != 'object'].drop('target')"
      ]
    },
    {
      "cell_type": "code",
      "execution_count": null,
      "id": "e9346fe2",
      "metadata": {
        "id": "e9346fe2"
      },
      "outputs": [],
      "source": [
        "from sklearn.tree import DecisionTreeClassifier"
      ]
    },
    {
      "cell_type": "code",
      "execution_count": null,
      "id": "49e1292e",
      "metadata": {
        "id": "49e1292e"
      },
      "outputs": [],
      "source": [
        "dt=DecisionTreeClassifier(random_state=123).fit(data13[x_var], data13.target)\n",
        "\n",
        "test=pd.read_csv('Dataset_13_test.csv')"
      ]
    },
    {
      "cell_type": "code",
      "execution_count": null,
      "id": "e819a48f",
      "metadata": {
        "id": "e819a48f",
        "outputId": "b52daaeb-49c7-45b4-a449-a2acfc4d04b6"
      },
      "outputs": [
        {
          "data": {
            "text/plain": [
              "0.672"
            ]
          },
          "execution_count": 61,
          "metadata": {},
          "output_type": "execute_result"
        }
      ],
      "source": [
        "dt.score(test[x_var], test.target)\n",
        "\n",
        "# (정답) 0.672\n",
        "# (정답) 0.67  (이직 의사 변수를 문자열로 설정)"
      ]
    },
    {
      "cell_type": "markdown",
      "id": "95362627",
      "metadata": {
        "id": "95362627"
      },
      "source": [
        "# 모의고사 14"
      ]
    },
    {
      "cell_type": "code",
      "execution_count": null,
      "id": "49c44c1f",
      "metadata": {
        "id": "49c44c1f"
      },
      "outputs": [],
      "source": [
        "data14 = pd.read_csv(\"Dataset_14.csv\")"
      ]
    },
    {
      "cell_type": "code",
      "execution_count": null,
      "id": "13c2a7d9",
      "metadata": {
        "id": "13c2a7d9",
        "outputId": "f995dc65-e2ee-47ce-9243-b95785b6018d"
      },
      "outputs": [
        {
          "name": "stdout",
          "output_type": "stream",
          "text": [
            "<class 'pandas.core.frame.DataFrame'>\n",
            "RangeIndex: 2000 entries, 0 to 1999\n",
            "Data columns (total 9 columns):\n",
            " #   Column       Non-Null Count  Dtype  \n",
            "---  ------       --------------  -----  \n",
            " 0   id           2000 non-null   int64  \n",
            " 1   published    2000 non-null   object \n",
            " 2   subject      2000 non-null   object \n",
            " 3   level        2000 non-null   object \n",
            " 4   price        2000 non-null   float64\n",
            " 5   subscribers  2000 non-null   int64  \n",
            " 6   reviews      2000 non-null   int64  \n",
            " 7   lectures     2000 non-null   int64  \n",
            " 8   duration     2000 non-null   float64\n",
            "dtypes: float64(2), int64(4), object(3)\n",
            "memory usage: 140.8+ KB\n"
          ]
        }
      ],
      "source": [
        "data14.info()"
      ]
    },
    {
      "cell_type": "markdown",
      "id": "f67a273f",
      "metadata": {
        "id": "f67a273f"
      },
      "source": [
        "## Q1"
      ]
    },
    {
      "cell_type": "code",
      "execution_count": null,
      "id": "d91886bd",
      "metadata": {
        "id": "d91886bd",
        "outputId": "eab3e1f1-5d34-4893-9fe8-f2d69d3532e4"
      },
      "outputs": [
        {
          "data": {
            "text/html": [
              "<div>\n",
              "<style scoped>\n",
              "    .dataframe tbody tr th:only-of-type {\n",
              "        vertical-align: middle;\n",
              "    }\n",
              "\n",
              "    .dataframe tbody tr th {\n",
              "        vertical-align: top;\n",
              "    }\n",
              "\n",
              "    .dataframe thead th {\n",
              "        text-align: right;\n",
              "    }\n",
              "</style>\n",
              "<table border=\"1\" class=\"dataframe\">\n",
              "  <thead>\n",
              "    <tr style=\"text-align: right;\">\n",
              "      <th></th>\n",
              "      <th>id</th>\n",
              "      <th>published</th>\n",
              "      <th>subject</th>\n",
              "      <th>level</th>\n",
              "      <th>price</th>\n",
              "      <th>subscribers</th>\n",
              "      <th>reviews</th>\n",
              "      <th>lectures</th>\n",
              "      <th>duration</th>\n",
              "      <th>income</th>\n",
              "      <th>review_rate</th>\n",
              "    </tr>\n",
              "  </thead>\n",
              "  <tbody>\n",
              "    <tr>\n",
              "      <th>0</th>\n",
              "      <td>1</td>\n",
              "      <td>2015-07-10</td>\n",
              "      <td>Business Finance</td>\n",
              "      <td>Beginner Level</td>\n",
              "      <td>1.7</td>\n",
              "      <td>56</td>\n",
              "      <td>8</td>\n",
              "      <td>18</td>\n",
              "      <td>2.000000</td>\n",
              "      <td>95.2</td>\n",
              "      <td>0.142857</td>\n",
              "    </tr>\n",
              "    <tr>\n",
              "      <th>1</th>\n",
              "      <td>2</td>\n",
              "      <td>2016-10-25</td>\n",
              "      <td>Business Finance</td>\n",
              "      <td>All Levels</td>\n",
              "      <td>17.4</td>\n",
              "      <td>336</td>\n",
              "      <td>6</td>\n",
              "      <td>13</td>\n",
              "      <td>0.683333</td>\n",
              "      <td>5846.4</td>\n",
              "      <td>0.017857</td>\n",
              "    </tr>\n",
              "  </tbody>\n",
              "</table>\n",
              "</div>"
            ],
            "text/plain": [
              "   id   published           subject           level  price  subscribers  \\\n",
              "0   1  2015-07-10  Business Finance  Beginner Level    1.7           56   \n",
              "1   2  2016-10-25  Business Finance      All Levels   17.4          336   \n",
              "\n",
              "   reviews  lectures  duration  income  review_rate  \n",
              "0        8        18  2.000000    95.2     0.142857  \n",
              "1        6        13  0.683333  5846.4     0.017857  "
            ]
          },
          "execution_count": 64,
          "metadata": {},
          "output_type": "execute_result"
        }
      ],
      "source": [
        "data14[\"income\"] = data14[\"price\"] * data14[\"subscribers\"]\n",
        "data14[\"review_rate\"] = data14[\"reviews\"] / data14[\"subscribers\"]\n",
        "data14.head(2)"
      ]
    },
    {
      "cell_type": "code",
      "execution_count": null,
      "id": "d1acf875",
      "metadata": {
        "id": "d1acf875",
        "outputId": "f0ff371b-6bfa-4daf-e643-f4057744baeb"
      },
      "outputs": [
        {
          "data": {
            "text/plain": [
              "59"
            ]
          },
          "execution_count": 65,
          "metadata": {},
          "output_type": "execute_result"
        }
      ],
      "source": [
        "sum((data14[\"income\"] >= 10000) & (data14[\"review_rate\"] >= 0.1))\n",
        "\n",
        "# (정답) 59"
      ]
    },
    {
      "cell_type": "markdown",
      "id": "a813e9dd",
      "metadata": {
        "id": "a813e9dd"
      },
      "source": [
        "## Q2"
      ]
    },
    {
      "cell_type": "code",
      "execution_count": null,
      "id": "cae97edc",
      "metadata": {
        "id": "cae97edc",
        "outputId": "d5976ac3-0d15-46d2-f23d-f4db953a9a83"
      },
      "outputs": [
        {
          "data": {
            "text/html": [
              "<div>\n",
              "<style scoped>\n",
              "    .dataframe tbody tr th:only-of-type {\n",
              "        vertical-align: middle;\n",
              "    }\n",
              "\n",
              "    .dataframe tbody tr th {\n",
              "        vertical-align: top;\n",
              "    }\n",
              "\n",
              "    .dataframe thead th {\n",
              "        text-align: right;\n",
              "    }\n",
              "</style>\n",
              "<table border=\"1\" class=\"dataframe\">\n",
              "  <thead>\n",
              "    <tr style=\"text-align: right;\">\n",
              "      <th></th>\n",
              "      <th>id</th>\n",
              "      <th>published</th>\n",
              "      <th>subject</th>\n",
              "      <th>level</th>\n",
              "      <th>price</th>\n",
              "      <th>subscribers</th>\n",
              "      <th>reviews</th>\n",
              "      <th>lectures</th>\n",
              "      <th>duration</th>\n",
              "      <th>income</th>\n",
              "      <th>review_rate</th>\n",
              "      <th>year</th>\n",
              "    </tr>\n",
              "  </thead>\n",
              "  <tbody>\n",
              "    <tr>\n",
              "      <th>0</th>\n",
              "      <td>1</td>\n",
              "      <td>2015-07-10</td>\n",
              "      <td>Business Finance</td>\n",
              "      <td>Beginner Level</td>\n",
              "      <td>1.7</td>\n",
              "      <td>56</td>\n",
              "      <td>8</td>\n",
              "      <td>18</td>\n",
              "      <td>2.000000</td>\n",
              "      <td>95.2</td>\n",
              "      <td>0.142857</td>\n",
              "      <td>2015</td>\n",
              "    </tr>\n",
              "    <tr>\n",
              "      <th>1</th>\n",
              "      <td>2</td>\n",
              "      <td>2016-10-25</td>\n",
              "      <td>Business Finance</td>\n",
              "      <td>All Levels</td>\n",
              "      <td>17.4</td>\n",
              "      <td>336</td>\n",
              "      <td>6</td>\n",
              "      <td>13</td>\n",
              "      <td>0.683333</td>\n",
              "      <td>5846.4</td>\n",
              "      <td>0.017857</td>\n",
              "      <td>2016</td>\n",
              "    </tr>\n",
              "  </tbody>\n",
              "</table>\n",
              "</div>"
            ],
            "text/plain": [
              "   id  published           subject           level  price  subscribers  \\\n",
              "0   1 2015-07-10  Business Finance  Beginner Level    1.7           56   \n",
              "1   2 2016-10-25  Business Finance      All Levels   17.4          336   \n",
              "\n",
              "   reviews  lectures  duration  income  review_rate  year  \n",
              "0        8        18  2.000000    95.2     0.142857  2015  \n",
              "1        6        13  0.683333  5846.4     0.017857  2016  "
            ]
          },
          "execution_count": 66,
          "metadata": {},
          "output_type": "execute_result"
        }
      ],
      "source": [
        "data14[\"published\"] = pd.to_datetime(data14[\"published\"])\n",
        "data14[\"year\"] = data14[\"published\"].dt.year\n",
        "data14.head(2)"
      ]
    },
    {
      "cell_type": "code",
      "execution_count": null,
      "id": "e2ce4eb4",
      "metadata": {
        "id": "e2ce4eb4",
        "outputId": "b59fbca4-3694-4d79-d5ab-53919d386445"
      },
      "outputs": [
        {
          "data": {
            "text/html": [
              "<div>\n",
              "<style scoped>\n",
              "    .dataframe tbody tr th:only-of-type {\n",
              "        vertical-align: middle;\n",
              "    }\n",
              "\n",
              "    .dataframe tbody tr th {\n",
              "        vertical-align: top;\n",
              "    }\n",
              "\n",
              "    .dataframe thead th {\n",
              "        text-align: right;\n",
              "    }\n",
              "</style>\n",
              "<table border=\"1\" class=\"dataframe\">\n",
              "  <thead>\n",
              "    <tr style=\"text-align: right;\">\n",
              "      <th></th>\n",
              "      <th>id</th>\n",
              "      <th>published</th>\n",
              "      <th>subject</th>\n",
              "      <th>level</th>\n",
              "      <th>price</th>\n",
              "      <th>subscribers</th>\n",
              "      <th>reviews</th>\n",
              "      <th>lectures</th>\n",
              "      <th>duration</th>\n",
              "      <th>income</th>\n",
              "      <th>review_rate</th>\n",
              "      <th>year</th>\n",
              "    </tr>\n",
              "  </thead>\n",
              "  <tbody>\n",
              "    <tr>\n",
              "      <th>6</th>\n",
              "      <td>7</td>\n",
              "      <td>2016-10-24</td>\n",
              "      <td>Web Development</td>\n",
              "      <td>Intermediate Level</td>\n",
              "      <td>17.4</td>\n",
              "      <td>9773</td>\n",
              "      <td>117</td>\n",
              "      <td>65</td>\n",
              "      <td>4.5</td>\n",
              "      <td>170050.2</td>\n",
              "      <td>0.011972</td>\n",
              "      <td>2016</td>\n",
              "    </tr>\n",
              "    <tr>\n",
              "      <th>36</th>\n",
              "      <td>37</td>\n",
              "      <td>2016-04-05</td>\n",
              "      <td>Web Development</td>\n",
              "      <td>All Levels</td>\n",
              "      <td>17.0</td>\n",
              "      <td>12068</td>\n",
              "      <td>81</td>\n",
              "      <td>12</td>\n",
              "      <td>1.5</td>\n",
              "      <td>205156.0</td>\n",
              "      <td>0.006712</td>\n",
              "      <td>2016</td>\n",
              "    </tr>\n",
              "  </tbody>\n",
              "</table>\n",
              "</div>"
            ],
            "text/plain": [
              "    id  published          subject               level  price  subscribers  \\\n",
              "6    7 2016-10-24  Web Development  Intermediate Level   17.4         9773   \n",
              "36  37 2016-04-05  Web Development          All Levels   17.0        12068   \n",
              "\n",
              "    reviews  lectures  duration    income  review_rate  year  \n",
              "6       117        65       4.5  170050.2     0.011972  2016  \n",
              "36       81        12       1.5  205156.0     0.006712  2016  "
            ]
          },
          "execution_count": 67,
          "metadata": {},
          "output_type": "execute_result"
        }
      ],
      "source": [
        "data14_sub = data14.loc[(data14[\"year\"] == 2016) & (data14[\"subject\"] == \"Web Development\"), ]\n",
        "data14_sub.head(2)"
      ]
    },
    {
      "cell_type": "code",
      "execution_count": null,
      "id": "5df4cd2f",
      "metadata": {
        "id": "5df4cd2f",
        "outputId": "ef681f9b-610b-4233-ac8f-92df7ff914c4"
      },
      "outputs": [
        {
          "data": {
            "text/plain": [
              "0.03"
            ]
          },
          "execution_count": 68,
          "metadata": {},
          "output_type": "execute_result"
        }
      ],
      "source": [
        "round(data14_sub[['price', 'subscribers']].corr()['price']['subscribers'],2) # (정답) 0.03"
      ]
    },
    {
      "cell_type": "markdown",
      "id": "0d359076",
      "metadata": {
        "id": "0d359076"
      },
      "source": [
        "## Q3"
      ]
    },
    {
      "cell_type": "code",
      "execution_count": null,
      "id": "f2ce474f",
      "metadata": {
        "id": "f2ce474f"
      },
      "outputs": [],
      "source": [
        "from statsmodels.formula.api import ols\n",
        "from statsmodels.stats.anova import anova_lm"
      ]
    },
    {
      "cell_type": "code",
      "execution_count": null,
      "id": "26a59f84",
      "metadata": {
        "id": "26a59f84",
        "outputId": "77aaaa29-7952-406a-ed3e-7e070248a2ee"
      },
      "outputs": [
        {
          "data": {
            "text/html": [
              "<div>\n",
              "<style scoped>\n",
              "    .dataframe tbody tr th:only-of-type {\n",
              "        vertical-align: middle;\n",
              "    }\n",
              "\n",
              "    .dataframe tbody tr th {\n",
              "        vertical-align: top;\n",
              "    }\n",
              "\n",
              "    .dataframe thead th {\n",
              "        text-align: right;\n",
              "    }\n",
              "</style>\n",
              "<table border=\"1\" class=\"dataframe\">\n",
              "  <thead>\n",
              "    <tr style=\"text-align: right;\">\n",
              "      <th></th>\n",
              "      <th>df</th>\n",
              "      <th>sum_sq</th>\n",
              "      <th>mean_sq</th>\n",
              "      <th>F</th>\n",
              "      <th>PR(&gt;F)</th>\n",
              "    </tr>\n",
              "  </thead>\n",
              "  <tbody>\n",
              "    <tr>\n",
              "      <th>C(year)</th>\n",
              "      <td>2.0</td>\n",
              "      <td>0.365685</td>\n",
              "      <td>0.182842</td>\n",
              "      <td>18.542038</td>\n",
              "      <td>1.049908e-08</td>\n",
              "    </tr>\n",
              "    <tr>\n",
              "      <th>Residual</th>\n",
              "      <td>1997.0</td>\n",
              "      <td>19.692334</td>\n",
              "      <td>0.009861</td>\n",
              "      <td>NaN</td>\n",
              "      <td>NaN</td>\n",
              "    </tr>\n",
              "  </tbody>\n",
              "</table>\n",
              "</div>"
            ],
            "text/plain": [
              "              df     sum_sq   mean_sq          F        PR(>F)\n",
              "C(year)      2.0   0.365685  0.182842  18.542038  1.049908e-08\n",
              "Residual  1997.0  19.692334  0.009861        NaN           NaN"
            ]
          },
          "execution_count": 70,
          "metadata": {},
          "output_type": "execute_result"
        }
      ],
      "source": [
        "model = ols(formula = \"review_rate ~ C(year)\", data = data14).fit()\n",
        "anova_lm(model)"
      ]
    },
    {
      "cell_type": "code",
      "execution_count": null,
      "id": "d642ed16",
      "metadata": {
        "id": "d642ed16",
        "outputId": "b51e18eb-27bd-49da-dec5-4ad1e9e70f6b"
      },
      "outputs": [
        {
          "data": {
            "text/plain": [
              "18.5"
            ]
          },
          "execution_count": 71,
          "metadata": {},
          "output_type": "execute_result"
        }
      ],
      "source": [
        "round(anova_lm(model)['F'][0], 1)   # (정답) 18.5"
      ]
    },
    {
      "cell_type": "markdown",
      "id": "1e2013f9",
      "metadata": {
        "id": "1e2013f9"
      },
      "source": [
        "# 모의고사 15"
      ]
    },
    {
      "cell_type": "markdown",
      "id": "f10c9db1",
      "metadata": {
        "id": "f10c9db1"
      },
      "source": [
        "- 중급수준의 문제라 스킵합니다."
      ]
    },
    {
      "cell_type": "code",
      "execution_count": null,
      "id": "d6f0055b",
      "metadata": {
        "id": "d6f0055b"
      },
      "outputs": [],
      "source": []
    },
    {
      "cell_type": "markdown",
      "id": "f46a0cde",
      "metadata": {
        "id": "f46a0cde"
      },
      "source": [
        "# 모의고사 16"
      ]
    },
    {
      "cell_type": "code",
      "execution_count": null,
      "id": "d5aa130a",
      "metadata": {
        "id": "d5aa130a"
      },
      "outputs": [],
      "source": [
        "data16=pd.read_csv('employ.csv')"
      ]
    },
    {
      "cell_type": "code",
      "execution_count": null,
      "id": "5a3a5386",
      "metadata": {
        "id": "5a3a5386",
        "outputId": "69539191-118c-4cfb-bd68-22344300b993"
      },
      "outputs": [
        {
          "name": "stdout",
          "output_type": "stream",
          "text": [
            "<class 'pandas.core.frame.DataFrame'>\n",
            "RangeIndex: 8165 entries, 0 to 8164\n",
            "Data columns (total 8 columns):\n",
            " #   Column          Non-Null Count  Dtype  \n",
            "---  ------          --------------  -----  \n",
            " 0   EmployeeNumber  8165 non-null   int64  \n",
            " 1   Gender          8165 non-null   int64  \n",
            " 2   City            8165 non-null   object \n",
            " 3   JobTitle        8165 non-null   object \n",
            " 4   Age             8165 non-null   float64\n",
            " 5   LengthService   8165 non-null   float64\n",
            " 6   AbsentHours     8165 non-null   float64\n",
            " 7   AbsentRate      8165 non-null   float64\n",
            "dtypes: float64(4), int64(2), object(2)\n",
            "memory usage: 510.4+ KB\n"
          ]
        }
      ],
      "source": [
        "data16.info()"
      ]
    },
    {
      "cell_type": "code",
      "execution_count": null,
      "id": "6bc577f1",
      "metadata": {
        "id": "6bc577f1",
        "outputId": "fcdb8caf-0333-43a9-b475-93f941baad92"
      },
      "outputs": [
        {
          "data": {
            "text/plain": [
              "Index(['EmployeeNumber', 'Gender', 'City', 'JobTitle', 'Age', 'LengthService',\n",
              "       'AbsentHours', 'AbsentRate'],\n",
              "      dtype='object')"
            ]
          },
          "execution_count": 74,
          "metadata": {},
          "output_type": "execute_result"
        }
      ],
      "source": [
        "data16.columns"
      ]
    },
    {
      "cell_type": "markdown",
      "id": "4a3a56ca",
      "metadata": {
        "id": "4a3a56ca"
      },
      "source": [
        "## Q1"
      ]
    },
    {
      "cell_type": "code",
      "execution_count": null,
      "id": "c5198e31",
      "metadata": {
        "id": "c5198e31"
      },
      "outputs": [],
      "source": [
        "# q16_1 = data16.copy()"
      ]
    },
    {
      "cell_type": "code",
      "execution_count": null,
      "id": "c4d796f8",
      "metadata": {
        "id": "c4d796f8"
      },
      "outputs": [],
      "source": [
        "q16_1 = data16[data16.AbsentHours > 0]"
      ]
    },
    {
      "cell_type": "code",
      "execution_count": null,
      "id": "251a36c3",
      "metadata": {
        "id": "251a36c3",
        "outputId": "77822c7a-644f-499d-aba3-58a50d23443e"
      },
      "outputs": [
        {
          "data": {
            "text/plain": [
              "1453"
            ]
          },
          "execution_count": 77,
          "metadata": {},
          "output_type": "execute_result"
        }
      ],
      "source": [
        "# 답\n",
        "q16_1.City.value_counts().max()"
      ]
    },
    {
      "cell_type": "markdown",
      "id": "15e2d940",
      "metadata": {
        "id": "15e2d940"
      },
      "source": [
        "## Q2"
      ]
    },
    {
      "cell_type": "code",
      "execution_count": null,
      "id": "d76221d1",
      "metadata": {
        "id": "d76221d1",
        "outputId": "9e730f25-987e-45fb-b3f9-e61642256b43"
      },
      "outputs": [
        {
          "data": {
            "text/plain": [
              "Index(['EmployeeNumber', 'Gender', 'City', 'JobTitle', 'Age', 'LengthService',\n",
              "       'AbsentHours', 'AbsentRate'],\n",
              "      dtype='object')"
            ]
          },
          "execution_count": 78,
          "metadata": {},
          "output_type": "execute_result"
        }
      ],
      "source": [
        "q16_2=data16.copy()\n",
        "q16_2.columns"
      ]
    },
    {
      "cell_type": "code",
      "execution_count": null,
      "id": "015bfdd1",
      "metadata": {
        "id": "015bfdd1"
      },
      "outputs": [],
      "source": [
        "q16_2['AbsentOver'] = np.where(q16_2.AbsentHours > 151 , 1, 0)"
      ]
    },
    {
      "cell_type": "code",
      "execution_count": null,
      "id": "4bfc7382",
      "metadata": {
        "id": "4bfc7382",
        "outputId": "d147448d-10d7-4c5b-ad08-33fa69b2f6e2"
      },
      "outputs": [
        {
          "data": {
            "text/html": [
              "<div>\n",
              "<style scoped>\n",
              "    .dataframe tbody tr th:only-of-type {\n",
              "        vertical-align: middle;\n",
              "    }\n",
              "\n",
              "    .dataframe tbody tr th {\n",
              "        vertical-align: top;\n",
              "    }\n",
              "\n",
              "    .dataframe thead th {\n",
              "        text-align: right;\n",
              "    }\n",
              "</style>\n",
              "<table border=\"1\" class=\"dataframe\">\n",
              "  <thead>\n",
              "    <tr style=\"text-align: right;\">\n",
              "      <th>Gender</th>\n",
              "      <th>0</th>\n",
              "      <th>1</th>\n",
              "    </tr>\n",
              "    <tr>\n",
              "      <th>AbsentOver</th>\n",
              "      <th></th>\n",
              "      <th></th>\n",
              "    </tr>\n",
              "  </thead>\n",
              "  <tbody>\n",
              "    <tr>\n",
              "      <th>0</th>\n",
              "      <td>3787</td>\n",
              "      <td>4052</td>\n",
              "    </tr>\n",
              "    <tr>\n",
              "      <th>1</th>\n",
              "      <td>230</td>\n",
              "      <td>96</td>\n",
              "    </tr>\n",
              "  </tbody>\n",
              "</table>\n",
              "</div>"
            ],
            "text/plain": [
              "Gender         0     1\n",
              "AbsentOver            \n",
              "0           3787  4052\n",
              "1            230    96"
            ]
          },
          "execution_count": 80,
          "metadata": {},
          "output_type": "execute_result"
        }
      ],
      "source": [
        "q16_2_tab=pd.crosstab(index=q16_2.AbsentOver, columns=q16_2.Gender)\n",
        "q16_2_tab"
      ]
    },
    {
      "cell_type": "code",
      "execution_count": null,
      "id": "83091eb7",
      "metadata": {
        "id": "83091eb7",
        "outputId": "ef4d85b6-ec10-4f12-ec0a-593c853361d5"
      },
      "outputs": [
        {
          "data": {
            "text/plain": [
              "(61.95233911930612,\n",
              " 3.518715775970246e-15,\n",
              " 1,\n",
              " array([[3856.61518677, 3982.38481323],\n",
              "        [ 160.38481323,  165.61518677]]))"
            ]
          },
          "execution_count": 81,
          "metadata": {},
          "output_type": "execute_result"
        }
      ],
      "source": [
        "q16_2_out=st.chi2_contingency(q16_2_tab, correction=False)\n",
        "q16_2_out"
      ]
    },
    {
      "cell_type": "code",
      "execution_count": null,
      "id": "edd086a4",
      "metadata": {
        "id": "edd086a4",
        "outputId": "445f92d0-b2f0-4b7d-d5ee-406041f175e9"
      },
      "outputs": [
        {
          "data": {
            "text/plain": [
              "61.95"
            ]
          },
          "execution_count": 82,
          "metadata": {},
          "output_type": "execute_result"
        }
      ],
      "source": [
        "# 답\n",
        "np.trunc(q16_2_out[0] * 100) / 100"
      ]
    },
    {
      "cell_type": "markdown",
      "id": "5ed744f9",
      "metadata": {
        "id": "5ed744f9"
      },
      "source": [
        "## Q3"
      ]
    },
    {
      "cell_type": "code",
      "execution_count": null,
      "id": "4d358e16",
      "metadata": {
        "id": "4d358e16"
      },
      "outputs": [],
      "source": [
        "q16_3_list=['Age', 'LengthService', 'Gender']"
      ]
    },
    {
      "cell_type": "code",
      "execution_count": null,
      "id": "f7c5e79e",
      "metadata": {
        "id": "f7c5e79e"
      },
      "outputs": [],
      "source": [
        "lm=LinearRegression().fit(data16[q16_3_list], data16['AbsentRate'])"
      ]
    },
    {
      "cell_type": "code",
      "execution_count": null,
      "id": "e2b172b0",
      "metadata": {
        "id": "e2b172b0"
      },
      "outputs": [],
      "source": [
        "q16_test=data16[q16_3_list].reset_index(drop=True)\n",
        "q16_test['Age'] = q16_test['Age'] + 1\n",
        "q16_test['LengthService'] = q16_test['LengthService'] + 1"
      ]
    },
    {
      "cell_type": "code",
      "execution_count": null,
      "id": "22846da7",
      "metadata": {
        "id": "22846da7"
      },
      "outputs": [],
      "source": [
        "q16_pred=lm.predict(q16_test[q16_3_list])"
      ]
    },
    {
      "cell_type": "code",
      "execution_count": null,
      "id": "e16ab245",
      "metadata": {
        "id": "e16ab245",
        "outputId": "a75ba19a-7b1f-41ff-c1ea-cc46ffe1e67b"
      },
      "outputs": [
        {
          "data": {
            "text/plain": [
              "3.03"
            ]
          },
          "execution_count": 87,
          "metadata": {},
          "output_type": "execute_result"
        }
      ],
      "source": [
        "# 답\n",
        "round(q16_pred.mean(),2)"
      ]
    },
    {
      "cell_type": "markdown",
      "id": "d0921171",
      "metadata": {
        "id": "d0921171"
      },
      "source": [
        "## 모의고사 17"
      ]
    },
    {
      "cell_type": "code",
      "execution_count": null,
      "id": "45ec20ad",
      "metadata": {
        "id": "45ec20ad"
      },
      "outputs": [],
      "source": [
        "data17=pd.read_csv('BlackFriday.csv')"
      ]
    },
    {
      "cell_type": "code",
      "execution_count": null,
      "id": "737b3639",
      "metadata": {
        "id": "737b3639",
        "outputId": "7250b27c-48ae-4adb-9e8f-796b7e2b9ce8"
      },
      "outputs": [
        {
          "name": "stdout",
          "output_type": "stream",
          "text": [
            "<class 'pandas.core.frame.DataFrame'>\n",
            "RangeIndex: 465342 entries, 0 to 465341\n",
            "Data columns (total 33 columns):\n",
            " #   Column                      Non-Null Count   Dtype  \n",
            "---  ------                      --------------   -----  \n",
            " 0   User_ID                     465342 non-null  int64  \n",
            " 1   Product_ID                  465342 non-null  object \n",
            " 2   Gender                      465342 non-null  int64  \n",
            " 3   Age                         465342 non-null  object \n",
            " 4   City_Category               465342 non-null  object \n",
            " 5   Stay_In_Current_City_Years  465342 non-null  float64\n",
            " 6   Marital_Status              465342 non-null  int64  \n",
            " 7   Product_Category            465342 non-null  int64  \n",
            " 8   Purchase                    465342 non-null  int64  \n",
            " 9   Type                        465342 non-null  object \n",
            " 10  VIP                         465342 non-null  int64  \n",
            " 11  City_Category_B             465342 non-null  int64  \n",
            " 12  City_Category_C             465342 non-null  int64  \n",
            " 13  Occupation_1                465342 non-null  int64  \n",
            " 14  Occupation_2                465342 non-null  int64  \n",
            " 15  Occupation_3                465342 non-null  int64  \n",
            " 16  Occupation_4                465342 non-null  int64  \n",
            " 17  Occupation_5                465342 non-null  int64  \n",
            " 18  Occupation_6                465342 non-null  int64  \n",
            " 19  Occupation_7                465342 non-null  int64  \n",
            " 20  Occupation_8                465342 non-null  int64  \n",
            " 21  Occupation_9                465342 non-null  int64  \n",
            " 22  Occupation_10               465342 non-null  int64  \n",
            " 23  Occupation_11               465342 non-null  int64  \n",
            " 24  Occupation_12               465342 non-null  int64  \n",
            " 25  Occupation_13               465342 non-null  int64  \n",
            " 26  Occupation_14               465342 non-null  int64  \n",
            " 27  Occupation_15               465342 non-null  int64  \n",
            " 28  Occupation_16               465342 non-null  int64  \n",
            " 29  Occupation_17               465342 non-null  int64  \n",
            " 30  Occupation_18               465342 non-null  int64  \n",
            " 31  Occupation_19               465342 non-null  int64  \n",
            " 32  Occupation_20               465342 non-null  int64  \n",
            "dtypes: float64(1), int64(28), object(4)\n",
            "memory usage: 117.2+ MB\n"
          ]
        }
      ],
      "source": [
        "data17.info()"
      ]
    },
    {
      "cell_type": "code",
      "execution_count": null,
      "id": "1bae12d2",
      "metadata": {
        "id": "1bae12d2",
        "outputId": "6d364db5-66f2-49e7-f5f9-4c5758d6cf12"
      },
      "outputs": [
        {
          "data": {
            "text/plain": [
              "Index(['User_ID', 'Product_ID', 'Gender', 'Age', 'City_Category',\n",
              "       'Stay_In_Current_City_Years', 'Marital_Status', 'Product_Category',\n",
              "       'Purchase', 'Type', 'VIP', 'City_Category_B', 'City_Category_C',\n",
              "       'Occupation_1', 'Occupation_2', 'Occupation_3', 'Occupation_4',\n",
              "       'Occupation_5', 'Occupation_6', 'Occupation_7', 'Occupation_8',\n",
              "       'Occupation_9', 'Occupation_10', 'Occupation_11', 'Occupation_12',\n",
              "       'Occupation_13', 'Occupation_14', 'Occupation_15', 'Occupation_16',\n",
              "       'Occupation_17', 'Occupation_18', 'Occupation_19', 'Occupation_20'],\n",
              "      dtype='object')"
            ]
          },
          "execution_count": 90,
          "metadata": {},
          "output_type": "execute_result"
        }
      ],
      "source": [
        "data17.columns"
      ]
    },
    {
      "cell_type": "code",
      "execution_count": null,
      "id": "3eb61a1f",
      "metadata": {
        "id": "3eb61a1f",
        "outputId": "82e3d33d-84fc-4f7d-bd43-29afbd3d81ab"
      },
      "outputs": [
        {
          "data": {
            "text/plain": [
              "City_Category\n",
              "A    7934.0\n",
              "B    8002.0\n",
              "C    8585.0\n",
              "Name: Purchase, dtype: float64"
            ]
          },
          "execution_count": 91,
          "metadata": {},
          "output_type": "execute_result"
        }
      ],
      "source": [
        "q17_1=data17.groupby('City_Category')['Purchase'].median()\n",
        "q17_1"
      ]
    },
    {
      "cell_type": "code",
      "execution_count": null,
      "id": "44399b7b",
      "metadata": {
        "id": "44399b7b",
        "outputId": "740b5760-db17-408c-c371-9909b64ab0eb"
      },
      "outputs": [
        {
          "data": {
            "text/plain": [
              "651"
            ]
          },
          "execution_count": 92,
          "metadata": {},
          "output_type": "execute_result"
        }
      ],
      "source": [
        "# 답\n",
        "int(abs(q17_1.max() - q17_1.min()))"
      ]
    },
    {
      "cell_type": "markdown",
      "id": "a3afaa62",
      "metadata": {
        "id": "a3afaa62"
      },
      "source": [
        "## Q2"
      ]
    },
    {
      "cell_type": "code",
      "execution_count": null,
      "id": "c436af70",
      "metadata": {
        "id": "c436af70",
        "outputId": "153cf320-94c0-4e42-f032-d66f43b9266d"
      },
      "outputs": [
        {
          "data": {
            "text/html": [
              "<div>\n",
              "<style scoped>\n",
              "    .dataframe tbody tr th:only-of-type {\n",
              "        vertical-align: middle;\n",
              "    }\n",
              "\n",
              "    .dataframe tbody tr th {\n",
              "        vertical-align: top;\n",
              "    }\n",
              "\n",
              "    .dataframe thead th {\n",
              "        text-align: right;\n",
              "    }\n",
              "</style>\n",
              "<table border=\"1\" class=\"dataframe\">\n",
              "  <thead>\n",
              "    <tr style=\"text-align: right;\">\n",
              "      <th></th>\n",
              "      <th>User_ID</th>\n",
              "      <th>Product_ID</th>\n",
              "      <th>Gender</th>\n",
              "      <th>Age</th>\n",
              "      <th>City_Category</th>\n",
              "      <th>Stay_In_Current_City_Years</th>\n",
              "      <th>Marital_Status</th>\n",
              "      <th>Product_Category</th>\n",
              "      <th>Purchase</th>\n",
              "      <th>Type</th>\n",
              "      <th>...</th>\n",
              "      <th>Occupation_11</th>\n",
              "      <th>Occupation_12</th>\n",
              "      <th>Occupation_13</th>\n",
              "      <th>Occupation_14</th>\n",
              "      <th>Occupation_15</th>\n",
              "      <th>Occupation_16</th>\n",
              "      <th>Occupation_17</th>\n",
              "      <th>Occupation_18</th>\n",
              "      <th>Occupation_19</th>\n",
              "      <th>Occupation_20</th>\n",
              "    </tr>\n",
              "  </thead>\n",
              "  <tbody>\n",
              "    <tr>\n",
              "      <th>0</th>\n",
              "      <td>1004918</td>\n",
              "      <td>P00251242</td>\n",
              "      <td>0</td>\n",
              "      <td>18-25</td>\n",
              "      <td>C</td>\n",
              "      <td>1.0</td>\n",
              "      <td>0</td>\n",
              "      <td>5</td>\n",
              "      <td>7041</td>\n",
              "      <td>train</td>\n",
              "      <td>...</td>\n",
              "      <td>0</td>\n",
              "      <td>1</td>\n",
              "      <td>0</td>\n",
              "      <td>0</td>\n",
              "      <td>0</td>\n",
              "      <td>0</td>\n",
              "      <td>0</td>\n",
              "      <td>0</td>\n",
              "      <td>0</td>\n",
              "      <td>0</td>\n",
              "    </tr>\n",
              "    <tr>\n",
              "      <th>1</th>\n",
              "      <td>1004918</td>\n",
              "      <td>P00216342</td>\n",
              "      <td>0</td>\n",
              "      <td>18-25</td>\n",
              "      <td>C</td>\n",
              "      <td>1.0</td>\n",
              "      <td>0</td>\n",
              "      <td>3</td>\n",
              "      <td>8385</td>\n",
              "      <td>train</td>\n",
              "      <td>...</td>\n",
              "      <td>0</td>\n",
              "      <td>1</td>\n",
              "      <td>0</td>\n",
              "      <td>0</td>\n",
              "      <td>0</td>\n",
              "      <td>0</td>\n",
              "      <td>0</td>\n",
              "      <td>0</td>\n",
              "      <td>0</td>\n",
              "      <td>0</td>\n",
              "    </tr>\n",
              "    <tr>\n",
              "      <th>2</th>\n",
              "      <td>1004918</td>\n",
              "      <td>P00154042</td>\n",
              "      <td>0</td>\n",
              "      <td>18-25</td>\n",
              "      <td>C</td>\n",
              "      <td>1.0</td>\n",
              "      <td>0</td>\n",
              "      <td>1</td>\n",
              "      <td>11393</td>\n",
              "      <td>train</td>\n",
              "      <td>...</td>\n",
              "      <td>0</td>\n",
              "      <td>1</td>\n",
              "      <td>0</td>\n",
              "      <td>0</td>\n",
              "      <td>0</td>\n",
              "      <td>0</td>\n",
              "      <td>0</td>\n",
              "      <td>0</td>\n",
              "      <td>0</td>\n",
              "      <td>0</td>\n",
              "    </tr>\n",
              "    <tr>\n",
              "      <th>3</th>\n",
              "      <td>1004918</td>\n",
              "      <td>P00065442</td>\n",
              "      <td>0</td>\n",
              "      <td>18-25</td>\n",
              "      <td>C</td>\n",
              "      <td>1.0</td>\n",
              "      <td>0</td>\n",
              "      <td>8</td>\n",
              "      <td>7977</td>\n",
              "      <td>train</td>\n",
              "      <td>...</td>\n",
              "      <td>0</td>\n",
              "      <td>1</td>\n",
              "      <td>0</td>\n",
              "      <td>0</td>\n",
              "      <td>0</td>\n",
              "      <td>0</td>\n",
              "      <td>0</td>\n",
              "      <td>0</td>\n",
              "      <td>0</td>\n",
              "      <td>0</td>\n",
              "    </tr>\n",
              "    <tr>\n",
              "      <th>4</th>\n",
              "      <td>1004918</td>\n",
              "      <td>P00343042</td>\n",
              "      <td>0</td>\n",
              "      <td>18-25</td>\n",
              "      <td>C</td>\n",
              "      <td>1.0</td>\n",
              "      <td>0</td>\n",
              "      <td>5</td>\n",
              "      <td>6858</td>\n",
              "      <td>train</td>\n",
              "      <td>...</td>\n",
              "      <td>0</td>\n",
              "      <td>1</td>\n",
              "      <td>0</td>\n",
              "      <td>0</td>\n",
              "      <td>0</td>\n",
              "      <td>0</td>\n",
              "      <td>0</td>\n",
              "      <td>0</td>\n",
              "      <td>0</td>\n",
              "      <td>0</td>\n",
              "    </tr>\n",
              "  </tbody>\n",
              "</table>\n",
              "<p>5 rows × 33 columns</p>\n",
              "</div>"
            ],
            "text/plain": [
              "   User_ID Product_ID  Gender    Age City_Category  \\\n",
              "0  1004918  P00251242       0  18-25             C   \n",
              "1  1004918  P00216342       0  18-25             C   \n",
              "2  1004918  P00154042       0  18-25             C   \n",
              "3  1004918  P00065442       0  18-25             C   \n",
              "4  1004918  P00343042       0  18-25             C   \n",
              "\n",
              "   Stay_In_Current_City_Years  Marital_Status  Product_Category  Purchase  \\\n",
              "0                         1.0               0                 5      7041   \n",
              "1                         1.0               0                 3      8385   \n",
              "2                         1.0               0                 1     11393   \n",
              "3                         1.0               0                 8      7977   \n",
              "4                         1.0               0                 5      6858   \n",
              "\n",
              "    Type  ...  Occupation_11  Occupation_12  Occupation_13  Occupation_14  \\\n",
              "0  train  ...              0              1              0              0   \n",
              "1  train  ...              0              1              0              0   \n",
              "2  train  ...              0              1              0              0   \n",
              "3  train  ...              0              1              0              0   \n",
              "4  train  ...              0              1              0              0   \n",
              "\n",
              "   Occupation_15  Occupation_16  Occupation_17  Occupation_18  Occupation_19  \\\n",
              "0              0              0              0              0              0   \n",
              "1              0              0              0              0              0   \n",
              "2              0              0              0              0              0   \n",
              "3              0              0              0              0              0   \n",
              "4              0              0              0              0              0   \n",
              "\n",
              "   Occupation_20  \n",
              "0              0  \n",
              "1              0  \n",
              "2              0  \n",
              "3              0  \n",
              "4              0  \n",
              "\n",
              "[5 rows x 33 columns]"
            ]
          },
          "execution_count": 93,
          "metadata": {},
          "output_type": "execute_result"
        }
      ],
      "source": [
        "data17.head()"
      ]
    },
    {
      "cell_type": "code",
      "execution_count": null,
      "id": "7f71e977",
      "metadata": {
        "id": "7f71e977",
        "outputId": "40d93489-5eaf-4c4a-a807-1302c22acb4e"
      },
      "outputs": [
        {
          "data": {
            "text/plain": [
              "array(['18-25', '26-35', '36-45', '46-50', '55+', '51-55', '0-17'],\n",
              "      dtype=object)"
            ]
          },
          "execution_count": 94,
          "metadata": {},
          "output_type": "execute_result"
        }
      ],
      "source": [
        "data17.Age.unique()"
      ]
    },
    {
      "cell_type": "code",
      "execution_count": null,
      "id": "7a2a3615",
      "metadata": {
        "id": "7a2a3615"
      },
      "outputs": [],
      "source": [
        "data17_2=data17[data17.Age.isin(['46-50','51-55'])]"
      ]
    },
    {
      "cell_type": "code",
      "execution_count": null,
      "id": "db352c89",
      "metadata": {
        "id": "db352c89",
        "outputId": "7c5e59d7-dfe7-4173-8d23-a7cec887bf8d"
      },
      "outputs": [
        {
          "data": {
            "text/plain": [
              "Index(['User_ID', 'Product_ID', 'Gender', 'Age', 'City_Category',\n",
              "       'Stay_In_Current_City_Years', 'Marital_Status', 'Product_Category',\n",
              "       'Purchase', 'Type', 'VIP', 'City_Category_B', 'City_Category_C',\n",
              "       'Occupation_1', 'Occupation_2', 'Occupation_3', 'Occupation_4',\n",
              "       'Occupation_5', 'Occupation_6', 'Occupation_7', 'Occupation_8',\n",
              "       'Occupation_9', 'Occupation_10', 'Occupation_11', 'Occupation_12',\n",
              "       'Occupation_13', 'Occupation_14', 'Occupation_15', 'Occupation_16',\n",
              "       'Occupation_17', 'Occupation_18', 'Occupation_19', 'Occupation_20'],\n",
              "      dtype='object')"
            ]
          },
          "execution_count": 96,
          "metadata": {},
          "output_type": "execute_result"
        }
      ],
      "source": [
        "data17_2.columns"
      ]
    },
    {
      "cell_type": "code",
      "execution_count": null,
      "id": "ab629b4e",
      "metadata": {
        "id": "ab629b4e",
        "outputId": "dfabab9f-8ce7-41c3-b137-9182b50aef2a"
      },
      "outputs": [
        {
          "data": {
            "text/html": [
              "<div>\n",
              "<style scoped>\n",
              "    .dataframe tbody tr th:only-of-type {\n",
              "        vertical-align: middle;\n",
              "    }\n",
              "\n",
              "    .dataframe tbody tr th {\n",
              "        vertical-align: top;\n",
              "    }\n",
              "\n",
              "    .dataframe thead th {\n",
              "        text-align: right;\n",
              "    }\n",
              "</style>\n",
              "<table border=\"1\" class=\"dataframe\">\n",
              "  <thead>\n",
              "    <tr style=\"text-align: right;\">\n",
              "      <th>Age</th>\n",
              "      <th>46-50</th>\n",
              "      <th>51-55</th>\n",
              "    </tr>\n",
              "    <tr>\n",
              "      <th>User_ID</th>\n",
              "      <th></th>\n",
              "      <th></th>\n",
              "    </tr>\n",
              "  </thead>\n",
              "  <tbody>\n",
              "    <tr>\n",
              "      <th>1000004</th>\n",
              "      <td>206468.0</td>\n",
              "      <td>NaN</td>\n",
              "    </tr>\n",
              "    <tr>\n",
              "      <th>1000006</th>\n",
              "      <td>NaN</td>\n",
              "      <td>379930.0</td>\n",
              "    </tr>\n",
              "    <tr>\n",
              "      <th>1000013</th>\n",
              "      <td>713927.0</td>\n",
              "      <td>NaN</td>\n",
              "    </tr>\n",
              "    <tr>\n",
              "      <th>1000017</th>\n",
              "      <td>NaN</td>\n",
              "      <td>1425995.0</td>\n",
              "    </tr>\n",
              "    <tr>\n",
              "      <th>1000033</th>\n",
              "      <td>1940418.0</td>\n",
              "      <td>NaN</td>\n",
              "    </tr>\n",
              "    <tr>\n",
              "      <th>...</th>\n",
              "      <td>...</td>\n",
              "      <td>...</td>\n",
              "    </tr>\n",
              "    <tr>\n",
              "      <th>1006014</th>\n",
              "      <td>528238.0</td>\n",
              "      <td>NaN</td>\n",
              "    </tr>\n",
              "    <tr>\n",
              "      <th>1006016</th>\n",
              "      <td>3770970.0</td>\n",
              "      <td>NaN</td>\n",
              "    </tr>\n",
              "    <tr>\n",
              "      <th>1006020</th>\n",
              "      <td>NaN</td>\n",
              "      <td>374475.0</td>\n",
              "    </tr>\n",
              "    <tr>\n",
              "      <th>1006032</th>\n",
              "      <td>517261.0</td>\n",
              "      <td>NaN</td>\n",
              "    </tr>\n",
              "    <tr>\n",
              "      <th>1006033</th>\n",
              "      <td>NaN</td>\n",
              "      <td>501843.0</td>\n",
              "    </tr>\n",
              "  </tbody>\n",
              "</table>\n",
              "<p>855 rows × 2 columns</p>\n",
              "</div>"
            ],
            "text/plain": [
              "Age          46-50      51-55\n",
              "User_ID                      \n",
              "1000004   206468.0        NaN\n",
              "1000006        NaN   379930.0\n",
              "1000013   713927.0        NaN\n",
              "1000017        NaN  1425995.0\n",
              "1000033  1940418.0        NaN\n",
              "...            ...        ...\n",
              "1006014   528238.0        NaN\n",
              "1006016  3770970.0        NaN\n",
              "1006020        NaN   374475.0\n",
              "1006032   517261.0        NaN\n",
              "1006033        NaN   501843.0\n",
              "\n",
              "[855 rows x 2 columns]"
            ]
          },
          "execution_count": 97,
          "metadata": {},
          "output_type": "execute_result"
        }
      ],
      "source": [
        "data17_2_tab=pd.pivot_table(data=data17_2, index='User_ID',\n",
        "                            columns='Age', values='Purchase', aggfunc='sum')\n",
        "data17_2_tab"
      ]
    },
    {
      "cell_type": "code",
      "execution_count": null,
      "id": "c6675f8b",
      "metadata": {
        "id": "c6675f8b",
        "outputId": "83de3fae-5683-49ec-fe28-adc51c2ffaed"
      },
      "outputs": [
        {
          "data": {
            "text/plain": [
              "Ttest_indResult(statistic=0.2925821214722024, pvalue=0.7699127341050495)"
            ]
          },
          "execution_count": 98,
          "metadata": {},
          "output_type": "execute_result"
        }
      ],
      "source": [
        "q17_2_out=st.ttest_ind(data17_2_tab['46-50'].dropna(), data17_2_tab['51-55'].dropna(), equal_var=True)\n",
        "q17_2_out"
      ]
    },
    {
      "cell_type": "code",
      "execution_count": null,
      "id": "7ddfcb88",
      "metadata": {
        "id": "7ddfcb88",
        "outputId": "3a91a918-1100-4c43-d2f3-8df2aa8ca2db"
      },
      "outputs": [
        {
          "data": {
            "text/plain": [
              "0.7699127341050495"
            ]
          },
          "execution_count": 99,
          "metadata": {},
          "output_type": "execute_result"
        }
      ],
      "source": [
        "# 답\n",
        "q17_2_out.pvalue   # 0.769"
      ]
    },
    {
      "cell_type": "markdown",
      "id": "f97d17a7",
      "metadata": {
        "id": "f97d17a7"
      },
      "source": [
        "## Q3"
      ]
    },
    {
      "cell_type": "code",
      "execution_count": null,
      "id": "00ee6b77",
      "metadata": {
        "id": "00ee6b77",
        "outputId": "c9a84108-a539-4967-d74c-401e589658c8"
      },
      "outputs": [
        {
          "data": {
            "text/plain": [
              "Index(['User_ID', 'Product_ID', 'Gender', 'Age', 'City_Category',\n",
              "       'Stay_In_Current_City_Years', 'Marital_Status', 'Product_Category',\n",
              "       'Purchase', 'Type', 'VIP', 'City_Category_B', 'City_Category_C',\n",
              "       'Occupation_1', 'Occupation_2', 'Occupation_3', 'Occupation_4',\n",
              "       'Occupation_5', 'Occupation_6', 'Occupation_7', 'Occupation_8',\n",
              "       'Occupation_9', 'Occupation_10', 'Occupation_11', 'Occupation_12',\n",
              "       'Occupation_13', 'Occupation_14', 'Occupation_15', 'Occupation_16',\n",
              "       'Occupation_17', 'Occupation_18', 'Occupation_19', 'Occupation_20'],\n",
              "      dtype='object')"
            ]
          },
          "execution_count": 100,
          "metadata": {},
          "output_type": "execute_result"
        }
      ],
      "source": [
        "data17.columns"
      ]
    },
    {
      "cell_type": "code",
      "execution_count": null,
      "id": "51f84ce3",
      "metadata": {
        "id": "51f84ce3",
        "outputId": "7d625589-2cc3-4c2f-cf19-d9b1160b2aca"
      },
      "outputs": [
        {
          "data": {
            "text/plain": [
              "24"
            ]
          },
          "execution_count": 101,
          "metadata": {},
          "output_type": "execute_result"
        }
      ],
      "source": [
        "q17_3_list=[ 'Gender', 'City_Category_B', 'City_Category_C',\n",
        "       'Occupation_1', 'Occupation_2', 'Occupation_3', 'Occupation_4',\n",
        "       'Occupation_5', 'Occupation_6', 'Occupation_7', 'Occupation_8',\n",
        "       'Occupation_9', 'Occupation_10', 'Occupation_11', 'Occupation_12',\n",
        "       'Occupation_13', 'Occupation_14', 'Occupation_15', 'Occupation_16',\n",
        "       'Occupation_17', 'Occupation_18', 'Occupation_19', 'Occupation_20', 'Marital_Status']\n",
        "\n",
        "len(q17_3_list)"
      ]
    },
    {
      "cell_type": "code",
      "execution_count": null,
      "id": "6688fa33",
      "metadata": {
        "id": "6688fa33"
      },
      "outputs": [],
      "source": [
        "q17_train=data17[data17.Type == 'train']\n",
        "q17_test=data17[data17.Type == 'test']"
      ]
    },
    {
      "cell_type": "code",
      "execution_count": null,
      "id": "695fe955",
      "metadata": {
        "id": "695fe955"
      },
      "outputs": [],
      "source": [
        "from sklearn.linear_model import LogisticRegression"
      ]
    },
    {
      "cell_type": "code",
      "execution_count": null,
      "id": "f9d6efe2",
      "metadata": {
        "id": "f9d6efe2",
        "outputId": "58b78708-0508-4171-eb6a-9695d6086090"
      },
      "outputs": [
        {
          "data": {
            "text/plain": [
              "LogisticRegression(C=100000, random_state=123, solver='newton-cg')"
            ]
          },
          "execution_count": 104,
          "metadata": {},
          "output_type": "execute_result"
        }
      ],
      "source": [
        "logit=LogisticRegression(solver='newton-cg', C=100000, random_state=123)\n",
        "logit.fit(q17_train[q17_3_list], q17_train['VIP'])"
      ]
    },
    {
      "cell_type": "code",
      "execution_count": null,
      "id": "fc945718",
      "metadata": {
        "id": "fc945718"
      },
      "outputs": [],
      "source": [
        "q17_3_pred=logit.predict(q17_test[q17_3_list])"
      ]
    },
    {
      "cell_type": "code",
      "execution_count": null,
      "id": "4e439040",
      "metadata": {
        "id": "4e439040"
      },
      "outputs": [],
      "source": [
        "from sklearn.metrics import recall_score"
      ]
    },
    {
      "cell_type": "code",
      "execution_count": null,
      "id": "88a374b7",
      "metadata": {
        "id": "88a374b7",
        "outputId": "b1f31840-7530-4dc1-8146-3f533e5a234e"
      },
      "outputs": [
        {
          "data": {
            "text/plain": [
              "0.98"
            ]
          },
          "execution_count": 107,
          "metadata": {},
          "output_type": "execute_result"
        }
      ],
      "source": [
        "# 답\n",
        "round(recall_score(q17_test['VIP'], q17_3_pred, pos_label=1),2)"
      ]
    },
    {
      "cell_type": "markdown",
      "id": "f8199b78",
      "metadata": {
        "id": "f8199b78"
      },
      "source": [
        "# 모의고사 18"
      ]
    },
    {
      "cell_type": "code",
      "execution_count": null,
      "id": "ad4e5c6f",
      "metadata": {
        "id": "ad4e5c6f"
      },
      "outputs": [],
      "source": [
        "data18=pd.read_csv('seoul_air2.csv')"
      ]
    },
    {
      "cell_type": "code",
      "execution_count": null,
      "id": "1877e967",
      "metadata": {
        "id": "1877e967",
        "outputId": "4b0ad007-50a9-4bf2-ae8c-bfccf28be301"
      },
      "outputs": [
        {
          "name": "stdout",
          "output_type": "stream",
          "text": [
            "<class 'pandas.core.frame.DataFrame'>\n",
            "RangeIndex: 2190 entries, 0 to 2189\n",
            "Data columns (total 9 columns):\n",
            " #   Column    Non-Null Count  Dtype  \n",
            "---  ------    --------------  -----  \n",
            " 0   Date      2190 non-null   int64  \n",
            " 1   Location  2190 non-null   object \n",
            " 2   PM10      2190 non-null   float64\n",
            " 3   PM25      2190 non-null   float64\n",
            " 4   O3        2190 non-null   float64\n",
            " 5   NO2       2190 non-null   float64\n",
            " 6   CO        2190 non-null   float64\n",
            " 7   SO2       2190 non-null   float64\n",
            " 8   Warning   2190 non-null   int64  \n",
            "dtypes: float64(6), int64(2), object(1)\n",
            "memory usage: 154.1+ KB\n"
          ]
        }
      ],
      "source": [
        "data18.info()"
      ]
    },
    {
      "cell_type": "code",
      "execution_count": null,
      "id": "cad8daca",
      "metadata": {
        "id": "cad8daca",
        "outputId": "dee6e5e5-7a4f-43c8-9a11-5e37fdca1516"
      },
      "outputs": [
        {
          "data": {
            "text/html": [
              "<div>\n",
              "<style scoped>\n",
              "    .dataframe tbody tr th:only-of-type {\n",
              "        vertical-align: middle;\n",
              "    }\n",
              "\n",
              "    .dataframe tbody tr th {\n",
              "        vertical-align: top;\n",
              "    }\n",
              "\n",
              "    .dataframe thead th {\n",
              "        text-align: right;\n",
              "    }\n",
              "</style>\n",
              "<table border=\"1\" class=\"dataframe\">\n",
              "  <thead>\n",
              "    <tr style=\"text-align: right;\">\n",
              "      <th></th>\n",
              "      <th>Date</th>\n",
              "      <th>Location</th>\n",
              "      <th>PM10</th>\n",
              "      <th>PM25</th>\n",
              "      <th>O3</th>\n",
              "      <th>NO2</th>\n",
              "      <th>CO</th>\n",
              "      <th>SO2</th>\n",
              "      <th>Warning</th>\n",
              "    </tr>\n",
              "  </thead>\n",
              "  <tbody>\n",
              "    <tr>\n",
              "      <th>0</th>\n",
              "      <td>20210101</td>\n",
              "      <td>강남구</td>\n",
              "      <td>22.045455</td>\n",
              "      <td>16.272727</td>\n",
              "      <td>0.014727</td>\n",
              "      <td>0.027136</td>\n",
              "      <td>0.522727</td>\n",
              "      <td>0.003955</td>\n",
              "      <td>0</td>\n",
              "    </tr>\n",
              "    <tr>\n",
              "      <th>1</th>\n",
              "      <td>20210102</td>\n",
              "      <td>강남구</td>\n",
              "      <td>26.833333</td>\n",
              "      <td>11.833333</td>\n",
              "      <td>0.024875</td>\n",
              "      <td>0.015375</td>\n",
              "      <td>0.404167</td>\n",
              "      <td>0.003583</td>\n",
              "      <td>0</td>\n",
              "    </tr>\n",
              "    <tr>\n",
              "      <th>2</th>\n",
              "      <td>20210103</td>\n",
              "      <td>강남구</td>\n",
              "      <td>30.291667</td>\n",
              "      <td>13.750000</td>\n",
              "      <td>0.022000</td>\n",
              "      <td>0.018042</td>\n",
              "      <td>0.429167</td>\n",
              "      <td>0.003708</td>\n",
              "      <td>0</td>\n",
              "    </tr>\n",
              "    <tr>\n",
              "      <th>3</th>\n",
              "      <td>20210104</td>\n",
              "      <td>강남구</td>\n",
              "      <td>33.208333</td>\n",
              "      <td>23.750000</td>\n",
              "      <td>0.006500</td>\n",
              "      <td>0.039333</td>\n",
              "      <td>0.591667</td>\n",
              "      <td>0.003958</td>\n",
              "      <td>0</td>\n",
              "    </tr>\n",
              "    <tr>\n",
              "      <th>4</th>\n",
              "      <td>20210105</td>\n",
              "      <td>강남구</td>\n",
              "      <td>22.208333</td>\n",
              "      <td>15.833333</td>\n",
              "      <td>0.022042</td>\n",
              "      <td>0.019833</td>\n",
              "      <td>0.416667</td>\n",
              "      <td>0.003250</td>\n",
              "      <td>0</td>\n",
              "    </tr>\n",
              "  </tbody>\n",
              "</table>\n",
              "</div>"
            ],
            "text/plain": [
              "       Date Location       PM10       PM25        O3       NO2        CO  \\\n",
              "0  20210101      강남구  22.045455  16.272727  0.014727  0.027136  0.522727   \n",
              "1  20210102      강남구  26.833333  11.833333  0.024875  0.015375  0.404167   \n",
              "2  20210103      강남구  30.291667  13.750000  0.022000  0.018042  0.429167   \n",
              "3  20210104      강남구  33.208333  23.750000  0.006500  0.039333  0.591667   \n",
              "4  20210105      강남구  22.208333  15.833333  0.022042  0.019833  0.416667   \n",
              "\n",
              "        SO2  Warning  \n",
              "0  0.003955        0  \n",
              "1  0.003583        0  \n",
              "2  0.003708        0  \n",
              "3  0.003958        0  \n",
              "4  0.003250        0  "
            ]
          },
          "execution_count": 110,
          "metadata": {},
          "output_type": "execute_result"
        }
      ],
      "source": [
        "data18.head()"
      ]
    },
    {
      "cell_type": "code",
      "execution_count": null,
      "id": "1c2d7bdd",
      "metadata": {
        "id": "1c2d7bdd",
        "outputId": "ca0f2c36-3f49-4a11-beda-54f43118636b"
      },
      "outputs": [
        {
          "data": {
            "text/plain": [
              "강남구     365\n",
              "강북구     365\n",
              "노원구     365\n",
              "동작구     365\n",
              "영등포구    365\n",
              "종로구     365\n",
              "Name: Location, dtype: int64"
            ]
          },
          "execution_count": 111,
          "metadata": {},
          "output_type": "execute_result"
        }
      ],
      "source": [
        "data18.Location.value_counts()"
      ]
    },
    {
      "cell_type": "markdown",
      "id": "54fa5731",
      "metadata": {
        "id": "54fa5731"
      },
      "source": [
        "## Q1"
      ]
    },
    {
      "cell_type": "code",
      "execution_count": null,
      "id": "572e8746",
      "metadata": {
        "id": "572e8746",
        "outputId": "55f78c9e-b4b4-4fab-913f-4ff63245f318"
      },
      "outputs": [
        {
          "data": {
            "text/plain": [
              "Index(['Date', 'Location', 'PM10', 'PM25', 'O3', 'NO2', 'CO', 'SO2',\n",
              "       'Warning'],\n",
              "      dtype='object')"
            ]
          },
          "execution_count": 112,
          "metadata": {},
          "output_type": "execute_result"
        }
      ],
      "source": [
        "data18.columns"
      ]
    },
    {
      "cell_type": "code",
      "execution_count": null,
      "id": "a505e6f6",
      "metadata": {
        "id": "a505e6f6",
        "outputId": "2a49c366-dd4b-4c10-84c0-e40c3f2edc05"
      },
      "outputs": [
        {
          "name": "stderr",
          "output_type": "stream",
          "text": [
            "C:\\Users\\MYCOM\\AppData\\Local\\Temp/ipykernel_27364/2678759265.py:3: UserWarning: Pandas doesn't allow columns to be created via a new attribute name - see https://pandas.pydata.org/pandas-docs/stable/indexing.html#attribute-access\n",
            "  q18_1.Date_str = data18.Date.astype('str')\n"
          ]
        }
      ],
      "source": [
        "q18_1=data18.copy()\n",
        "q18_1.Date = pd.to_datetime(q18_1.Date, format='%Y%m%d')\n",
        "q18_1.Date_str = data18.Date.astype('str')\n",
        "# q18_1.Date_str = data18.Date.apply('str')"
      ]
    },
    {
      "cell_type": "code",
      "execution_count": null,
      "id": "240f7498",
      "metadata": {
        "id": "240f7498",
        "outputId": "8943c87b-ed30-42fe-d07d-559a04557b65"
      },
      "outputs": [
        {
          "data": {
            "text/plain": [
              "0       20210101\n",
              "1       20210102\n",
              "2       20210103\n",
              "3       20210104\n",
              "4       20210105\n",
              "          ...   \n",
              "2185    20211227\n",
              "2186    20211228\n",
              "2187    20211229\n",
              "2188    20211230\n",
              "2189    20211231\n",
              "Name: Date, Length: 2190, dtype: object"
            ]
          },
          "execution_count": 114,
          "metadata": {},
          "output_type": "execute_result"
        }
      ],
      "source": [
        "q18_1.Date_str"
      ]
    },
    {
      "cell_type": "code",
      "execution_count": null,
      "id": "99ce6031",
      "metadata": {
        "id": "99ce6031",
        "outputId": "70d29674-4daa-4a5c-95f8-43399f2037f4"
      },
      "outputs": [
        {
          "data": {
            "text/plain": [
              "0       False\n",
              "1       False\n",
              "2       False\n",
              "3       False\n",
              "4       False\n",
              "        ...  \n",
              "2185    False\n",
              "2186    False\n",
              "2187    False\n",
              "2188    False\n",
              "2189    False\n",
              "Name: Date, Length: 2190, dtype: bool"
            ]
          },
          "execution_count": 115,
          "metadata": {},
          "output_type": "execute_result"
        }
      ],
      "source": [
        "q18_1.Date_str.str.slice(4, 6) == '03'"
      ]
    },
    {
      "cell_type": "code",
      "execution_count": null,
      "id": "0fbd7b90",
      "metadata": {
        "id": "0fbd7b90",
        "outputId": "f7e4908d-5929-41a5-af4f-9a87df91f3f5"
      },
      "outputs": [
        {
          "data": {
            "text/plain": [
              "1     186\n",
              "3     186\n",
              "5     186\n",
              "7     186\n",
              "8     186\n",
              "10    186\n",
              "12    186\n",
              "4     180\n",
              "6     180\n",
              "9     180\n",
              "11    180\n",
              "2     168\n",
              "Name: Date, dtype: int64"
            ]
          },
          "execution_count": 116,
          "metadata": {},
          "output_type": "execute_result"
        }
      ],
      "source": [
        "q18_1.Date.dt.month.value_counts()"
      ]
    },
    {
      "cell_type": "code",
      "execution_count": null,
      "id": "1c2a0814",
      "metadata": {
        "id": "1c2a0814",
        "outputId": "44065b67-d285-463f-ec3f-10ffa188670e"
      },
      "outputs": [
        {
          "data": {
            "text/plain": [
              "Location\n",
              "강남구     64.214244\n",
              "강북구     66.406849\n",
              "노원구     61.960717\n",
              "동작구     68.843783\n",
              "영등포구    63.978536\n",
              "종로구     69.265670\n",
              "Name: PM10, dtype: float64"
            ]
          },
          "execution_count": 117,
          "metadata": {},
          "output_type": "execute_result"
        }
      ],
      "source": [
        "q18_1_out=q18_1[q18_1.Date.dt.month == 3].groupby('Location')['PM10'].mean()\n",
        "q18_1_out"
      ]
    },
    {
      "cell_type": "code",
      "execution_count": null,
      "id": "c34c09bd",
      "metadata": {
        "id": "c34c09bd",
        "outputId": "f4facca5-c2f2-407e-9940-db0b47104bf6"
      },
      "outputs": [
        {
          "data": {
            "text/plain": [
              "'종로구'"
            ]
          },
          "execution_count": 118,
          "metadata": {},
          "output_type": "execute_result"
        }
      ],
      "source": [
        "# 답\n",
        "q18_1_out.idxmax()"
      ]
    },
    {
      "cell_type": "markdown",
      "id": "151cf838",
      "metadata": {
        "id": "151cf838"
      },
      "source": [
        "## Q2"
      ]
    },
    {
      "cell_type": "code",
      "execution_count": null,
      "id": "4f968be2",
      "metadata": {
        "id": "4f968be2"
      },
      "outputs": [],
      "source": [
        "q18_2_tab=pd.crosstab(index=data18.Warning, columns=data18.Location)"
      ]
    },
    {
      "cell_type": "code",
      "execution_count": null,
      "id": "20c9348c",
      "metadata": {
        "id": "20c9348c",
        "outputId": "dbf0eff0-9bb1-45ca-de1a-b7a90a0ddb7b"
      },
      "outputs": [
        {
          "data": {
            "text/plain": [
              "3.11"
            ]
          },
          "execution_count": 120,
          "metadata": {},
          "output_type": "execute_result"
        }
      ],
      "source": [
        "# 답\n",
        "round(st.chi2_contingency(q18_2_tab, correction=False)[0],2)"
      ]
    },
    {
      "cell_type": "markdown",
      "id": "9797bb05",
      "metadata": {
        "id": "9797bb05"
      },
      "source": [
        "## Q3"
      ]
    },
    {
      "cell_type": "code",
      "execution_count": null,
      "id": "d1b99ed6",
      "metadata": {
        "id": "d1b99ed6",
        "outputId": "ee42b9a7-218c-49bc-ab70-f7be44ac382b"
      },
      "outputs": [
        {
          "data": {
            "text/plain": [
              "Index(['Date', 'Location', 'PM10', 'PM25', 'O3', 'NO2', 'CO', 'SO2',\n",
              "       'Warning'],\n",
              "      dtype='object')"
            ]
          },
          "execution_count": 121,
          "metadata": {},
          "output_type": "execute_result"
        }
      ],
      "source": [
        "data18.columns"
      ]
    },
    {
      "cell_type": "code",
      "execution_count": null,
      "id": "57193565",
      "metadata": {
        "id": "57193565"
      },
      "outputs": [],
      "source": [
        "q18_3_list1=['PM10', 'PM25', 'O3', 'NO2', 'CO', 'SO2']"
      ]
    },
    {
      "cell_type": "code",
      "execution_count": null,
      "id": "6e0d1f0a",
      "metadata": {
        "id": "6e0d1f0a"
      },
      "outputs": [],
      "source": [
        "q18_3=pd.pivot_table(data=data18, index='Date', values=q18_3_list1).reset_index()"
      ]
    },
    {
      "cell_type": "code",
      "execution_count": null,
      "id": "5cd23587",
      "metadata": {
        "id": "5cd23587",
        "outputId": "bf91a80a-b783-4f24-a64b-fb2fadd2c7d4"
      },
      "outputs": [
        {
          "data": {
            "text/html": [
              "<div>\n",
              "<style scoped>\n",
              "    .dataframe tbody tr th:only-of-type {\n",
              "        vertical-align: middle;\n",
              "    }\n",
              "\n",
              "    .dataframe tbody tr th {\n",
              "        vertical-align: top;\n",
              "    }\n",
              "\n",
              "    .dataframe thead th {\n",
              "        text-align: right;\n",
              "    }\n",
              "</style>\n",
              "<table border=\"1\" class=\"dataframe\">\n",
              "  <thead>\n",
              "    <tr style=\"text-align: right;\">\n",
              "      <th></th>\n",
              "      <th>Date</th>\n",
              "      <th>CO</th>\n",
              "      <th>NO2</th>\n",
              "      <th>O3</th>\n",
              "      <th>PM10</th>\n",
              "      <th>PM25</th>\n",
              "      <th>SO2</th>\n",
              "    </tr>\n",
              "  </thead>\n",
              "  <tbody>\n",
              "    <tr>\n",
              "      <th>0</th>\n",
              "      <td>20210101</td>\n",
              "      <td>0.546843</td>\n",
              "      <td>0.027037</td>\n",
              "      <td>0.015163</td>\n",
              "      <td>27.035354</td>\n",
              "      <td>17.587121</td>\n",
              "      <td>0.003402</td>\n",
              "    </tr>\n",
              "    <tr>\n",
              "      <th>1</th>\n",
              "      <td>20210102</td>\n",
              "      <td>0.399306</td>\n",
              "      <td>0.014271</td>\n",
              "      <td>0.025771</td>\n",
              "      <td>33.145833</td>\n",
              "      <td>12.236111</td>\n",
              "      <td>0.003132</td>\n",
              "    </tr>\n",
              "    <tr>\n",
              "      <th>2</th>\n",
              "      <td>20210103</td>\n",
              "      <td>0.464583</td>\n",
              "      <td>0.019729</td>\n",
              "      <td>0.020458</td>\n",
              "      <td>36.958333</td>\n",
              "      <td>14.673611</td>\n",
              "      <td>0.003299</td>\n",
              "    </tr>\n",
              "    <tr>\n",
              "      <th>3</th>\n",
              "      <td>20210104</td>\n",
              "      <td>0.616327</td>\n",
              "      <td>0.037327</td>\n",
              "      <td>0.008284</td>\n",
              "      <td>38.879244</td>\n",
              "      <td>23.461419</td>\n",
              "      <td>0.003565</td>\n",
              "    </tr>\n",
              "    <tr>\n",
              "      <th>4</th>\n",
              "      <td>20210105</td>\n",
              "      <td>0.410450</td>\n",
              "      <td>0.018110</td>\n",
              "      <td>0.022117</td>\n",
              "      <td>27.322821</td>\n",
              "      <td>16.001784</td>\n",
              "      <td>0.002919</td>\n",
              "    </tr>\n",
              "    <tr>\n",
              "      <th>...</th>\n",
              "      <td>...</td>\n",
              "      <td>...</td>\n",
              "      <td>...</td>\n",
              "      <td>...</td>\n",
              "      <td>...</td>\n",
              "      <td>...</td>\n",
              "      <td>...</td>\n",
              "    </tr>\n",
              "    <tr>\n",
              "      <th>360</th>\n",
              "      <td>20211227</td>\n",
              "      <td>0.613005</td>\n",
              "      <td>0.035854</td>\n",
              "      <td>0.008583</td>\n",
              "      <td>34.148990</td>\n",
              "      <td>19.440025</td>\n",
              "      <td>0.002992</td>\n",
              "    </tr>\n",
              "    <tr>\n",
              "      <th>361</th>\n",
              "      <td>20211228</td>\n",
              "      <td>0.854861</td>\n",
              "      <td>0.044674</td>\n",
              "      <td>0.002882</td>\n",
              "      <td>53.527778</td>\n",
              "      <td>38.076389</td>\n",
              "      <td>0.003368</td>\n",
              "    </tr>\n",
              "    <tr>\n",
              "      <th>362</th>\n",
              "      <td>20211229</td>\n",
              "      <td>0.793750</td>\n",
              "      <td>0.036424</td>\n",
              "      <td>0.010750</td>\n",
              "      <td>64.993056</td>\n",
              "      <td>46.340278</td>\n",
              "      <td>0.003729</td>\n",
              "    </tr>\n",
              "    <tr>\n",
              "      <th>363</th>\n",
              "      <td>20211230</td>\n",
              "      <td>0.370076</td>\n",
              "      <td>0.016765</td>\n",
              "      <td>0.025908</td>\n",
              "      <td>29.052399</td>\n",
              "      <td>14.664773</td>\n",
              "      <td>0.003128</td>\n",
              "    </tr>\n",
              "    <tr>\n",
              "      <th>364</th>\n",
              "      <td>20211231</td>\n",
              "      <td>0.327778</td>\n",
              "      <td>0.012792</td>\n",
              "      <td>0.029437</td>\n",
              "      <td>23.298611</td>\n",
              "      <td>6.840278</td>\n",
              "      <td>0.002674</td>\n",
              "    </tr>\n",
              "  </tbody>\n",
              "</table>\n",
              "<p>365 rows × 7 columns</p>\n",
              "</div>"
            ],
            "text/plain": [
              "         Date        CO       NO2        O3       PM10       PM25       SO2\n",
              "0    20210101  0.546843  0.027037  0.015163  27.035354  17.587121  0.003402\n",
              "1    20210102  0.399306  0.014271  0.025771  33.145833  12.236111  0.003132\n",
              "2    20210103  0.464583  0.019729  0.020458  36.958333  14.673611  0.003299\n",
              "3    20210104  0.616327  0.037327  0.008284  38.879244  23.461419  0.003565\n",
              "4    20210105  0.410450  0.018110  0.022117  27.322821  16.001784  0.002919\n",
              "..        ...       ...       ...       ...        ...        ...       ...\n",
              "360  20211227  0.613005  0.035854  0.008583  34.148990  19.440025  0.002992\n",
              "361  20211228  0.854861  0.044674  0.002882  53.527778  38.076389  0.003368\n",
              "362  20211229  0.793750  0.036424  0.010750  64.993056  46.340278  0.003729\n",
              "363  20211230  0.370076  0.016765  0.025908  29.052399  14.664773  0.003128\n",
              "364  20211231  0.327778  0.012792  0.029437  23.298611   6.840278  0.002674\n",
              "\n",
              "[365 rows x 7 columns]"
            ]
          },
          "execution_count": 124,
          "metadata": {},
          "output_type": "execute_result"
        }
      ],
      "source": [
        "q18_3"
      ]
    },
    {
      "cell_type": "code",
      "execution_count": null,
      "id": "656b1d11",
      "metadata": {
        "id": "656b1d11",
        "outputId": "fd3d441d-9816-45ce-8f42-322887054193"
      },
      "outputs": [
        {
          "data": {
            "text/plain": [
              "Index(['Date', 'CO', 'NO2', 'O3', 'PM10', 'PM25', 'SO2'], dtype='object')"
            ]
          },
          "execution_count": 125,
          "metadata": {},
          "output_type": "execute_result"
        }
      ],
      "source": [
        "q18_3.columns"
      ]
    },
    {
      "cell_type": "code",
      "execution_count": null,
      "id": "aaea141f",
      "metadata": {
        "id": "aaea141f"
      },
      "outputs": [],
      "source": [
        "q18_3['Y'] = np.where((q18_3.PM10 > 30) | (q18_3.PM25 > 40), 1, 0)"
      ]
    },
    {
      "cell_type": "code",
      "execution_count": null,
      "id": "97c41061",
      "metadata": {
        "id": "97c41061"
      },
      "outputs": [],
      "source": [
        "q18_3['Date']=q18_3.Date.astype('str')\n",
        "train = q18_3[q18_3['Date'].str.slice(4, 6) != '07']\n",
        "test = q18_3[q18_3['Date'].str.slice(4, 6) == '07']"
      ]
    },
    {
      "cell_type": "code",
      "execution_count": null,
      "id": "cea92a73",
      "metadata": {
        "id": "cea92a73"
      },
      "outputs": [],
      "source": [
        "from sklearn.tree import DecisionTreeClassifier"
      ]
    },
    {
      "cell_type": "code",
      "execution_count": null,
      "id": "f97b04b4",
      "metadata": {
        "id": "f97b04b4"
      },
      "outputs": [],
      "source": [
        "dt=DecisionTreeClassifier(random_state=123).fit(train[q18_3_list1], train['Y'])"
      ]
    },
    {
      "cell_type": "code",
      "execution_count": null,
      "id": "e5912d86",
      "metadata": {
        "id": "e5912d86"
      },
      "outputs": [],
      "source": [
        "q18_3_pred=dt.predict(test[q18_3_list1])"
      ]
    },
    {
      "cell_type": "code",
      "execution_count": null,
      "id": "47f8f776",
      "metadata": {
        "id": "47f8f776"
      },
      "outputs": [],
      "source": [
        "from sklearn.metrics import confusion_matrix"
      ]
    },
    {
      "cell_type": "code",
      "execution_count": null,
      "id": "ac69efab",
      "metadata": {
        "id": "ac69efab",
        "outputId": "e7dac745-dcf9-4ae0-e685-9829f25db13f"
      },
      "outputs": [
        {
          "data": {
            "text/plain": [
              "0"
            ]
          },
          "execution_count": 132,
          "metadata": {},
          "output_type": "execute_result"
        }
      ],
      "source": [
        "# 답\n",
        "confusion_matrix(test['Y'], q18_3_pred)[1,0]"
      ]
    }
  ],
  "metadata": {
    "kernelspec": {
      "display_name": "Python 3 (ipykernel)",
      "language": "python",
      "name": "python3"
    },
    "language_info": {
      "codemirror_mode": {
        "name": "ipython",
        "version": 3
      },
      "file_extension": ".py",
      "mimetype": "text/x-python",
      "name": "python",
      "nbconvert_exporter": "python",
      "pygments_lexer": "ipython3",
      "version": "3.9.7"
    },
    "colab": {
      "provenance": [],
      "include_colab_link": true
    }
  },
  "nbformat": 4,
  "nbformat_minor": 5
}