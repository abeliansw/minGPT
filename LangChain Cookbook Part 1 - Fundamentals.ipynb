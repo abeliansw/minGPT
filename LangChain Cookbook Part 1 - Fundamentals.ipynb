{
  "cells": [
    {
      "cell_type": "markdown",
      "id": "359697d5",
      "metadata": {
        "id": "359697d5"
      },
      "source": [
        "# LangChain Cookbook 👨‍🍳👩‍🍳"
      ]
    },
    {
      "cell_type": "code",
      "source": [
        "from google.colab import drive\n",
        "drive.mount('/content/drive')"
      ],
      "metadata": {
        "colab": {
          "base_uri": "https://localhost:8080/"
        },
        "id": "S9MXfKIMdzFS",
        "outputId": "cadea9c5-7328-4e0a-b1d5-754d86348b7d"
      },
      "id": "S9MXfKIMdzFS",
      "execution_count": 1,
      "outputs": [
        {
          "output_type": "stream",
          "name": "stdout",
          "text": [
            "Mounted at /content/drive\n"
          ]
        }
      ]
    },
    {
      "cell_type": "code",
      "source": [
        "! cp /content/drive/MyDrive/강의자료2/part2/실습/MusicRecommendationRNN/song_data.csv song_data.csv"
      ],
      "metadata": {
        "id": "26i61OhedzJP"
      },
      "id": "26i61OhedzJP",
      "execution_count": 2,
      "outputs": []
    },
    {
      "cell_type": "code",
      "source": [
        "import pandas as pd\n",
        "import numpy as np\n",
        "from sklearn.model_selection import train_test_split\n",
        "from tensorflow.keras.layers import Input, Embedding, Flatten, Dot, Dense, SimpleRNN\n",
        "from tensorflow.keras.models import Model"
      ],
      "metadata": {
        "id": "naJVuCGsdzMj"
      },
      "id": "naJVuCGsdzMj",
      "execution_count": 3,
      "outputs": []
    },
    {
      "cell_type": "code",
      "source": [
        "dataset = pd.read_csv('song_data.csv')\n",
        "train, test = train_test_split(dataset, test_size=0.2, random_state=42)\n",
        "\n",
        "n_users = len(dataset.user_id.unique())\n",
        "n_songs = len(dataset.song_id.unique())"
      ],
      "metadata": {
        "id": "QjzIXN9udzQW"
      },
      "id": "QjzIXN9udzQW",
      "execution_count": 6,
      "outputs": []
    },
    {
      "cell_type": "code",
      "source": [
        "dataset.head()\n"
      ],
      "metadata": {
        "colab": {
          "base_uri": "https://localhost:8080/",
          "height": 206
        },
        "id": "pns2ME8xdzTC",
        "outputId": "8d056648-2ccf-476b-e34b-00bd0fea31e2"
      },
      "id": "pns2ME8xdzTC",
      "execution_count": 7,
      "outputs": [
        {
          "output_type": "execute_result",
          "data": {
            "text/plain": [
              "   song_id  user_id  rating\n",
              "0        1      314       5\n",
              "1        1      439       3\n",
              "2        1      588       5\n",
              "3        1     1169       4\n",
              "4        1     1185       4"
            ],
            "text/html": [
              "\n",
              "\n",
              "  <div id=\"df-811238c2-22a4-4703-9ef7-eda13ee4bc42\">\n",
              "    <div class=\"colab-df-container\">\n",
              "      <div>\n",
              "<style scoped>\n",
              "    .dataframe tbody tr th:only-of-type {\n",
              "        vertical-align: middle;\n",
              "    }\n",
              "\n",
              "    .dataframe tbody tr th {\n",
              "        vertical-align: top;\n",
              "    }\n",
              "\n",
              "    .dataframe thead th {\n",
              "        text-align: right;\n",
              "    }\n",
              "</style>\n",
              "<table border=\"1\" class=\"dataframe\">\n",
              "  <thead>\n",
              "    <tr style=\"text-align: right;\">\n",
              "      <th></th>\n",
              "      <th>song_id</th>\n",
              "      <th>user_id</th>\n",
              "      <th>rating</th>\n",
              "    </tr>\n",
              "  </thead>\n",
              "  <tbody>\n",
              "    <tr>\n",
              "      <th>0</th>\n",
              "      <td>1</td>\n",
              "      <td>314</td>\n",
              "      <td>5</td>\n",
              "    </tr>\n",
              "    <tr>\n",
              "      <th>1</th>\n",
              "      <td>1</td>\n",
              "      <td>439</td>\n",
              "      <td>3</td>\n",
              "    </tr>\n",
              "    <tr>\n",
              "      <th>2</th>\n",
              "      <td>1</td>\n",
              "      <td>588</td>\n",
              "      <td>5</td>\n",
              "    </tr>\n",
              "    <tr>\n",
              "      <th>3</th>\n",
              "      <td>1</td>\n",
              "      <td>1169</td>\n",
              "      <td>4</td>\n",
              "    </tr>\n",
              "    <tr>\n",
              "      <th>4</th>\n",
              "      <td>1</td>\n",
              "      <td>1185</td>\n",
              "      <td>4</td>\n",
              "    </tr>\n",
              "  </tbody>\n",
              "</table>\n",
              "</div>\n",
              "      <button class=\"colab-df-convert\" onclick=\"convertToInteractive('df-811238c2-22a4-4703-9ef7-eda13ee4bc42')\"\n",
              "              title=\"Convert this dataframe to an interactive table.\"\n",
              "              style=\"display:none;\">\n",
              "\n",
              "  <svg xmlns=\"http://www.w3.org/2000/svg\" height=\"24px\"viewBox=\"0 0 24 24\"\n",
              "       width=\"24px\">\n",
              "    <path d=\"M0 0h24v24H0V0z\" fill=\"none\"/>\n",
              "    <path d=\"M18.56 5.44l.94 2.06.94-2.06 2.06-.94-2.06-.94-.94-2.06-.94 2.06-2.06.94zm-11 1L8.5 8.5l.94-2.06 2.06-.94-2.06-.94L8.5 2.5l-.94 2.06-2.06.94zm10 10l.94 2.06.94-2.06 2.06-.94-2.06-.94-.94-2.06-.94 2.06-2.06.94z\"/><path d=\"M17.41 7.96l-1.37-1.37c-.4-.4-.92-.59-1.43-.59-.52 0-1.04.2-1.43.59L10.3 9.45l-7.72 7.72c-.78.78-.78 2.05 0 2.83L4 21.41c.39.39.9.59 1.41.59.51 0 1.02-.2 1.41-.59l7.78-7.78 2.81-2.81c.8-.78.8-2.07 0-2.86zM5.41 20L4 18.59l7.72-7.72 1.47 1.35L5.41 20z\"/>\n",
              "  </svg>\n",
              "      </button>\n",
              "\n",
              "\n",
              "\n",
              "    <div id=\"df-e3140318-d53e-47b6-8802-32061075316b\">\n",
              "      <button class=\"colab-df-quickchart\" onclick=\"quickchart('df-e3140318-d53e-47b6-8802-32061075316b')\"\n",
              "              title=\"Suggest charts.\"\n",
              "              style=\"display:none;\">\n",
              "\n",
              "<svg xmlns=\"http://www.w3.org/2000/svg\" height=\"24px\"viewBox=\"0 0 24 24\"\n",
              "     width=\"24px\">\n",
              "    <g>\n",
              "        <path d=\"M19 3H5c-1.1 0-2 .9-2 2v14c0 1.1.9 2 2 2h14c1.1 0 2-.9 2-2V5c0-1.1-.9-2-2-2zM9 17H7v-7h2v7zm4 0h-2V7h2v10zm4 0h-2v-4h2v4z\"/>\n",
              "    </g>\n",
              "</svg>\n",
              "      </button>\n",
              "    </div>\n",
              "\n",
              "<style>\n",
              "  .colab-df-quickchart {\n",
              "    background-color: #E8F0FE;\n",
              "    border: none;\n",
              "    border-radius: 50%;\n",
              "    cursor: pointer;\n",
              "    display: none;\n",
              "    fill: #1967D2;\n",
              "    height: 32px;\n",
              "    padding: 0 0 0 0;\n",
              "    width: 32px;\n",
              "  }\n",
              "\n",
              "  .colab-df-quickchart:hover {\n",
              "    background-color: #E2EBFA;\n",
              "    box-shadow: 0px 1px 2px rgba(60, 64, 67, 0.3), 0px 1px 3px 1px rgba(60, 64, 67, 0.15);\n",
              "    fill: #174EA6;\n",
              "  }\n",
              "\n",
              "  [theme=dark] .colab-df-quickchart {\n",
              "    background-color: #3B4455;\n",
              "    fill: #D2E3FC;\n",
              "  }\n",
              "\n",
              "  [theme=dark] .colab-df-quickchart:hover {\n",
              "    background-color: #434B5C;\n",
              "    box-shadow: 0px 1px 3px 1px rgba(0, 0, 0, 0.15);\n",
              "    filter: drop-shadow(0px 1px 2px rgba(0, 0, 0, 0.3));\n",
              "    fill: #FFFFFF;\n",
              "  }\n",
              "</style>\n",
              "\n",
              "    <script>\n",
              "      async function quickchart(key) {\n",
              "        const containerElement = document.querySelector('#' + key);\n",
              "        const charts = await google.colab.kernel.invokeFunction(\n",
              "            'suggestCharts', [key], {});\n",
              "      }\n",
              "    </script>\n",
              "\n",
              "      <script>\n",
              "\n",
              "function displayQuickchartButton(domScope) {\n",
              "  let quickchartButtonEl =\n",
              "    domScope.querySelector('#df-e3140318-d53e-47b6-8802-32061075316b button.colab-df-quickchart');\n",
              "  quickchartButtonEl.style.display =\n",
              "    google.colab.kernel.accessAllowed ? 'block' : 'none';\n",
              "}\n",
              "\n",
              "        displayQuickchartButton(document);\n",
              "      </script>\n",
              "      <style>\n",
              "    .colab-df-container {\n",
              "      display:flex;\n",
              "      flex-wrap:wrap;\n",
              "      gap: 12px;\n",
              "    }\n",
              "\n",
              "    .colab-df-convert {\n",
              "      background-color: #E8F0FE;\n",
              "      border: none;\n",
              "      border-radius: 50%;\n",
              "      cursor: pointer;\n",
              "      display: none;\n",
              "      fill: #1967D2;\n",
              "      height: 32px;\n",
              "      padding: 0 0 0 0;\n",
              "      width: 32px;\n",
              "    }\n",
              "\n",
              "    .colab-df-convert:hover {\n",
              "      background-color: #E2EBFA;\n",
              "      box-shadow: 0px 1px 2px rgba(60, 64, 67, 0.3), 0px 1px 3px 1px rgba(60, 64, 67, 0.15);\n",
              "      fill: #174EA6;\n",
              "    }\n",
              "\n",
              "    [theme=dark] .colab-df-convert {\n",
              "      background-color: #3B4455;\n",
              "      fill: #D2E3FC;\n",
              "    }\n",
              "\n",
              "    [theme=dark] .colab-df-convert:hover {\n",
              "      background-color: #434B5C;\n",
              "      box-shadow: 0px 1px 3px 1px rgba(0, 0, 0, 0.15);\n",
              "      filter: drop-shadow(0px 1px 2px rgba(0, 0, 0, 0.3));\n",
              "      fill: #FFFFFF;\n",
              "    }\n",
              "  </style>\n",
              "\n",
              "      <script>\n",
              "        const buttonEl =\n",
              "          document.querySelector('#df-811238c2-22a4-4703-9ef7-eda13ee4bc42 button.colab-df-convert');\n",
              "        buttonEl.style.display =\n",
              "          google.colab.kernel.accessAllowed ? 'block' : 'none';\n",
              "\n",
              "        async function convertToInteractive(key) {\n",
              "          const element = document.querySelector('#df-811238c2-22a4-4703-9ef7-eda13ee4bc42');\n",
              "          const dataTable =\n",
              "            await google.colab.kernel.invokeFunction('convertToInteractive',\n",
              "                                                     [key], {});\n",
              "          if (!dataTable) return;\n",
              "\n",
              "          const docLinkHtml = 'Like what you see? Visit the ' +\n",
              "            '<a target=\"_blank\" href=https://colab.research.google.com/notebooks/data_table.ipynb>data table notebook</a>'\n",
              "            + ' to learn more about interactive tables.';\n",
              "          element.innerHTML = '';\n",
              "          dataTable['output_type'] = 'display_data';\n",
              "          await google.colab.output.renderOutput(dataTable, element);\n",
              "          const docLink = document.createElement('div');\n",
              "          docLink.innerHTML = docLinkHtml;\n",
              "          element.appendChild(docLink);\n",
              "        }\n",
              "      </script>\n",
              "    </div>\n",
              "  </div>\n"
            ]
          },
          "metadata": {},
          "execution_count": 7
        }
      ]
    },
    {
      "cell_type": "code",
      "source": [
        "dataset.info()"
      ],
      "metadata": {
        "colab": {
          "base_uri": "https://localhost:8080/"
        },
        "id": "QzH38dLgeqNR",
        "outputId": "5360b286-fae8-47c4-fb32-4c3f82242dd6"
      },
      "id": "QzH38dLgeqNR",
      "execution_count": 8,
      "outputs": [
        {
          "output_type": "stream",
          "name": "stdout",
          "text": [
            "<class 'pandas.core.frame.DataFrame'>\n",
            "RangeIndex: 981756 entries, 0 to 981755\n",
            "Data columns (total 3 columns):\n",
            " #   Column   Non-Null Count   Dtype\n",
            "---  ------   --------------   -----\n",
            " 0   song_id  981756 non-null  int64\n",
            " 1   user_id  981756 non-null  int64\n",
            " 2   rating   981756 non-null  int64\n",
            "dtypes: int64(3)\n",
            "memory usage: 22.5 MB\n"
          ]
        }
      ]
    },
    {
      "cell_type": "code",
      "source": [
        "song_input = Input(shape=[1], name=\"Song-Input\")\n",
        "song_embedding = Embedding(n_songs+1, 5, name=\"Song-Embedding\")(song_input)\n",
        "song_vec = Flatten(name=\"Flatten-Songs\")(song_embedding)\n",
        "\n",
        "user_input = Input(shape=[1], name=\"User-Input\")\n",
        "user_embedding = Embedding(n_users+1, 5, name=\"User-Embedding\")(user_input)\n",
        "user_embedding1 = SimpleRNN(20, name=\"User-Embedding1\")(user_embedding)\n",
        "user_vec = Flatten(name=\"Flatten-Users\")(user_embedding)\n",
        "\n",
        "prod = Dot(name=\"Dot-Product\", axes=1)([song_vec, user_vec])\n",
        "model = Model([user_input, song_input], prod)\n",
        "model.compile('adam', 'mean_squared_error')"
      ],
      "metadata": {
        "id": "HRHFJ7JsfogI"
      },
      "id": "HRHFJ7JsfogI",
      "execution_count": 9,
      "outputs": []
    },
    {
      "cell_type": "code",
      "source": [
        "history = model.fit([train.user_id, train.song_id], train.rating, epochs=10, verbose=1)"
      ],
      "metadata": {
        "colab": {
          "base_uri": "https://localhost:8080/"
        },
        "id": "V6hgDiNMfojy",
        "outputId": "f2b90213-38f3-4f83-a45e-df6c692cd3fe"
      },
      "id": "V6hgDiNMfojy",
      "execution_count": 10,
      "outputs": [
        {
          "output_type": "stream",
          "name": "stdout",
          "text": [
            "Epoch 1/10\n",
            "24544/24544 [==============================] - 136s 6ms/step - loss: 14.2343\n",
            "Epoch 2/10\n",
            "24544/24544 [==============================] - 130s 5ms/step - loss: 5.0805\n",
            "Epoch 3/10\n",
            "24544/24544 [==============================] - 132s 5ms/step - loss: 1.8390\n",
            "Epoch 4/10\n",
            "24544/24544 [==============================] - 130s 5ms/step - loss: 1.1984\n",
            "Epoch 5/10\n",
            "24544/24544 [==============================] - 131s 5ms/step - loss: 0.9588\n",
            "Epoch 6/10\n",
            "24544/24544 [==============================] - 130s 5ms/step - loss: 0.8403\n",
            "Epoch 7/10\n",
            "24544/24544 [==============================] - 129s 5ms/step - loss: 0.7736\n",
            "Epoch 8/10\n",
            "24544/24544 [==============================] - 148s 6ms/step - loss: 0.7324\n",
            "Epoch 9/10\n",
            "24544/24544 [==============================] - 128s 5ms/step - loss: 0.7058\n",
            "Epoch 10/10\n",
            "24544/24544 [==============================] - 129s 5ms/step - loss: 0.6877\n"
          ]
        }
      ]
    },
    {
      "cell_type": "code",
      "source": [],
      "metadata": {
        "id": "bfcFUi1rfomp"
      },
      "id": "bfcFUi1rfomp",
      "execution_count": 10,
      "outputs": []
    },
    {
      "cell_type": "code",
      "source": [
        "# Extract embeddings\n",
        "song_em = model.get_layer('Song-Embedding')\n",
        "song_em_weights = song_em.get_weights()[0]\n",
        "song_em_weights.shape"
      ],
      "metadata": {
        "colab": {
          "base_uri": "https://localhost:8080/"
        },
        "id": "bf875UwivtZT",
        "outputId": "03195326-1ea4-4235-c348-cfbb61589804"
      },
      "id": "bf875UwivtZT",
      "execution_count": 11,
      "outputs": [
        {
          "output_type": "execute_result",
          "data": {
            "text/plain": [
              "(10001, 5)"
            ]
          },
          "metadata": {},
          "execution_count": 11
        }
      ]
    },
    {
      "cell_type": "code",
      "source": [
        "from sklearn.decomposition import PCA\n",
        "import seaborn as sns\n",
        "\n",
        "pca = PCA(n_components=2)\n",
        "pca_result = pca.fit_transform(song_em_weights)\n",
        "sns.scatterplot(x=pca_result[:,0], y=pca_result[:,1])"
      ],
      "metadata": {
        "colab": {
          "base_uri": "https://localhost:8080/",
          "height": 448
        },
        "id": "gTUGuNSRvteT",
        "outputId": "3cd2dd30-2ffc-4f5c-8e4b-f88f93d78b8a"
      },
      "id": "gTUGuNSRvteT",
      "execution_count": 12,
      "outputs": [
        {
          "output_type": "execute_result",
          "data": {
            "text/plain": [
              "<Axes: >"
            ]
          },
          "metadata": {},
          "execution_count": 12
        },
        {
          "output_type": "display_data",
          "data": {
            "text/plain": [
              "<Figure size 640x480 with 1 Axes>"
            ],
            "image/png": "[encoded data removed]"
          },
          "metadata": {}
        }
      ]
    },
    {
      "cell_type": "code",
      "source": [
        "song_data = np.array(list(set(dataset.song_id)))\n",
        "user = np.array([1 for i in range(len(song_data))])\n",
        "\n",
        "predictions = model.predict([user, song_data])\n",
        "print(predictions)\n"
      ],
      "metadata": {
        "colab": {
          "base_uri": "https://localhost:8080/"
        },
        "id": "M05LB0TmtBeP",
        "outputId": "6d0bd639-9b85-48a9-e5ef-0d428246afd0"
      },
      "id": "M05LB0TmtBeP",
      "execution_count": 13,
      "outputs": [
        {
          "output_type": "stream",
          "name": "stdout",
          "text": [
            "313/313 [==============================] - 0s 1ms/step\n",
            "[[1.5098577 ]\n",
            " [0.98424053]\n",
            " [1.2289875 ]\n",
            " ...\n",
            " [3.8930612 ]\n",
            " [3.8202293 ]\n",
            " [3.6659112 ]]\n"
          ]
        }
      ]
    },
    {
      "cell_type": "code",
      "source": [
        "predictions[0]"
      ],
      "metadata": {
        "colab": {
          "base_uri": "https://localhost:8080/"
        },
        "id": "syAedRqDkcMN",
        "outputId": "abbae5b1-ac04-4b45-8a41-2cb05a755750"
      },
      "id": "syAedRqDkcMN",
      "execution_count": 16,
      "outputs": [
        {
          "output_type": "execute_result",
          "data": {
            "text/plain": [
              "array([1.5098577], dtype=float32)"
            ]
          },
          "metadata": {},
          "execution_count": 16
        }
      ]
    },
    {
      "cell_type": "code",
      "source": [
        "predictions2 = np.array([a[0] for a in predictions])\n",
        "\n",
        "predictions2.shape"
      ],
      "metadata": {
        "colab": {
          "base_uri": "https://localhost:8080/"
        },
        "id": "6fcXdrMyijyg",
        "outputId": "6f6f7ccb-bcfa-4966-b0e9-b647adf445d4"
      },
      "id": "6fcXdrMyijyg",
      "execution_count": 18,
      "outputs": [
        {
          "output_type": "execute_result",
          "data": {
            "text/plain": [
              "(10000,)"
            ]
          },
          "metadata": {},
          "execution_count": 18
        }
      ]
    },
    {
      "cell_type": "code",
      "source": [
        "recommended_song_ids = (-predictions2).argsort()[:5]\n",
        "recommended_song_ids"
      ],
      "metadata": {
        "colab": {
          "base_uri": "https://localhost:8080/"
        },
        "id": "DxJ1igbntBg9",
        "outputId": "4b32e7d1-2a8e-4b96-f89f-486c725652f3"
      },
      "id": "DxJ1igbntBg9",
      "execution_count": 21,
      "outputs": [
        {
          "output_type": "execute_result",
          "data": {
            "text/plain": [
              "array([7843, 9459, 4942, 9841, 7638])"
            ]
          },
          "metadata": {},
          "execution_count": 21
        }
      ]
    },
    {
      "cell_type": "code",
      "source": [
        "print(recommended_song_ids)\n",
        "print(predictions[recommended_song_ids])\n",
        "print(predictions2[recommended_song_ids])"
      ],
      "metadata": {
        "colab": {
          "base_uri": "https://localhost:8080/"
        },
        "id": "xU6SOPjfgZoj",
        "outputId": "ad224e03-283f-4de3-e682-a8a7782ec0d5"
      },
      "id": "xU6SOPjfgZoj",
      "execution_count": 22,
      "outputs": [
        {
          "output_type": "stream",
          "name": "stdout",
          "text": [
            "[7843 9459 4942 9841 7638]\n",
            "[[5.0732985]\n",
            " [4.987923 ]\n",
            " [4.9505253]\n",
            " [4.931801 ]\n",
            " [4.809252 ]]\n",
            "[5.0732985 4.987923  4.9505253 4.931801  4.809252 ]\n"
          ]
        }
      ]
    },
    {
      "cell_type": "code",
      "source": [
        "!pip install finance-datareader"
      ],
      "metadata": {
        "colab": {
          "base_uri": "https://localhost:8080/"
        },
        "id": "IddSIzFngZsS",
        "outputId": "2ae9779a-6424-464a-f51d-3167f2c949a2"
      },
      "id": "IddSIzFngZsS",
      "execution_count": 12,
      "outputs": [
        {
          "output_type": "stream",
          "name": "stdout",
          "text": [
            "Requirement already satisfied: finance-datareader in /usr/local/lib/python3.10/dist-packages (0.9.50)\n",
            "Requirement already satisfied: pandas>=0.19.2 in /usr/local/lib/python3.10/dist-packages (from finance-datareader) (1.5.3)\n",
            "Requirement already satisfied: requests>=2.3.0 in /usr/local/lib/python3.10/dist-packages (from finance-datareader) (2.27.1)\n",
            "Requirement already satisfied: requests-file in /usr/local/lib/python3.10/dist-packages (from finance-datareader) (1.5.1)\n",
            "Requirement already satisfied: lxml in /usr/local/lib/python3.10/dist-packages (from finance-datareader) (4.9.3)\n",
            "Requirement already satisfied: tqdm in /usr/local/lib/python3.10/dist-packages (from finance-datareader) (4.65.0)\n",
            "Requirement already satisfied: python-dateutil>=2.8.1 in /usr/local/lib/python3.10/dist-packages (from pandas>=0.19.2->finance-datareader) (2.8.2)\n",
            "Requirement already satisfied: pytz>=2020.1 in /usr/local/lib/python3.10/dist-packages (from pandas>=0.19.2->finance-datareader) (2022.7.1)\n",
            "Requirement already satisfied: numpy>=1.21.0 in /usr/local/lib/python3.10/dist-packages (from pandas>=0.19.2->finance-datareader) (1.22.4)\n",
            "Requirement already satisfied: urllib3<1.27,>=1.21.1 in /usr/local/lib/python3.10/dist-packages (from requests>=2.3.0->finance-datareader) (1.26.16)\n",
            "Requirement already satisfied: certifi>=2017.4.17 in /usr/local/lib/python3.10/dist-packages (from requests>=2.3.0->finance-datareader) (2023.7.22)\n",
            "Requirement already satisfied: charset-normalizer~=2.0.0 in /usr/local/lib/python3.10/dist-packages (from requests>=2.3.0->finance-datareader) (2.0.12)\n",
            "Requirement already satisfied: idna<4,>=2.5 in /usr/local/lib/python3.10/dist-packages (from requests>=2.3.0->finance-datareader) (3.4)\n",
            "Requirement already satisfied: six in /usr/local/lib/python3.10/dist-packages (from requests-file->finance-datareader) (1.16.0)\n"
          ]
        }
      ]
    },
    {
      "cell_type": "code",
      "source": [
        "import FinanceDataReader as fdr"
      ],
      "metadata": {
        "id": "I4deeW-HL9h7"
      },
      "id": "I4deeW-HL9h7",
      "execution_count": 13,
      "outputs": []
    },
    {
      "cell_type": "code",
      "source": [
        "start_date = '2020-01-01'\n",
        "end_date = '2023-07-14'\n",
        "\n",
        "# 삼성전자 (종목 코드: 005930)과 코스피 (종목 코드: KOSPI) 데이터를 가져옵니다.\n",
        "# 수정 종가를 사용하여 수익률을 계산하도록 선택합니다.\n",
        "samsung = fdr.DataReader('005930', start=start_date, end=end_date)\n",
        "samsung\n"
      ],
      "metadata": {
        "colab": {
          "base_uri": "https://localhost:8080/",
          "height": 455
        },
        "id": "Ot0ZyB7NMEDr",
        "outputId": "dcbb12f1-d02a-43e2-92ba-3b888abf514b"
      },
      "id": "Ot0ZyB7NMEDr",
      "execution_count": 18,
      "outputs": [
        {
          "output_type": "execute_result",
          "data": {
            "text/plain": [
              "             Open   High    Low  Close    Volume    Change\n",
              "Date                                                      \n",
              "2020-01-02  55500  56000  55000  55200  12993228 -0.010753\n",
              "2020-01-03  56000  56600  54900  55500  15422255  0.005435\n",
              "2020-01-06  54900  55600  54600  55500  10278951  0.000000\n",
              "2020-01-07  55700  56400  55600  55800  10009778  0.005405\n",
              "2020-01-08  56200  57400  55900  56800  23501171  0.017921\n",
              "...           ...    ...    ...    ...       ...       ...\n",
              "2023-07-10  70000  70400  69200  69500  11713926 -0.005722\n",
              "2023-07-11  70200  71500  70100  71500  12177392  0.028777\n",
              "2023-07-12  71200  72000  71100  71900  10375581  0.005594\n",
              "2023-07-13  72400  72600  71900  71900  14417279  0.000000\n",
              "2023-07-14  72500  73400  72400  73400  15882519  0.020862\n",
              "\n",
              "[875 rows x 6 columns]"
            ],
            "text/html": [
              "\n",
              "\n",
              "  <div id=\"df-cbe83b76-ec2a-4e62-8f41-037d313bef6f\">\n",
              "    <div class=\"colab-df-container\">\n",
              "      <div>\n",
              "<style scoped>\n",
              "    .dataframe tbody tr th:only-of-type {\n",
              "        vertical-align: middle;\n",
              "    }\n",
              "\n",
              "    .dataframe tbody tr th {\n",
              "        vertical-align: top;\n",
              "    }\n",
              "\n",
              "    .dataframe thead th {\n",
              "        text-align: right;\n",
              "    }\n",
              "</style>\n",
              "<table border=\"1\" class=\"dataframe\">\n",
              "  <thead>\n",
              "    <tr style=\"text-align: right;\">\n",
              "      <th></th>\n",
              "      <th>Open</th>\n",
              "      <th>High</th>\n",
              "      <th>Low</th>\n",
              "      <th>Close</th>\n",
              "      <th>Volume</th>\n",
              "      <th>Change</th>\n",
              "    </tr>\n",
              "    <tr>\n",
              "      <th>Date</th>\n",
              "      <th></th>\n",
              "      <th></th>\n",
              "      <th></th>\n",
              "      <th></th>\n",
              "      <th></th>\n",
              "      <th></th>\n",
              "    </tr>\n",
              "  </thead>\n",
              "  <tbody>\n",
              "    <tr>\n",
              "      <th>2020-01-02</th>\n",
              "      <td>55500</td>\n",
              "      <td>56000</td>\n",
              "      <td>55000</td>\n",
              "      <td>55200</td>\n",
              "      <td>12993228</td>\n",
              "      <td>-0.010753</td>\n",
              "    </tr>\n",
              "    <tr>\n",
              "      <th>2020-01-03</th>\n",
              "      <td>56000</td>\n",
              "      <td>56600</td>\n",
              "      <td>54900</td>\n",
              "      <td>55500</td>\n",
              "      <td>15422255</td>\n",
              "      <td>0.005435</td>\n",
              "    </tr>\n",
              "    <tr>\n",
              "      <th>2020-01-06</th>\n",
              "      <td>54900</td>\n",
              "      <td>55600</td>\n",
              "      <td>54600</td>\n",
              "      <td>55500</td>\n",
              "      <td>10278951</td>\n",
              "      <td>0.000000</td>\n",
              "    </tr>\n",
              "    <tr>\n",
              "      <th>2020-01-07</th>\n",
              "      <td>55700</td>\n",
              "      <td>56400</td>\n",
              "      <td>55600</td>\n",
              "      <td>55800</td>\n",
              "      <td>10009778</td>\n",
              "      <td>0.005405</td>\n",
              "    </tr>\n",
              "    <tr>\n",
              "      <th>2020-01-08</th>\n",
              "      <td>56200</td>\n",
              "      <td>57400</td>\n",
              "      <td>55900</td>\n",
              "      <td>56800</td>\n",
              "      <td>23501171</td>\n",
              "      <td>0.017921</td>\n",
              "    </tr>\n",
              "    <tr>\n",
              "      <th>...</th>\n",
              "      <td>...</td>\n",
              "      <td>...</td>\n",
              "      <td>...</td>\n",
              "      <td>...</td>\n",
              "      <td>...</td>\n",
              "      <td>...</td>\n",
              "    </tr>\n",
              "    <tr>\n",
              "      <th>2023-07-10</th>\n",
              "      <td>70000</td>\n",
              "      <td>70400</td>\n",
              "      <td>69200</td>\n",
              "      <td>69500</td>\n",
              "      <td>11713926</td>\n",
              "      <td>-0.005722</td>\n",
              "    </tr>\n",
              "    <tr>\n",
              "      <th>2023-07-11</th>\n",
              "      <td>70200</td>\n",
              "      <td>71500</td>\n",
              "      <td>70100</td>\n",
              "      <td>71500</td>\n",
              "      <td>12177392</td>\n",
              "      <td>0.028777</td>\n",
              "    </tr>\n",
              "    <tr>\n",
              "      <th>2023-07-12</th>\n",
              "      <td>71200</td>\n",
              "      <td>72000</td>\n",
              "      <td>71100</td>\n",
              "      <td>71900</td>\n",
              "      <td>10375581</td>\n",
              "      <td>0.005594</td>\n",
              "    </tr>\n",
              "    <tr>\n",
              "      <th>2023-07-13</th>\n",
              "      <td>72400</td>\n",
              "      <td>72600</td>\n",
              "      <td>71900</td>\n",
              "      <td>71900</td>\n",
              "      <td>14417279</td>\n",
              "      <td>0.000000</td>\n",
              "    </tr>\n",
              "    <tr>\n",
              "      <th>2023-07-14</th>\n",
              "      <td>72500</td>\n",
              "      <td>73400</td>\n",
              "      <td>72400</td>\n",
              "      <td>73400</td>\n",
              "      <td>15882519</td>\n",
              "      <td>0.020862</td>\n",
              "    </tr>\n",
              "  </tbody>\n",
              "</table>\n",
              "<p>875 rows × 6 columns</p>\n",
              "</div>\n",
              "      <button class=\"colab-df-convert\" onclick=\"convertToInteractive('df-cbe83b76-ec2a-4e62-8f41-037d313bef6f')\"\n",
              "              title=\"Convert this dataframe to an interactive table.\"\n",
              "              style=\"display:none;\">\n",
              "\n",
              "  <svg xmlns=\"http://www.w3.org/2000/svg\" height=\"24px\"viewBox=\"0 0 24 24\"\n",
              "       width=\"24px\">\n",
              "    <path d=\"M0 0h24v24H0V0z\" fill=\"none\"/>\n",
              "    <path d=\"M18.56 5.44l.94 2.06.94-2.06 2.06-.94-2.06-.94-.94-2.06-.94 2.06-2.06.94zm-11 1L8.5 8.5l.94-2.06 2.06-.94-2.06-.94L8.5 2.5l-.94 2.06-2.06.94zm10 10l.94 2.06.94-2.06 2.06-.94-2.06-.94-.94-2.06-.94 2.06-2.06.94z\"/><path d=\"M17.41 7.96l-1.37-1.37c-.4-.4-.92-.59-1.43-.59-.52 0-1.04.2-1.43.59L10.3 9.45l-7.72 7.72c-.78.78-.78 2.05 0 2.83L4 21.41c.39.39.9.59 1.41.59.51 0 1.02-.2 1.41-.59l7.78-7.78 2.81-2.81c.8-.78.8-2.07 0-2.86zM5.41 20L4 18.59l7.72-7.72 1.47 1.35L5.41 20z\"/>\n",
              "  </svg>\n",
              "      </button>\n",
              "\n",
              "\n",
              "\n",
              "    <div id=\"df-07a2d93c-5d89-4b83-b98a-5358ed325703\">\n",
              "      <button class=\"colab-df-quickchart\" onclick=\"quickchart('df-07a2d93c-5d89-4b83-b98a-5358ed325703')\"\n",
              "              title=\"Suggest charts.\"\n",
              "              style=\"display:none;\">\n",
              "\n",
              "<svg xmlns=\"http://www.w3.org/2000/svg\" height=\"24px\"viewBox=\"0 0 24 24\"\n",
              "     width=\"24px\">\n",
              "    <g>\n",
              "        <path d=\"M19 3H5c-1.1 0-2 .9-2 2v14c0 1.1.9 2 2 2h14c1.1 0 2-.9 2-2V5c0-1.1-.9-2-2-2zM9 17H7v-7h2v7zm4 0h-2V7h2v10zm4 0h-2v-4h2v4z\"/>\n",
              "    </g>\n",
              "</svg>\n",
              "      </button>\n",
              "    </div>\n",
              "\n",
              "<style>\n",
              "  .colab-df-quickchart {\n",
              "    background-color: #E8F0FE;\n",
              "    border: none;\n",
              "    border-radius: 50%;\n",
              "    cursor: pointer;\n",
              "    display: none;\n",
              "    fill: #1967D2;\n",
              "    height: 32px;\n",
              "    padding: 0 0 0 0;\n",
              "    width: 32px;\n",
              "  }\n",
              "\n",
              "  .colab-df-quickchart:hover {\n",
              "    background-color: #E2EBFA;\n",
              "    box-shadow: 0px 1px 2px rgba(60, 64, 67, 0.3), 0px 1px 3px 1px rgba(60, 64, 67, 0.15);\n",
              "    fill: #174EA6;\n",
              "  }\n",
              "\n",
              "  [theme=dark] .colab-df-quickchart {\n",
              "    background-color: #3B4455;\n",
              "    fill: #D2E3FC;\n",
              "  }\n",
              "\n",
              "  [theme=dark] .colab-df-quickchart:hover {\n",
              "    background-color: #434B5C;\n",
              "    box-shadow: 0px 1px 3px 1px rgba(0, 0, 0, 0.15);\n",
              "    filter: drop-shadow(0px 1px 2px rgba(0, 0, 0, 0.3));\n",
              "    fill: #FFFFFF;\n",
              "  }\n",
              "</style>\n",
              "\n",
              "    <script>\n",
              "      async function quickchart(key) {\n",
              "        const containerElement = document.querySelector('#' + key);\n",
              "        const charts = await google.colab.kernel.invokeFunction(\n",
              "            'suggestCharts', [key], {});\n",
              "      }\n",
              "    </script>\n",
              "\n",
              "      <script>\n",
              "\n",
              "function displayQuickchartButton(domScope) {\n",
              "  let quickchartButtonEl =\n",
              "    domScope.querySelector('#df-07a2d93c-5d89-4b83-b98a-5358ed325703 button.colab-df-quickchart');\n",
              "  quickchartButtonEl.style.display =\n",
              "    google.colab.kernel.accessAllowed ? 'block' : 'none';\n",
              "}\n",
              "\n",
              "        displayQuickchartButton(document);\n",
              "      </script>\n",
              "      <style>\n",
              "    .colab-df-container {\n",
              "      display:flex;\n",
              "      flex-wrap:wrap;\n",
              "      gap: 12px;\n",
              "    }\n",
              "\n",
              "    .colab-df-convert {\n",
              "      background-color: #E8F0FE;\n",
              "      border: none;\n",
              "      border-radius: 50%;\n",
              "      cursor: pointer;\n",
              "      display: none;\n",
              "      fill: #1967D2;\n",
              "      height: 32px;\n",
              "      padding: 0 0 0 0;\n",
              "      width: 32px;\n",
              "    }\n",
              "\n",
              "    .colab-df-convert:hover {\n",
              "      background-color: #E2EBFA;\n",
              "      box-shadow: 0px 1px 2px rgba(60, 64, 67, 0.3), 0px 1px 3px 1px rgba(60, 64, 67, 0.15);\n",
              "      fill: #174EA6;\n",
              "    }\n",
              "\n",
              "    [theme=dark] .colab-df-convert {\n",
              "      background-color: #3B4455;\n",
              "      fill: #D2E3FC;\n",
              "    }\n",
              "\n",
              "    [theme=dark] .colab-df-convert:hover {\n",
              "      background-color: #434B5C;\n",
              "      box-shadow: 0px 1px 3px 1px rgba(0, 0, 0, 0.15);\n",
              "      filter: drop-shadow(0px 1px 2px rgba(0, 0, 0, 0.3));\n",
              "      fill: #FFFFFF;\n",
              "    }\n",
              "  </style>\n",
              "\n",
              "      <script>\n",
              "        const buttonEl =\n",
              "          document.querySelector('#df-cbe83b76-ec2a-4e62-8f41-037d313bef6f button.colab-df-convert');\n",
              "        buttonEl.style.display =\n",
              "          google.colab.kernel.accessAllowed ? 'block' : 'none';\n",
              "\n",
              "        async function convertToInteractive(key) {\n",
              "          const element = document.querySelector('#df-cbe83b76-ec2a-4e62-8f41-037d313bef6f');\n",
              "          const dataTable =\n",
              "            await google.colab.kernel.invokeFunction('convertToInteractive',\n",
              "                                                     [key], {});\n",
              "          if (!dataTable) return;\n",
              "\n",
              "          const docLinkHtml = 'Like what you see? Visit the ' +\n",
              "            '<a target=\"_blank\" href=https://colab.research.google.com/notebooks/data_table.ipynb>data table notebook</a>'\n",
              "            + ' to learn more about interactive tables.';\n",
              "          element.innerHTML = '';\n",
              "          dataTable['output_type'] = 'display_data';\n",
              "          await google.colab.output.renderOutput(dataTable, element);\n",
              "          const docLink = document.createElement('div');\n",
              "          docLink.innerHTML = docLinkHtml;\n",
              "          element.appendChild(docLink);\n",
              "        }\n",
              "      </script>\n",
              "    </div>\n",
              "  </div>\n"
            ]
          },
          "metadata": {},
          "execution_count": 18
        }
      ]
    },
    {
      "cell_type": "code",
      "source": [
        "import pandas_datareader as pdr\n",
        "import pandas as pd\n",
        "import numpy as np\n",
        "from sklearn.decomposition import PCA\n",
        "import datetime\n",
        "import pandas_datareader.data as web"
      ],
      "metadata": {
        "id": "JJ4qtv9ogZwA"
      },
      "id": "JJ4qtv9ogZwA",
      "execution_count": 15,
      "outputs": []
    },
    {
      "cell_type": "code",
      "source": [
        "# 주식 종목들 (예시로 애플, 마이크로소프트, 아마존, 구글, 페이스북)\n",
        "tickers = ['AAPL', 'MSFT', 'AMZN', 'GOOGL', 'META']\n",
        "\n",
        "# 시작 날짜와 종료 날짜\n",
        "start_date = '2020-01-01'\n",
        "end_date = '2023-08-04'\n",
        "\n",
        "print(end_date)"
      ],
      "metadata": {
        "colab": {
          "base_uri": "https://localhost:8080/"
        },
        "id": "xipA7nw4gZ1P",
        "outputId": "d189ce42-0898-4d2a-f008-a8343ad0ca47"
      },
      "id": "xipA7nw4gZ1P",
      "execution_count": 21,
      "outputs": [
        {
          "output_type": "stream",
          "name": "stdout",
          "text": [
            "2023-08-04\n"
          ]
        }
      ]
    },
    {
      "cell_type": "code",
      "source": [
        "# 가격 데이터를 저장할 DataFrame 생성\n",
        "price_data = pd.DataFrame()\n",
        "\n",
        "# 각 주식 종목에 대한 가격 데이터 수집\n",
        "for ticker in tickers:\n",
        "    price_data[ticker] = fdr.DataReader(ticker, start=start_date, end=end_date)['Close']"
      ],
      "metadata": {
        "id": "p-QpupXaItgo"
      },
      "id": "p-QpupXaItgo",
      "execution_count": 22,
      "outputs": []
    },
    {
      "cell_type": "code",
      "source": [
        "price_data.AAPL"
      ],
      "metadata": {
        "colab": {
          "base_uri": "https://localhost:8080/"
        },
        "id": "aQRQGQMXItk-",
        "outputId": "bbf6d5a5-fa56-4564-8ec7-8ec4aabe2491"
      },
      "id": "aQRQGQMXItk-",
      "execution_count": 23,
      "outputs": [
        {
          "output_type": "execute_result",
          "data": {
            "text/plain": [
              "Date\n",
              "2020-01-02     75.087502\n",
              "2020-01-03     74.357498\n",
              "2020-01-06     74.949997\n",
              "2020-01-07     74.597504\n",
              "2020-01-08     75.797501\n",
              "                 ...    \n",
              "2023-07-28    195.830002\n",
              "2023-07-31    196.449997\n",
              "2023-08-01    195.610001\n",
              "2023-08-02    192.580002\n",
              "2023-08-03    191.169998\n",
              "Name: AAPL, Length: 903, dtype: float64"
            ]
          },
          "metadata": {},
          "execution_count": 23
        }
      ]
    },
    {
      "cell_type": "code",
      "source": [
        "# 수익률 계산\n",
        "returns = price_data.pct_change().dropna()\n",
        "returns.head()\n"
      ],
      "metadata": {
        "colab": {
          "base_uri": "https://localhost:8080/",
          "height": 237
        },
        "id": "gWyPgqBEItpq",
        "outputId": "4af0e6ed-99db-428c-d432-dbf0d9b3c50f"
      },
      "id": "gWyPgqBEItpq",
      "execution_count": 51,
      "outputs": [
        {
          "output_type": "execute_result",
          "data": {
            "text/plain": [
              "                AAPL      MSFT      AMZN     GOOGL      META\n",
              "Date                                                        \n",
              "2020-01-03 -0.009722 -0.012452 -0.012139 -0.005231 -0.005291\n",
              "2020-01-06  0.007968  0.002585  0.014886  0.026654  0.018834\n",
              "2020-01-07 -0.004703 -0.009118  0.002092 -0.001932  0.002164\n",
              "2020-01-08  0.016086  0.015928 -0.007809  0.007118  0.010138\n",
              "2020-01-09  0.021241  0.012493  0.004799  0.010498  0.014311"
            ],
            "text/html": [
              "\n",
              "\n",
              "  <div id=\"df-6e504036-16ae-4f20-be32-14f574af6b4f\">\n",
              "    <div class=\"colab-df-container\">\n",
              "      <div>\n",
              "<style scoped>\n",
              "    .dataframe tbody tr th:only-of-type {\n",
              "        vertical-align: middle;\n",
              "    }\n",
              "\n",
              "    .dataframe tbody tr th {\n",
              "        vertical-align: top;\n",
              "    }\n",
              "\n",
              "    .dataframe thead th {\n",
              "        text-align: right;\n",
              "    }\n",
              "</style>\n",
              "<table border=\"1\" class=\"dataframe\">\n",
              "  <thead>\n",
              "    <tr style=\"text-align: right;\">\n",
              "      <th></th>\n",
              "      <th>AAPL</th>\n",
              "      <th>MSFT</th>\n",
              "      <th>AMZN</th>\n",
              "      <th>GOOGL</th>\n",
              "      <th>META</th>\n",
              "    </tr>\n",
              "    <tr>\n",
              "      <th>Date</th>\n",
              "      <th></th>\n",
              "      <th></th>\n",
              "      <th></th>\n",
              "      <th></th>\n",
              "      <th></th>\n",
              "    </tr>\n",
              "  </thead>\n",
              "  <tbody>\n",
              "    <tr>\n",
              "      <th>2020-01-03</th>\n",
              "      <td>-0.009722</td>\n",
              "      <td>-0.012452</td>\n",
              "      <td>-0.012139</td>\n",
              "      <td>-0.005231</td>\n",
              "      <td>-0.005291</td>\n",
              "    </tr>\n",
              "    <tr>\n",
              "      <th>2020-01-06</th>\n",
              "      <td>0.007968</td>\n",
              "      <td>0.002585</td>\n",
              "      <td>0.014886</td>\n",
              "      <td>0.026654</td>\n",
              "      <td>0.018834</td>\n",
              "    </tr>\n",
              "    <tr>\n",
              "      <th>2020-01-07</th>\n",
              "      <td>-0.004703</td>\n",
              "      <td>-0.009118</td>\n",
              "      <td>0.002092</td>\n",
              "      <td>-0.001932</td>\n",
              "      <td>0.002164</td>\n",
              "    </tr>\n",
              "    <tr>\n",
              "      <th>2020-01-08</th>\n",
              "      <td>0.016086</td>\n",
              "      <td>0.015928</td>\n",
              "      <td>-0.007809</td>\n",
              "      <td>0.007118</td>\n",
              "      <td>0.010138</td>\n",
              "    </tr>\n",
              "    <tr>\n",
              "      <th>2020-01-09</th>\n",
              "      <td>0.021241</td>\n",
              "      <td>0.012493</td>\n",
              "      <td>0.004799</td>\n",
              "      <td>0.010498</td>\n",
              "      <td>0.014311</td>\n",
              "    </tr>\n",
              "  </tbody>\n",
              "</table>\n",
              "</div>\n",
              "      <button class=\"colab-df-convert\" onclick=\"convertToInteractive('df-6e504036-16ae-4f20-be32-14f574af6b4f')\"\n",
              "              title=\"Convert this dataframe to an interactive table.\"\n",
              "              style=\"display:none;\">\n",
              "\n",
              "  <svg xmlns=\"http://www.w3.org/2000/svg\" height=\"24px\"viewBox=\"0 0 24 24\"\n",
              "       width=\"24px\">\n",
              "    <path d=\"M0 0h24v24H0V0z\" fill=\"none\"/>\n",
              "    <path d=\"M18.56 5.44l.94 2.06.94-2.06 2.06-.94-2.06-.94-.94-2.06-.94 2.06-2.06.94zm-11 1L8.5 8.5l.94-2.06 2.06-.94-2.06-.94L8.5 2.5l-.94 2.06-2.06.94zm10 10l.94 2.06.94-2.06 2.06-.94-2.06-.94-.94-2.06-.94 2.06-2.06.94z\"/><path d=\"M17.41 7.96l-1.37-1.37c-.4-.4-.92-.59-1.43-.59-.52 0-1.04.2-1.43.59L10.3 9.45l-7.72 7.72c-.78.78-.78 2.05 0 2.83L4 21.41c.39.39.9.59 1.41.59.51 0 1.02-.2 1.41-.59l7.78-7.78 2.81-2.81c.8-.78.8-2.07 0-2.86zM5.41 20L4 18.59l7.72-7.72 1.47 1.35L5.41 20z\"/>\n",
              "  </svg>\n",
              "      </button>\n",
              "\n",
              "\n",
              "\n",
              "    <div id=\"df-71cb9a54-cbb7-4c03-83b7-eac71ba6f6c9\">\n",
              "      <button class=\"colab-df-quickchart\" onclick=\"quickchart('df-71cb9a54-cbb7-4c03-83b7-eac71ba6f6c9')\"\n",
              "              title=\"Suggest charts.\"\n",
              "              style=\"display:none;\">\n",
              "\n",
              "<svg xmlns=\"http://www.w3.org/2000/svg\" height=\"24px\"viewBox=\"0 0 24 24\"\n",
              "     width=\"24px\">\n",
              "    <g>\n",
              "        <path d=\"M19 3H5c-1.1 0-2 .9-2 2v14c0 1.1.9 2 2 2h14c1.1 0 2-.9 2-2V5c0-1.1-.9-2-2-2zM9 17H7v-7h2v7zm4 0h-2V7h2v10zm4 0h-2v-4h2v4z\"/>\n",
              "    </g>\n",
              "</svg>\n",
              "      </button>\n",
              "    </div>\n",
              "\n",
              "<style>\n",
              "  .colab-df-quickchart {\n",
              "    background-color: #E8F0FE;\n",
              "    border: none;\n",
              "    border-radius: 50%;\n",
              "    cursor: pointer;\n",
              "    display: none;\n",
              "    fill: #1967D2;\n",
              "    height: 32px;\n",
              "    padding: 0 0 0 0;\n",
              "    width: 32px;\n",
              "  }\n",
              "\n",
              "  .colab-df-quickchart:hover {\n",
              "    background-color: #E2EBFA;\n",
              "    box-shadow: 0px 1px 2px rgba(60, 64, 67, 0.3), 0px 1px 3px 1px rgba(60, 64, 67, 0.15);\n",
              "    fill: #174EA6;\n",
              "  }\n",
              "\n",
              "  [theme=dark] .colab-df-quickchart {\n",
              "    background-color: #3B4455;\n",
              "    fill: #D2E3FC;\n",
              "  }\n",
              "\n",
              "  [theme=dark] .colab-df-quickchart:hover {\n",
              "    background-color: #434B5C;\n",
              "    box-shadow: 0px 1px 3px 1px rgba(0, 0, 0, 0.15);\n",
              "    filter: drop-shadow(0px 1px 2px rgba(0, 0, 0, 0.3));\n",
              "    fill: #FFFFFF;\n",
              "  }\n",
              "</style>\n",
              "\n",
              "    <script>\n",
              "      async function quickchart(key) {\n",
              "        const containerElement = document.querySelector('#' + key);\n",
              "        const charts = await google.colab.kernel.invokeFunction(\n",
              "            'suggestCharts', [key], {});\n",
              "      }\n",
              "    </script>\n",
              "\n",
              "      <script>\n",
              "\n",
              "function displayQuickchartButton(domScope) {\n",
              "  let quickchartButtonEl =\n",
              "    domScope.querySelector('#df-71cb9a54-cbb7-4c03-83b7-eac71ba6f6c9 button.colab-df-quickchart');\n",
              "  quickchartButtonEl.style.display =\n",
              "    google.colab.kernel.accessAllowed ? 'block' : 'none';\n",
              "}\n",
              "\n",
              "        displayQuickchartButton(document);\n",
              "      </script>\n",
              "      <style>\n",
              "    .colab-df-container {\n",
              "      display:flex;\n",
              "      flex-wrap:wrap;\n",
              "      gap: 12px;\n",
              "    }\n",
              "\n",
              "    .colab-df-convert {\n",
              "      background-color: #E8F0FE;\n",
              "      border: none;\n",
              "      border-radius: 50%;\n",
              "      cursor: pointer;\n",
              "      display: none;\n",
              "      fill: #1967D2;\n",
              "      height: 32px;\n",
              "      padding: 0 0 0 0;\n",
              "      width: 32px;\n",
              "    }\n",
              "\n",
              "    .colab-df-convert:hover {\n",
              "      background-color: #E2EBFA;\n",
              "      box-shadow: 0px 1px 2px rgba(60, 64, 67, 0.3), 0px 1px 3px 1px rgba(60, 64, 67, 0.15);\n",
              "      fill: #174EA6;\n",
              "    }\n",
              "\n",
              "    [theme=dark] .colab-df-convert {\n",
              "      background-color: #3B4455;\n",
              "      fill: #D2E3FC;\n",
              "    }\n",
              "\n",
              "    [theme=dark] .colab-df-convert:hover {\n",
              "      background-color: #434B5C;\n",
              "      box-shadow: 0px 1px 3px 1px rgba(0, 0, 0, 0.15);\n",
              "      filter: drop-shadow(0px 1px 2px rgba(0, 0, 0, 0.3));\n",
              "      fill: #FFFFFF;\n",
              "    }\n",
              "  </style>\n",
              "\n",
              "      <script>\n",
              "        const buttonEl =\n",
              "          document.querySelector('#df-6e504036-16ae-4f20-be32-14f574af6b4f button.colab-df-convert');\n",
              "        buttonEl.style.display =\n",
              "          google.colab.kernel.accessAllowed ? 'block' : 'none';\n",
              "\n",
              "        async function convertToInteractive(key) {\n",
              "          const element = document.querySelector('#df-6e504036-16ae-4f20-be32-14f574af6b4f');\n",
              "          const dataTable =\n",
              "            await google.colab.kernel.invokeFunction('convertToInteractive',\n",
              "                                                     [key], {});\n",
              "          if (!dataTable) return;\n",
              "\n",
              "          const docLinkHtml = 'Like what you see? Visit the ' +\n",
              "            '<a target=\"_blank\" href=https://colab.research.google.com/notebooks/data_table.ipynb>data table notebook</a>'\n",
              "            + ' to learn more about interactive tables.';\n",
              "          element.innerHTML = '';\n",
              "          dataTable['output_type'] = 'display_data';\n",
              "          await google.colab.output.renderOutput(dataTable, element);\n",
              "          const docLink = document.createElement('div');\n",
              "          docLink.innerHTML = docLinkHtml;\n",
              "          element.appendChild(docLink);\n",
              "        }\n",
              "      </script>\n",
              "    </div>\n",
              "  </div>\n"
            ]
          },
          "metadata": {},
          "execution_count": 51
        }
      ]
    },
    {
      "cell_type": "code",
      "source": [
        "\n",
        "# PCA 모델 생성 및 적합\n",
        "pca = PCA(n_components=2)\n",
        "pca.fit(returns)\n",
        "\n",
        "# PCA 결과 출력\n",
        "print(\"주성분 개수:\", pca.n_components_)\n",
        "print(\"주성분 변동성 비율:\", pca.explained_variance_ratio_)"
      ],
      "metadata": {
        "colab": {
          "base_uri": "https://localhost:8080/"
        },
        "id": "48AspUvDTC99",
        "outputId": "f6358961-eb43-40de-bf6f-a863a344052d"
      },
      "id": "48AspUvDTC99",
      "execution_count": 52,
      "outputs": [
        {
          "output_type": "stream",
          "name": "stdout",
          "text": [
            "주성분 개수: 2\n",
            "주성분 변동성 비율: [0.74006005 0.11426901]\n"
          ]
        }
      ]
    },
    {
      "cell_type": "code",
      "source": [
        "# 주성분 변환을 통해 factor return 계산\n",
        "factor_returns = pca.transform(returns)\n",
        "factor_returns.shape\n"
      ],
      "metadata": {
        "colab": {
          "base_uri": "https://localhost:8080/"
        },
        "id": "za-F0Y2IIttk",
        "outputId": "1455c705-d168-4296-96ce-293dc879a511"
      },
      "id": "za-F0Y2IIttk",
      "execution_count": 53,
      "outputs": [
        {
          "output_type": "execute_result",
          "data": {
            "text/plain": [
              "(902, 2)"
            ]
          },
          "metadata": {},
          "execution_count": 53
        }
      ]
    },
    {
      "cell_type": "code",
      "source": [
        "# 결과를 DataFrame으로 변환\n",
        "factor_returns_df = pd.DataFrame(factor_returns, index=returns.index, columns=[f'Factor {i+1}' for i in range(2)])\n",
        "\n",
        "print(factor_returns_df.head())"
      ],
      "metadata": {
        "colab": {
          "base_uri": "https://localhost:8080/"
        },
        "id": "4JhaawURSpI6",
        "outputId": "9d0ff43a-a43d-4f80-e4b3-f502aeaa9d6a"
      },
      "id": "4JhaawURSpI6",
      "execution_count": 54,
      "outputs": [
        {
          "output_type": "stream",
          "name": "stdout",
          "text": [
            "            Factor 1  Factor 2\n",
            "Date                          \n",
            "2020-01-03  0.021339 -0.008154\n",
            "2020-01-06 -0.030205 -0.003368\n",
            "2020-01-07  0.006238 -0.006437\n",
            "2020-01-08 -0.016005  0.000926\n",
            "2020-01-09 -0.025896  0.002551\n"
          ]
        }
      ]
    },
    {
      "cell_type": "code",
      "source": [
        "pca.components_"
      ],
      "metadata": {
        "colab": {
          "base_uri": "https://localhost:8080/"
        },
        "id": "mTxZ8LtBItxf",
        "outputId": "ce9d2355-166c-49c6-91ae-15d52470cdaa"
      },
      "id": "mTxZ8LtBItxf",
      "execution_count": 55,
      "outputs": [
        {
          "output_type": "execute_result",
          "data": {
            "text/plain": [
              "array([[-0.39615265, -0.39989857, -0.43200303, -0.40663803, -0.57546773],\n",
              "       [ 0.33711943,  0.33932313,  0.31030176,  0.15102806, -0.80753554]])"
            ]
          },
          "metadata": {},
          "execution_count": 55
        }
      ]
    },
    {
      "cell_type": "code",
      "source": [
        "dummy = pca.inverse_transform(factor_returns_df)"
      ],
      "metadata": {
        "id": "_jUXIteba4Dm"
      },
      "id": "_jUXIteba4Dm",
      "execution_count": 56,
      "outputs": []
    },
    {
      "cell_type": "code",
      "source": [
        "dummy.shape"
      ],
      "metadata": {
        "id": "TZtfVUHca4P2",
        "outputId": "3895a6dd-610f-43fa-85b1-b7de04df40de",
        "colab": {
          "base_uri": "https://localhost:8080/"
        }
      },
      "id": "TZtfVUHca4P2",
      "execution_count": 57,
      "outputs": [
        {
          "output_type": "execute_result",
          "data": {
            "text/plain": [
              "(902, 5)"
            ]
          },
          "metadata": {},
          "execution_count": 57
        }
      ]
    },
    {
      "cell_type": "code",
      "source": [
        "import numpy as np\n",
        "from sklearn.decomposition import PCA\n",
        "import matplotlib.pyplot as plt"
      ],
      "metadata": {
        "id": "2MSAPsYVcadw"
      },
      "id": "2MSAPsYVcadw",
      "execution_count": 58,
      "outputs": []
    },
    {
      "cell_type": "code",
      "source": [
        "diff = returns - dummy\n",
        "type(diff)"
      ],
      "metadata": {
        "id": "-Mvr88ZCcasC",
        "outputId": "95f06b5d-cb55-4a9c-f033-1801a60c1aea",
        "colab": {
          "base_uri": "https://localhost:8080/"
        }
      },
      "id": "-Mvr88ZCcasC",
      "execution_count": 66,
      "outputs": [
        {
          "output_type": "execute_result",
          "data": {
            "text/plain": [
              "pandas.core.frame.DataFrame"
            ]
          },
          "metadata": {},
          "execution_count": 66
        }
      ]
    },
    {
      "cell_type": "code",
      "source": [
        "returns.iloc[:, 0]"
      ],
      "metadata": {
        "id": "vn2Is3eSdGfg",
        "outputId": "f77f8dfb-1157-4963-9e5e-0ec555138fbf",
        "colab": {
          "base_uri": "https://localhost:8080/"
        }
      },
      "id": "vn2Is3eSdGfg",
      "execution_count": 62,
      "outputs": [
        {
          "output_type": "execute_result",
          "data": {
            "text/plain": [
              "Date\n",
              "2020-01-03   -0.009722\n",
              "2020-01-06    0.007968\n",
              "2020-01-07   -0.004703\n",
              "2020-01-08    0.016086\n",
              "2020-01-09    0.021241\n",
              "                ...   \n",
              "2023-07-28    0.013508\n",
              "2023-07-31    0.003166\n",
              "2023-08-01   -0.004276\n",
              "2023-08-02   -0.015490\n",
              "2023-08-03   -0.007322\n",
              "Name: AAPL, Length: 902, dtype: float64"
            ]
          },
          "metadata": {},
          "execution_count": 62
        }
      ]
    },
    {
      "cell_type": "code",
      "source": [
        "plt.scatter(returns.iloc[:, 0], returns.iloc[:, 1], label='Original points')\n"
      ],
      "metadata": {
        "id": "uhu55blHcvT3",
        "outputId": "73fe6305-40b8-4c02-ab89-da57d857ed02",
        "colab": {
          "base_uri": "https://localhost:8080/",
          "height": 448
        }
      },
      "id": "uhu55blHcvT3",
      "execution_count": 63,
      "outputs": [
        {
          "output_type": "execute_result",
          "data": {
            "text/plain": [
              "<matplotlib.collections.PathCollection at 0x7b060eb78ac0>"
            ]
          },
          "metadata": {},
          "execution_count": 63
        },
        {
          "output_type": "display_data",
          "data": {
            "text/plain": [
              "<Figure size 640x480 with 1 Axes>"
            ],
            "image/png": "[encoded data removed]"
          },
          "metadata": {}
        }
      ]
    },
    {
      "cell_type": "code",
      "source": [
        "plt.scatter(dummy[:, 0], dummy[:, 1], label='InverseTransform')\n",
        "\n",
        "plt.legend()\n",
        "plt.show()"
      ],
      "metadata": {
        "id": "AEkRZroEdYo5",
        "outputId": "a60b7a18-3f5b-414c-f67e-acec44e71f92",
        "colab": {
          "base_uri": "https://localhost:8080/",
          "height": 430
        }
      },
      "id": "AEkRZroEdYo5",
      "execution_count": 65,
      "outputs": [
        {
          "output_type": "display_data",
          "data": {
            "text/plain": [
              "<Figure size 640x480 with 1 Axes>"
            ],
            "image/png": "[encoded data removed]"
          },
          "metadata": {}
        }
      ]
    },
    {
      "cell_type": "code",
      "source": [
        "plt.scatter(diff.iloc[:, 0], diff.iloc[:, 1], label='Original points')"
      ],
      "metadata": {
        "id": "cp6zD0SjdtnC",
        "outputId": "3c923812-2829-4199-907a-0555a5bb4cd3",
        "colab": {
          "base_uri": "https://localhost:8080/",
          "height": 448
        }
      },
      "id": "cp6zD0SjdtnC",
      "execution_count": 67,
      "outputs": [
        {
          "output_type": "execute_result",
          "data": {
            "text/plain": [
              "<matplotlib.collections.PathCollection at 0x7b05cca65f00>"
            ]
          },
          "metadata": {},
          "execution_count": 67
        },
        {
          "output_type": "display_data",
          "data": {
            "text/plain": [
              "<Figure size 640x480 with 1 Axes>"
            ],
            "image/png": "[encoded data removed]"
          },
          "metadata": {}
        }
      ]
    },
    {
      "cell_type": "code",
      "source": [],
      "metadata": {
        "id": "-gghBY7-dttD"
      },
      "id": "-gghBY7-dttD",
      "execution_count": null,
      "outputs": []
    },
    {
      "cell_type": "code",
      "source": [
        "import numpy as np\n",
        "from sklearn.decomposition import PCA\n",
        "import matplotlib.pyplot as plt\n",
        "\n",
        "\n",
        "pca1 = PCA(1)\n",
        "X_orig = np.random.rand(10, 2)\n",
        "factors = pca1.fit_transform(X_orig)\n",
        "#print(X_orig)\n",
        "#print(factors)\n",
        "#factors.shape\n",
        "pca1.components_\n",
        "\n",
        "\n",
        "\n"
      ],
      "metadata": {
        "colab": {
          "base_uri": "https://localhost:8080/"
        },
        "id": "f4_jvFj7It1F",
        "outputId": "b0ecc2b9-090e-4287-f4d1-58e3fe019691"
      },
      "id": "f4_jvFj7It1F",
      "execution_count": 43,
      "outputs": [
        {
          "output_type": "execute_result",
          "data": {
            "text/plain": [
              "array([[-0.99146242,  0.13039278]])"
            ]
          },
          "metadata": {},
          "execution_count": 43
        }
      ]
    },
    {
      "cell_type": "code",
      "source": [
        "X_re_orig = pca1.inverse_transform(factors)\n",
        "\n",
        "X_re_orig"
      ],
      "metadata": {
        "id": "SvubKcWwXwQe"
      },
      "id": "SvubKcWwXwQe",
      "execution_count": null,
      "outputs": []
    },
    {
      "cell_type": "code",
      "source": [
        "plt.scatter(X_orig[:, 0], X_orig[:, 1], label='Original points')\n",
        "plt.scatter(X_re_orig[:, 0], X_re_orig[:, 1], label='InverseTransform')\n",
        "[plt.plot([X_orig[i, 0], X_re_orig[i, 0]], [X_orig[i, 1], X_re_orig[i, 1]]) for i in range(10)]\n",
        "plt.legend()\n",
        "plt.show()"
      ],
      "metadata": {
        "id": "OgO0QyZPXZG3"
      },
      "id": "OgO0QyZPXZG3",
      "execution_count": null,
      "outputs": []
    },
    {
      "cell_type": "code",
      "source": [],
      "metadata": {
        "id": "FTyaJ4qiIt4f"
      },
      "id": "FTyaJ4qiIt4f",
      "execution_count": null,
      "outputs": []
    },
    {
      "cell_type": "code",
      "source": [],
      "metadata": {
        "id": "PosA0yz6It7y"
      },
      "id": "PosA0yz6It7y",
      "execution_count": null,
      "outputs": []
    },
    {
      "cell_type": "code",
      "source": [],
      "metadata": {
        "id": "Ygd_cB2pIt_W"
      },
      "id": "Ygd_cB2pIt_W",
      "execution_count": null,
      "outputs": []
    },
    {
      "cell_type": "code",
      "source": [],
      "metadata": {
        "id": "vrD-Pm20IuCO"
      },
      "id": "vrD-Pm20IuCO",
      "execution_count": null,
      "outputs": []
    },
    {
      "cell_type": "markdown",
      "id": "11d788b0",
      "metadata": {
        "id": "11d788b0"
      },
      "source": [
        "*This cookbook is based off the [LangChain Conceptual Documentation](https://docs.langchain.com/docs/)*\n",
        "\n",
        "**Goal:** Provide an introductory understanding of the components and use cases of LangChain via [ELI5](https://www.dictionary.com/e/slang/eli5/#:~:text=ELI5%20is%20short%20for%20%E2%80%9CExplain,a%20complicated%20question%20or%20problem.) examples and code snippets. For use cases check out part 2 (coming soon).\n",
        "\n",
        "\n",
        "**Links:**\n",
        "* [LC Conceptual Documentation](https://docs.langchain.com/docs/)\n",
        "* [LC Python Documentation](https://python.langchain.com/en/latest/)\n",
        "* [LC Javascript/Typescript Documentation](https://js.langchain.com/docs/)\n",
        "* [LC Discord](https://discord.gg/6adMQxSpJS)\n",
        "* [www.langchain.com](https://langchain.com/)\n",
        "* [LC Twitter](https://twitter.com/LangChainAI)\n",
        "\n",
        "\n",
        "### **What is LangChain?**\n",
        "> LangChain is a framework for developing applications powered by language models.\n",
        "\n",
        "**~~TL~~DR**: LangChain makes the complicated parts of working & building with AI models easier. It helps do this in two ways:\n",
        "\n",
        "1. **Integration** - Bring external data, such as your files, other applications, and api data, to your LLMs\n",
        "2. **Agency** - Allow your LLMs to interact with it's environment via decision making. Use LLMs to help decide which action to take next\n",
        "\n",
        "### **Why LangChain?**\n",
        "1. **Components** - LangChain makes it easy to swap out abstractions and components necessary to work with language models.\n",
        "\n",
        "2. **Customized Chains** - LangChain provides out of the box support for using and customizing 'chains' - a series of actions strung together.\n",
        "\n",
        "3. **Speed 🚢** - This team ships insanely fast. You'll be up to date with the latest LLM features.\n",
        "\n",
        "4. **Community 👥** - Wonderful discord and community support, meet ups, hackathons, etc.\n",
        "\n",
        "Though LLMs can be straightforward (text-in, text-out) you'll quickly run into friction points that LangChain helps with once you develop more complicated applications.\n",
        "\n",
        "*Note: This cookbook will not cover all aspects of LangChain. It's contents have been curated to get you to building & impact as quick as possible. For more, please check out [LangChain Conceptual Documentation](https://docs.langchain.com/docs/)*"
      ]
    },
    {
      "cell_type": "code",
      "execution_count": null,
      "id": "e9815081",
      "metadata": {
        "hide_input": false,
        "id": "e9815081"
      },
      "outputs": [],
      "source": [
        "openai_api_key='YourAPIKey'"
      ]
    },
    {
      "cell_type": "markdown",
      "id": "05bb564d",
      "metadata": {
        "id": "05bb564d"
      },
      "source": [
        "# LangChain Components\n",
        "\n",
        "## Schema - Nuts and Bolts of working with LLMs\n",
        "\n",
        "### **Text**\n",
        "The natural language way to interact with LLMs"
      ]
    },
    {
      "cell_type": "code",
      "execution_count": null,
      "id": "8e0dc06c",
      "metadata": {
        "hide_input": false,
        "id": "8e0dc06c"
      },
      "outputs": [],
      "source": [
        "# You'll be working with simple strings (that'll soon grow in complexity!)\n",
        "my_text = \"What day comes after Friday?\""
      ]
    },
    {
      "cell_type": "markdown",
      "id": "2f39eb39",
      "metadata": {
        "id": "2f39eb39"
      },
      "source": [
        "### **Chat Messages**\n",
        "Like text, but specified with a message type (System, Human, AI)\n",
        "\n",
        "* **System** - Helpful background context that tell the AI what to do\n",
        "* **Human** - Messages that are intented to represent the user\n",
        "* **AI** - Messages that show what the AI responded with\n",
        "\n",
        "For more, see OpenAI's [documentation](https://platform.openai.com/docs/guides/chat/introduction)"
      ]
    },
    {
      "cell_type": "code",
      "execution_count": null,
      "id": "99b0935b",
      "metadata": {
        "id": "99b0935b"
      },
      "outputs": [],
      "source": [
        "from langchain.chat_models import ChatOpenAI\n",
        "from langchain.schema import HumanMessage, SystemMessage, AIMessage\n",
        "\n",
        "chat = ChatOpenAI(temperature=.7, openai_api_key=openai_api_key)"
      ]
    },
    {
      "cell_type": "code",
      "execution_count": null,
      "id": "878d6a36",
      "metadata": {
        "id": "878d6a36",
        "outputId": "6a398150-df41-40dc-c167-4fc41d89a799"
      },
      "outputs": [
        {
          "data": {
            "text/plain": [
              "AIMessage(content='You could eat a caprese salad with fresh mozzarella and basil.', additional_kwargs={}, example=False)"
            ]
          },
          "execution_count": 4,
          "metadata": {},
          "output_type": "execute_result"
        }
      ],
      "source": [
        "chat(\n",
        "    [\n",
        "        SystemMessage(content=\"You are a nice AI bot that helps a user figure out what to eat in one short sentence\"),\n",
        "        HumanMessage(content=\"I like tomatoes, what should I eat?\")\n",
        "    ]\n",
        ")"
      ]
    },
    {
      "cell_type": "markdown",
      "id": "0a425aaa",
      "metadata": {
        "id": "0a425aaa"
      },
      "source": [
        "You can also pass more chat history w/ responses from the AI"
      ]
    },
    {
      "cell_type": "code",
      "execution_count": null,
      "id": "8fd3fe88",
      "metadata": {
        "id": "8fd3fe88",
        "outputId": "f69d2a17-fdec-48ed-8e29-38667deff3fa"
      },
      "outputs": [
        {
          "data": {
            "text/plain": [
              "AIMessage(content='While in Nice, you can also explore the charming Old Town and enjoy some delicious Mediterranean cuisine.', additional_kwargs={}, example=False)"
            ]
          },
          "execution_count": 5,
          "metadata": {},
          "output_type": "execute_result"
        }
      ],
      "source": [
        "chat(\n",
        "    [\n",
        "        SystemMessage(content=\"You are a nice AI bot that helps a user figure out where to travel in one short sentence\"),\n",
        "        HumanMessage(content=\"I like the beaches where should I go?\"),\n",
        "        AIMessage(content=\"You should go to Nice, France\"),\n",
        "        HumanMessage(content=\"What else should I do when I'm there?\")\n",
        "    ]\n",
        ")"
      ]
    },
    {
      "cell_type": "markdown",
      "id": "66bf9634",
      "metadata": {
        "id": "66bf9634"
      },
      "source": [
        "### **Documents**\n",
        "An object that holds a piece of text and metadata (more information about that text)"
      ]
    },
    {
      "cell_type": "code",
      "execution_count": null,
      "id": "3bbf58b2",
      "metadata": {
        "id": "3bbf58b2"
      },
      "outputs": [],
      "source": [
        "from langchain.schema import Document"
      ]
    },
    {
      "cell_type": "code",
      "execution_count": null,
      "id": "150e8759",
      "metadata": {
        "scrolled": true,
        "id": "150e8759",
        "outputId": "93644dc4-3f05-4781-9180-db68e3f50560"
      },
      "outputs": [
        {
          "data": {
            "text/plain": [
              "Document(page_content=\"This is my document. It is full of text that I've gathered from other places\", metadata={'my_document_id': 234234, 'my_document_source': 'The LangChain Papers', 'my_document_create_time': 1680013019})"
            ]
          },
          "execution_count": 7,
          "metadata": {},
          "output_type": "execute_result"
        }
      ],
      "source": [
        "Document(page_content=\"This is my document. It is full of text that I've gathered from other places\",\n",
        "         metadata={\n",
        "             'my_document_id' : 234234,\n",
        "             'my_document_source' : \"The LangChain Papers\",\n",
        "             'my_document_create_time' : 1680013019\n",
        "         })"
      ]
    },
    {
      "cell_type": "markdown",
      "id": "2e462b5d",
      "metadata": {
        "id": "2e462b5d"
      },
      "source": [
        "## Models - The interface to the AI brains"
      ]
    },
    {
      "cell_type": "markdown",
      "id": "b27fe982",
      "metadata": {
        "id": "b27fe982"
      },
      "source": [
        "###  **Language Model**\n",
        "A model that does text in ➡️ text out!\n",
        "\n",
        "*Check out how I changed the model I was using from the default one to ada-001. See more models [here](https://platform.openai.com/docs/models)*"
      ]
    },
    {
      "cell_type": "code",
      "execution_count": null,
      "id": "74b1a72a",
      "metadata": {
        "id": "74b1a72a"
      },
      "outputs": [],
      "source": [
        "from langchain.llms import OpenAI\n",
        "\n",
        "llm = OpenAI(model_name=\"text-ada-001\", openai_api_key=openai_api_key)"
      ]
    },
    {
      "cell_type": "code",
      "execution_count": null,
      "id": "6399c295",
      "metadata": {
        "id": "6399c295",
        "outputId": "7f950df3-54a0-4f66-aeca-a8f70e96ba42"
      },
      "outputs": [
        {
          "data": {
            "text/plain": [
              "'\\n\\nSaturday'"
            ]
          },
          "execution_count": 9,
          "metadata": {},
          "output_type": "execute_result"
        }
      ],
      "source": [
        "llm(\"What day comes after Friday?\")"
      ]
    },
    {
      "cell_type": "markdown",
      "id": "3ef89bfa",
      "metadata": {
        "id": "3ef89bfa"
      },
      "source": [
        "### **Chat Model**\n",
        "A model that takes a series of messages and returns a message output"
      ]
    },
    {
      "cell_type": "code",
      "execution_count": null,
      "id": "bf091777",
      "metadata": {
        "id": "bf091777"
      },
      "outputs": [],
      "source": [
        "from langchain.chat_models import ChatOpenAI\n",
        "from langchain.schema import HumanMessage, SystemMessage, AIMessage\n",
        "\n",
        "chat = ChatOpenAI(temperature=1, openai_api_key=openai_api_key)"
      ]
    },
    {
      "cell_type": "code",
      "execution_count": null,
      "id": "f4260711",
      "metadata": {
        "id": "f4260711",
        "outputId": "d6d56a78-083c-4816-daa4-dcec6eaeddd9"
      },
      "outputs": [
        {
          "data": {
            "text/plain": [
              "AIMessage(content=\"Well, have you considered using your teleportation powers? Oh, wait, you don't have any? I guess you'll have to settle for an airplane or a really fast pogo stick. Good luck with that!\", additional_kwargs={}, example=False)"
            ]
          },
          "execution_count": 11,
          "metadata": {},
          "output_type": "execute_result"
        }
      ],
      "source": [
        "chat(\n",
        "    [\n",
        "        SystemMessage(content=\"You are an unhelpful AI bot that makes a joke at whatever the user says\"),\n",
        "        HumanMessage(content=\"I would like to go to New York, how should I do this?\")\n",
        "    ]\n",
        ")"
      ]
    },
    {
      "cell_type": "markdown",
      "id": "c2b70f23",
      "metadata": {
        "id": "c2b70f23"
      },
      "source": [
        "### **Text Embedding Model**\n",
        "Change your text into a vector (a series of numbers that hold the semantic 'meaning' of your text). Mainly used when comparing two pieces of text together.\n",
        "\n",
        "*BTW: Semantic means 'relating to meaning in language or logic.'*"
      ]
    },
    {
      "cell_type": "code",
      "execution_count": null,
      "id": "1655de82",
      "metadata": {
        "id": "1655de82"
      },
      "outputs": [],
      "source": [
        "from langchain.embeddings import OpenAIEmbeddings\n",
        "\n",
        "embeddings = OpenAIEmbeddings(openai_api_key=openai_api_key)"
      ]
    },
    {
      "cell_type": "code",
      "execution_count": null,
      "id": "a2c85e7e",
      "metadata": {
        "id": "a2c85e7e"
      },
      "outputs": [],
      "source": [
        "text = \"Hi! It's time for the beach\""
      ]
    },
    {
      "cell_type": "code",
      "execution_count": null,
      "id": "ddc5a368",
      "metadata": {
        "id": "ddc5a368",
        "outputId": "00d11720-c97c-44a1-b7ea-ae829f21d62d"
      },
      "outputs": [
        {
          "name": "stdout",
          "output_type": "stream",
          "text": [
            "Your embedding is length 1536\n",
            "Here's a sample: [-0.00020583387231454253, -0.003205398330464959, -0.0008301587076857686, -0.01946892775595188, -0.015162716619670391]...\n"
          ]
        }
      ],
      "source": [
        "text_embedding = embeddings.embed_query(text)\n",
        "print (f\"Your embedding is length {len(text_embedding)}\")\n",
        "print (f\"Here's a sample: {text_embedding[:5]}...\")"
      ]
    },
    {
      "cell_type": "markdown",
      "id": "c38fe99f",
      "metadata": {
        "id": "c38fe99f"
      },
      "source": [
        "## Prompts - Text generally used as instructions to your model"
      ]
    },
    {
      "cell_type": "markdown",
      "id": "8b9318ed",
      "metadata": {
        "id": "8b9318ed"
      },
      "source": [
        "### **Prompt**\n",
        "What you'll pass to the underlying model"
      ]
    },
    {
      "cell_type": "code",
      "execution_count": null,
      "id": "2d270239",
      "metadata": {
        "id": "2d270239",
        "outputId": "d1110fdf-e01d-43cf-ec17-a79f924863ca"
      },
      "outputs": [
        {
          "data": {
            "text/plain": [
              "'\\nThe statement is incorrect because tomorrow is Tuesday, not Wednesday.'"
            ]
          },
          "execution_count": 15,
          "metadata": {},
          "output_type": "execute_result"
        }
      ],
      "source": [
        "from langchain.llms import OpenAI\n",
        "\n",
        "llm = OpenAI(model_name=\"text-davinci-003\", openai_api_key=openai_api_key)\n",
        "\n",
        "# I like to use three double quotation marks for my prompts because it's easier to read\n",
        "prompt = \"\"\"\n",
        "Today is Monday, tomorrow is Wednesday.\n",
        "\n",
        "What is wrong with that statement?\n",
        "\"\"\"\n",
        "\n",
        "llm(prompt)"
      ]
    },
    {
      "cell_type": "markdown",
      "id": "74988254",
      "metadata": {
        "id": "74988254"
      },
      "source": [
        "### **Prompt Template**\n",
        "An object that helps create prompts based on a combination of user input, other non-static information and a fixed template string.\n",
        "\n",
        "Think of it as an [f-string](https://realpython.com/python-f-strings/) in python but for prompts"
      ]
    },
    {
      "cell_type": "code",
      "execution_count": null,
      "id": "abcc212d",
      "metadata": {
        "id": "abcc212d",
        "outputId": "1f6d9eea-c89d-4ee7-e8ee-0c7cf70aaa27"
      },
      "outputs": [
        {
          "name": "stdout",
          "output_type": "stream",
          "text": [
            "Final Prompt: \n",
            "I really want to travel to Rome. What should I do there?\n",
            "\n",
            "Respond in one short sentence\n",
            "\n",
            "-----------\n",
            "LLM Output: \n",
            "Explore the Colosseum, the Roman Forum, the Pantheon, and the Trevi Fountain.\n"
          ]
        }
      ],
      "source": [
        "from langchain.llms import OpenAI\n",
        "from langchain import PromptTemplate\n",
        "\n",
        "llm = OpenAI(model_name=\"text-davinci-003\", openai_api_key=openai_api_key)\n",
        "\n",
        "# Notice \"location\" below, that is a placeholder for another value later\n",
        "template = \"\"\"\n",
        "I really want to travel to {location}. What should I do there?\n",
        "\n",
        "Respond in one short sentence\n",
        "\"\"\"\n",
        "\n",
        "prompt = PromptTemplate(\n",
        "    input_variables=[\"location\"],\n",
        "    template=template,\n",
        ")\n",
        "\n",
        "final_prompt = prompt.format(location='Rome')\n",
        "\n",
        "print (f\"Final Prompt: {final_prompt}\")\n",
        "print (\"-----------\")\n",
        "print (f\"LLM Output: {llm(final_prompt)}\")"
      ]
    },
    {
      "cell_type": "markdown",
      "id": "ed40bac2",
      "metadata": {
        "id": "ed40bac2"
      },
      "source": [
        "### **Example Selectors**\n",
        "An easy way to select from a series of examples that allow you to dynamic place in-context information into your prompt. Often used when your task is nuanced or you have a large list of examples.\n",
        "\n",
        "Check out different types of example selectors [here](https://python.langchain.com/docs/modules/model_io/prompts/example_selectors/)\n",
        "\n",
        "If you want an overview on why examples are important (prompt engineering), check out [this video](https://www.youtube.com/watch?v=dOxUroR57xs)"
      ]
    },
    {
      "cell_type": "code",
      "execution_count": null,
      "id": "aaf36cd9",
      "metadata": {
        "id": "aaf36cd9"
      },
      "outputs": [],
      "source": [
        "from langchain.prompts.example_selector import SemanticSimilarityExampleSelector\n",
        "from langchain.vectorstores import FAISS\n",
        "from langchain.embeddings import OpenAIEmbeddings\n",
        "from langchain.prompts import FewShotPromptTemplate, PromptTemplate\n",
        "from langchain.llms import OpenAI\n",
        "\n",
        "llm = OpenAI(model_name=\"text-davinci-003\", openai_api_key=openai_api_key)\n",
        "\n",
        "example_prompt = PromptTemplate(\n",
        "    input_variables=[\"input\", \"output\"],\n",
        "    template=\"Example Input: {input}\\nExample Output: {output}\",\n",
        ")\n",
        "\n",
        "# Examples of locations that nouns are found\n",
        "examples = [\n",
        "    {\"input\": \"pirate\", \"output\": \"ship\"},\n",
        "    {\"input\": \"pilot\", \"output\": \"plane\"},\n",
        "    {\"input\": \"driver\", \"output\": \"car\"},\n",
        "    {\"input\": \"tree\", \"output\": \"ground\"},\n",
        "    {\"input\": \"bird\", \"output\": \"nest\"},\n",
        "]"
      ]
    },
    {
      "cell_type": "code",
      "execution_count": null,
      "id": "12b4798b",
      "metadata": {
        "id": "12b4798b"
      },
      "outputs": [],
      "source": [
        "# SemanticSimilarityExampleSelector will select examples that are similar to your input by semantic meaning\n",
        "\n",
        "example_selector = SemanticSimilarityExampleSelector.from_examples(\n",
        "    # This is the list of examples available to select from.\n",
        "    examples,\n",
        "\n",
        "    # This is the embedding class used to produce embeddings which are used to measure semantic similarity.\n",
        "    OpenAIEmbeddings(openai_api_key=openai_api_key),\n",
        "\n",
        "    # This is the VectorStore class that is used to store the embeddings and do a similarity search over.\n",
        "    FAISS,\n",
        "\n",
        "    # This is the number of examples to produce.\n",
        "    k=2\n",
        ")"
      ]
    },
    {
      "cell_type": "code",
      "execution_count": null,
      "id": "2cf30107",
      "metadata": {
        "id": "2cf30107"
      },
      "outputs": [],
      "source": [
        "similar_prompt = FewShotPromptTemplate(\n",
        "    # The object that will help select examples\n",
        "    example_selector=example_selector,\n",
        "\n",
        "    # Your prompt\n",
        "    example_prompt=example_prompt,\n",
        "\n",
        "    # Customizations that will be added to the top and bottom of your prompt\n",
        "    prefix=\"Give the location an item is usually found in\",\n",
        "    suffix=\"Input: {noun}\\nOutput:\",\n",
        "\n",
        "    # What inputs your prompt will receive\n",
        "    input_variables=[\"noun\"],\n",
        ")"
      ]
    },
    {
      "cell_type": "code",
      "execution_count": null,
      "id": "369442bb",
      "metadata": {
        "id": "369442bb",
        "outputId": "801bbdd1-4bd6-4aec-deea-6909032570fb"
      },
      "outputs": [
        {
          "name": "stdout",
          "output_type": "stream",
          "text": [
            "Give the location an item is usually found in\n",
            "\n",
            "Example Input: driver\n",
            "Example Output: car\n",
            "\n",
            "Example Input: pilot\n",
            "Example Output: plane\n",
            "\n",
            "Input: student\n",
            "Output:\n"
          ]
        }
      ],
      "source": [
        "# Select a noun!\n",
        "my_noun = \"student\"\n",
        "\n",
        "print(similar_prompt.format(noun=my_noun))"
      ]
    },
    {
      "cell_type": "code",
      "execution_count": null,
      "id": "9bb910f2",
      "metadata": {
        "id": "9bb910f2",
        "outputId": "d2a9e89d-9c76-4c4f-fb53-3bc2bab93693"
      },
      "outputs": [
        {
          "data": {
            "text/plain": [
              "' classroom'"
            ]
          },
          "execution_count": 21,
          "metadata": {},
          "output_type": "execute_result"
        }
      ],
      "source": [
        "llm(similar_prompt.format(noun=my_noun))"
      ]
    },
    {
      "cell_type": "markdown",
      "id": "8474c91d",
      "metadata": {
        "id": "8474c91d"
      },
      "source": [
        "### **Output Parsers**\n",
        "A helpful way to format the output of a model. Usually used for structured output.\n",
        "\n",
        "Two big concepts:\n",
        "\n",
        "**1. Format Instructions** - A autogenerated prompt that tells the LLM how to format it's response based off your desired result\n",
        "\n",
        "**2. Parser** - A method which will extract your model's text output into a desired structure (usually json)"
      ]
    },
    {
      "cell_type": "code",
      "execution_count": null,
      "id": "58353756",
      "metadata": {
        "id": "58353756"
      },
      "outputs": [],
      "source": [
        "from langchain.output_parsers import StructuredOutputParser, ResponseSchema\n",
        "from langchain.prompts import ChatPromptTemplate, HumanMessagePromptTemplate\n",
        "from langchain.llms import OpenAI"
      ]
    },
    {
      "cell_type": "code",
      "execution_count": null,
      "id": "ee36f881",
      "metadata": {
        "id": "ee36f881"
      },
      "outputs": [],
      "source": [
        "llm = OpenAI(model_name=\"text-davinci-003\", openai_api_key=openai_api_key)"
      ]
    },
    {
      "cell_type": "code",
      "execution_count": null,
      "id": "fa59be3f",
      "metadata": {
        "id": "fa59be3f"
      },
      "outputs": [],
      "source": [
        "# How you would like your response structured. This is basically a fancy prompt template\n",
        "response_schemas = [\n",
        "    ResponseSchema(name=\"bad_string\", description=\"This a poorly formatted user input string\"),\n",
        "    ResponseSchema(name=\"good_string\", description=\"This is your response, a reformatted response\")\n",
        "]\n",
        "\n",
        "# How you would like to parse your output\n",
        "output_parser = StructuredOutputParser.from_response_schemas(response_schemas)"
      ]
    },
    {
      "cell_type": "code",
      "execution_count": null,
      "id": "d1079f0a",
      "metadata": {
        "id": "d1079f0a",
        "outputId": "b31107d2-2fbb-462c-a68a-4d0e001424e3"
      },
      "outputs": [
        {
          "name": "stdout",
          "output_type": "stream",
          "text": [
            "The output should be a markdown code snippet formatted in the following schema, including the leading and trailing \"\\`\\`\\`json\" and \"\\`\\`\\`\":\n",
            "\n",
            "```json\n",
            "{\n",
            "\t\"bad_string\": string  // This a poorly formatted user input string\n",
            "\t\"good_string\": string  // This is your response, a reformatted response\n",
            "}\n",
            "```\n"
          ]
        }
      ],
      "source": [
        "# See the prompt template you created for formatting\n",
        "format_instructions = output_parser.get_format_instructions()\n",
        "print (format_instructions)"
      ]
    },
    {
      "cell_type": "code",
      "execution_count": null,
      "id": "9aaae5be",
      "metadata": {
        "id": "9aaae5be",
        "outputId": "593570ae-6413-4930-fa65-fc2466968e36"
      },
      "outputs": [
        {
          "name": "stdout",
          "output_type": "stream",
          "text": [
            "\n",
            "You will be given a poorly formatted string from a user.\n",
            "Reformat it and make sure all the words are spelled correctly\n",
            "\n",
            "The output should be a markdown code snippet formatted in the following schema, including the leading and trailing \"\\`\\`\\`json\" and \"\\`\\`\\`\":\n",
            "\n",
            "```json\n",
            "{\n",
            "\t\"bad_string\": string  // This a poorly formatted user input string\n",
            "\t\"good_string\": string  // This is your response, a reformatted response\n",
            "}\n",
            "```\n",
            "\n",
            "% USER INPUT:\n",
            "welcom to califonya!\n",
            "\n",
            "YOUR RESPONSE:\n",
            "\n"
          ]
        }
      ],
      "source": [
        "template = \"\"\"\n",
        "You will be given a poorly formatted string from a user.\n",
        "Reformat it and make sure all the words are spelled correctly\n",
        "\n",
        "{format_instructions}\n",
        "\n",
        "% USER INPUT:\n",
        "{user_input}\n",
        "\n",
        "YOUR RESPONSE:\n",
        "\"\"\"\n",
        "\n",
        "prompt = PromptTemplate(\n",
        "    input_variables=[\"user_input\"],\n",
        "    partial_variables={\"format_instructions\": format_instructions},\n",
        "    template=template\n",
        ")\n",
        "\n",
        "promptValue = prompt.format(user_input=\"welcom to califonya!\")\n",
        "\n",
        "print(promptValue)"
      ]
    },
    {
      "cell_type": "code",
      "execution_count": null,
      "id": "b116bb23",
      "metadata": {
        "id": "b116bb23",
        "outputId": "1b5bf99d-ee63-4f11-8992-bf4202b633dd"
      },
      "outputs": [
        {
          "data": {
            "text/plain": [
              "'```json\\n{\\n\\t\"bad_string\": \"welcom to califonya!\",\\n\\t\"good_string\": \"Welcome to California!\"\\n}\\n```'"
            ]
          },
          "execution_count": 27,
          "metadata": {},
          "output_type": "execute_result"
        }
      ],
      "source": [
        "llm_output = llm(promptValue)\n",
        "llm_output"
      ]
    },
    {
      "cell_type": "code",
      "execution_count": null,
      "id": "985aa814",
      "metadata": {
        "id": "985aa814",
        "outputId": "40a6a185-1d7a-4fe5-d3ea-b22c2f734345"
      },
      "outputs": [
        {
          "data": {
            "text/plain": [
              "{'bad_string': 'welcom to califonya!', 'good_string': 'Welcome to California!'}"
            ]
          },
          "execution_count": 28,
          "metadata": {},
          "output_type": "execute_result"
        }
      ],
      "source": [
        "output_parser.parse(llm_output)"
      ]
    },
    {
      "cell_type": "markdown",
      "id": "7b43cec2",
      "metadata": {
        "id": "7b43cec2"
      },
      "source": [
        "## Indexes - Structuring documents to LLMs can work with them"
      ]
    },
    {
      "cell_type": "markdown",
      "id": "d3f904e9",
      "metadata": {
        "id": "d3f904e9"
      },
      "source": [
        "### **Document Loaders**\n",
        "Easy ways to import data from other sources. Shared functionality with [OpenAI Plugins](https://openai.com/blog/chatgpt-plugins) [specifically retrieval plugins](https://github.com/openai/chatgpt-retrieval-plugin)\n",
        "\n",
        "See a [big list](https://python.langchain.com/en/latest/modules/indexes/document_loaders.html) of document loaders here. A bunch more on [Llama Index](https://llamahub.ai/) as well."
      ]
    },
    {
      "cell_type": "code",
      "execution_count": null,
      "id": "ba88e05b",
      "metadata": {
        "id": "ba88e05b"
      },
      "outputs": [],
      "source": [
        "from langchain.document_loaders import HNLoader"
      ]
    },
    {
      "cell_type": "code",
      "execution_count": null,
      "id": "ee693520",
      "metadata": {
        "id": "ee693520"
      },
      "outputs": [],
      "source": [
        "loader = HNLoader(\"https://news.ycombinator.com/item?id=34422627\")"
      ]
    },
    {
      "cell_type": "code",
      "execution_count": null,
      "id": "88d89ad7",
      "metadata": {
        "id": "88d89ad7"
      },
      "outputs": [],
      "source": [
        "data = loader.load()"
      ]
    },
    {
      "cell_type": "code",
      "execution_count": null,
      "id": "e814f930",
      "metadata": {
        "id": "e814f930",
        "outputId": "ae1758f3-9dfe-491c-cd57-7dcaa7589c48"
      },
      "outputs": [
        {
          "name": "stdout",
          "output_type": "stream",
          "text": [
            "Found 76 comments\n",
            "Here's a sample:\n",
            "\n",
            "Ozzie_osman 3 months ago  \n",
            "             | next [–] \n",
            "\n",
            "LangChain is awesome. For people not sure what it's doing, large language models (LLMs) are very Ozzie_osman 3 months ago  \n",
            "             | parent | next [–] \n",
            "\n",
            "Also, another library to check out is GPT Index (https://github.com/jerryjliu/gpt_index)\n"
          ]
        }
      ],
      "source": [
        "print (f\"Found {len(data)} comments\")\n",
        "print (f\"Here's a sample:\\n\\n{''.join([x.page_content[:150] for x in data[:2]])}\")"
      ]
    },
    {
      "cell_type": "markdown",
      "id": "0e9601db",
      "metadata": {
        "id": "0e9601db"
      },
      "source": [
        "### **Text Splitters**\n",
        "Often times your document is too long (like a book) for your LLM. You need to split it up into chunks. Text splitters help with this.\n",
        "\n",
        "There are many ways you could split your text into chunks, experiment with [different ones](https://python.langchain.com/en/latest/modules/indexes/text_splitters.html) to see which is best for you."
      ]
    },
    {
      "cell_type": "code",
      "execution_count": null,
      "id": "95713e57",
      "metadata": {
        "id": "95713e57"
      },
      "outputs": [],
      "source": [
        "from langchain.text_splitter import RecursiveCharacterTextSplitter"
      ]
    },
    {
      "cell_type": "code",
      "execution_count": null,
      "id": "a54455f5",
      "metadata": {
        "id": "a54455f5",
        "outputId": "8082c4c3-4ceb-4505-b3f7-2124e35a2dd9"
      },
      "outputs": [
        {
          "name": "stdout",
          "output_type": "stream",
          "text": [
            "You have 1 document\n"
          ]
        }
      ],
      "source": [
        "# This is a long document we can split up.\n",
        "with open('data/PaulGrahamEssays/worked.txt') as f:\n",
        "    pg_work = f.read()\n",
        "\n",
        "print (f\"You have {len([pg_work])} document\")"
      ]
    },
    {
      "cell_type": "code",
      "execution_count": null,
      "id": "d19acb18",
      "metadata": {
        "id": "d19acb18"
      },
      "outputs": [],
      "source": [
        "text_splitter = RecursiveCharacterTextSplitter(\n",
        "    # Set a really small chunk size, just to show.\n",
        "    chunk_size = 150,\n",
        "    chunk_overlap  = 20,\n",
        ")\n",
        "\n",
        "texts = text_splitter.create_documents([pg_work])"
      ]
    },
    {
      "cell_type": "code",
      "execution_count": null,
      "id": "e3090f05",
      "metadata": {
        "id": "e3090f05",
        "outputId": "2a8d2bf1-1321-4d60-e629-c3d94fb32d92"
      },
      "outputs": [
        {
          "name": "stdout",
          "output_type": "stream",
          "text": [
            "You have 606 documents\n"
          ]
        }
      ],
      "source": [
        "print (f\"You have {len(texts)} documents\")"
      ]
    },
    {
      "cell_type": "code",
      "execution_count": null,
      "id": "87a0f45a",
      "metadata": {
        "id": "87a0f45a",
        "outputId": "31927ead-7176-46cf-dc39-b341ada716a2"
      },
      "outputs": [
        {
          "name": "stdout",
          "output_type": "stream",
          "text": [
            "Preview:\n",
            "February 2021Before college the two main things I worked on, outside of school,\n",
            "were writing and programming. I didn't write essays. I wrote what \n",
            "\n",
            "beginning writers were supposed to write then, and probably still\n",
            "are: short stories. My stories were awful. They had hardly any plot,\n"
          ]
        }
      ],
      "source": [
        "print (\"Preview:\")\n",
        "print (texts[0].page_content, \"\\n\")\n",
        "print (texts[1].page_content)"
      ]
    },
    {
      "cell_type": "markdown",
      "id": "1f85defb",
      "metadata": {
        "id": "1f85defb"
      },
      "source": [
        "### **Retrievers**\n",
        "Easy way to combine documents with language models.\n",
        "\n",
        "There are many different types of retrievers, the most widely supported is the VectoreStoreRetriever"
      ]
    },
    {
      "cell_type": "code",
      "execution_count": null,
      "id": "8cccbd82",
      "metadata": {
        "id": "8cccbd82"
      },
      "outputs": [],
      "source": [
        "from langchain.document_loaders import TextLoader\n",
        "from langchain.text_splitter import RecursiveCharacterTextSplitter\n",
        "from langchain.vectorstores import FAISS\n",
        "from langchain.embeddings import OpenAIEmbeddings\n",
        "\n",
        "loader = TextLoader('data/PaulGrahamEssays/worked.txt')\n",
        "documents = loader.load()"
      ]
    },
    {
      "cell_type": "code",
      "execution_count": null,
      "id": "1dab1c20",
      "metadata": {
        "id": "1dab1c20"
      },
      "outputs": [],
      "source": [
        "# Get your splitter ready\n",
        "text_splitter = RecursiveCharacterTextSplitter(chunk_size=1000, chunk_overlap=50)\n",
        "\n",
        "# Split your docs into texts\n",
        "texts = text_splitter.split_documents(documents)\n",
        "\n",
        "# Get embedding engine ready\n",
        "embeddings = OpenAIEmbeddings(openai_api_key=openai_api_key)\n",
        "\n",
        "# Embedd your texts\n",
        "db = FAISS.from_documents(texts, embeddings)"
      ]
    },
    {
      "cell_type": "code",
      "execution_count": null,
      "id": "e62372be",
      "metadata": {
        "id": "e62372be"
      },
      "outputs": [],
      "source": [
        "# Init your retriever. Asking for just 1 document back\n",
        "retriever = db.as_retriever()"
      ]
    },
    {
      "cell_type": "code",
      "execution_count": null,
      "id": "e0534bbd",
      "metadata": {
        "id": "e0534bbd",
        "outputId": "e1ed966e-ad4e-4325-98c3-27faf68d3277"
      },
      "outputs": [
        {
          "data": {
            "text/plain": [
              "VectorStoreRetriever(vectorstore=<langchain.vectorstores.faiss.FAISS object at 0x7f8a68be6820>, search_type='similarity', search_kwargs={})"
            ]
          },
          "execution_count": 41,
          "metadata": {},
          "output_type": "execute_result"
        }
      ],
      "source": [
        "retriever"
      ]
    },
    {
      "cell_type": "code",
      "execution_count": null,
      "id": "3846a3b5",
      "metadata": {
        "id": "3846a3b5"
      },
      "outputs": [],
      "source": [
        "docs = retriever.get_relevant_documents(\"what types of things did the author want to build?\")"
      ]
    },
    {
      "cell_type": "code",
      "execution_count": null,
      "id": "db383cc8",
      "metadata": {
        "id": "db383cc8",
        "outputId": "06e97e16-713f-4ca8-db6e-f705087f263c"
      },
      "outputs": [
        {
          "name": "stdout",
          "output_type": "stream",
          "text": [
            "standards; what was the point? No one else wanted one either, so\n",
            "off they went. That was what happened to systems work.I wanted not just to build things, but to build things that would\n",
            "last.In this di\n",
            "\n",
            "much of it in grad school.Computer Science is an uneasy alliance between two halves, theory\n",
            "and systems. The theory people prove things, and the systems people\n",
            "build things. I wanted to build things. \n"
          ]
        }
      ],
      "source": [
        "print(\"\\n\\n\".join([x.page_content[:200] for x in docs[:2]]))"
      ]
    },
    {
      "cell_type": "markdown",
      "id": "24193139",
      "metadata": {
        "id": "24193139"
      },
      "source": [
        "### **VectorStores**\n",
        "Databases to store vectors. Most popular ones are [Pinecone](https://www.pinecone.io/) & [Weaviate](https://weaviate.io/). More examples on OpenAIs [retriever documentation](https://github.com/openai/chatgpt-retrieval-plugin#choosing-a-vector-database). [Chroma](https://www.trychroma.com/) & [FAISS](https://engineering.fb.com/2017/03/29/data-infrastructure/faiss-a-library-for-efficient-similarity-search/) are easy to work with locally.\n",
        "\n",
        "Conceptually, think of them as tables w/ a column for embeddings (vectors) and a column for metadata.\n",
        "\n",
        "Example\n",
        "\n",
        "| Embedding      | Metadata |\n",
        "| ----------- | ----------- |\n",
        "| [-0.00015641732898075134, -0.003165106289088726, ...]      | {'date' : '1/2/23}       |\n",
        "| [-0.00035465431654651654, 1.4654131651654516546, ...]   | {'date' : '1/3/23}        |"
      ]
    },
    {
      "cell_type": "code",
      "execution_count": null,
      "id": "3c5533ad",
      "metadata": {
        "id": "3c5533ad"
      },
      "outputs": [],
      "source": [
        "from langchain.document_loaders import TextLoader\n",
        "from langchain.text_splitter import RecursiveCharacterTextSplitter\n",
        "from langchain.vectorstores import FAISS\n",
        "from langchain.embeddings import OpenAIEmbeddings\n",
        "\n",
        "loader = TextLoader('data/PaulGrahamEssays/worked.txt')\n",
        "documents = loader.load()\n",
        "\n",
        "# Get your splitter ready\n",
        "text_splitter = RecursiveCharacterTextSplitter(chunk_size=1000, chunk_overlap=50)\n",
        "\n",
        "# Split your docs into texts\n",
        "texts = text_splitter.split_documents(documents)\n",
        "\n",
        "# Get embedding engine ready\n",
        "embeddings = OpenAIEmbeddings(openai_api_key=openai_api_key)"
      ]
    },
    {
      "cell_type": "code",
      "execution_count": null,
      "id": "661fdf19",
      "metadata": {
        "id": "661fdf19",
        "outputId": "ec848473-3f54-452e-ee6d-48389cd0cbd5"
      },
      "outputs": [
        {
          "name": "stdout",
          "output_type": "stream",
          "text": [
            "You have 78 documents\n"
          ]
        }
      ],
      "source": [
        "print (f\"You have {len(texts)} documents\")"
      ]
    },
    {
      "cell_type": "code",
      "execution_count": null,
      "id": "e99ac0ea",
      "metadata": {
        "id": "e99ac0ea"
      },
      "outputs": [],
      "source": [
        "embedding_list = embeddings.embed_documents([text.page_content for text in texts])"
      ]
    },
    {
      "cell_type": "code",
      "execution_count": null,
      "id": "89e7758c",
      "metadata": {
        "id": "89e7758c",
        "outputId": "a2a2498d-d476-403c-a631-5fcc009e58ae"
      },
      "outputs": [
        {
          "name": "stdout",
          "output_type": "stream",
          "text": [
            "You have 78 embeddings\n",
            "Here's a sample of one: [-0.0011257503838977907, -0.011114791224843646, -0.012860921430454107]...\n"
          ]
        }
      ],
      "source": [
        "print (f\"You have {len(embedding_list)} embeddings\")\n",
        "print (f\"Here's a sample of one: {embedding_list[0][:3]}...\")"
      ]
    },
    {
      "cell_type": "markdown",
      "id": "8ac358c5",
      "metadata": {
        "id": "8ac358c5"
      },
      "source": [
        "Your vectorstore store your embeddings (☝️) and make them easily searchable"
      ]
    },
    {
      "cell_type": "markdown",
      "id": "f9b9b79b",
      "metadata": {
        "id": "f9b9b79b"
      },
      "source": [
        "## Memory\n",
        "Helping LLMs remember information.\n",
        "\n",
        "Memory is a bit of a loose term. It could be as simple as remembering information you've chatted about in the past or more complicated information retrieval.\n",
        "\n",
        "We'll keep it towards the Chat Message use case. This would be used for chat bots.\n",
        "\n",
        "There are many types of memory, explore [the documentation](https://python.langchain.com/en/latest/modules/memory/how_to_guides.html) to see which one fits your use case."
      ]
    },
    {
      "cell_type": "markdown",
      "id": "f43b49da",
      "metadata": {
        "id": "f43b49da"
      },
      "source": [
        "### Chat Message History"
      ]
    },
    {
      "cell_type": "code",
      "execution_count": null,
      "id": "893a18c1",
      "metadata": {
        "id": "893a18c1"
      },
      "outputs": [],
      "source": [
        "from langchain.memory import ChatMessageHistory\n",
        "from langchain.chat_models import ChatOpenAI\n",
        "\n",
        "chat = ChatOpenAI(temperature=0, openai_api_key=openai_api_key)\n",
        "\n",
        "history = ChatMessageHistory()\n",
        "\n",
        "history.add_ai_message(\"hi!\")\n",
        "\n",
        "history.add_user_message(\"what is the capital of france?\")"
      ]
    },
    {
      "cell_type": "code",
      "execution_count": null,
      "id": "a2949fda",
      "metadata": {
        "id": "a2949fda",
        "outputId": "c47d943d-a8f6-443f-b626-38f8c74e42bd"
      },
      "outputs": [
        {
          "data": {
            "text/plain": [
              "[AIMessage(content='hi!', additional_kwargs={}, example=False),\n",
              " HumanMessage(content='what is the capital of france?', additional_kwargs={}, example=False)]"
            ]
          },
          "execution_count": 49,
          "metadata": {},
          "output_type": "execute_result"
        }
      ],
      "source": [
        "history.messages"
      ]
    },
    {
      "cell_type": "code",
      "execution_count": null,
      "id": "9b74d5cf",
      "metadata": {
        "id": "9b74d5cf",
        "outputId": "a09b11bd-97d7-4277-aadf-ebb660174de7"
      },
      "outputs": [
        {
          "data": {
            "text/plain": [
              "AIMessage(content='The capital of France is Paris.', additional_kwargs={}, example=False)"
            ]
          },
          "execution_count": 50,
          "metadata": {},
          "output_type": "execute_result"
        }
      ],
      "source": [
        "ai_response = chat(history.messages)\n",
        "ai_response"
      ]
    },
    {
      "cell_type": "code",
      "execution_count": null,
      "id": "529e168f",
      "metadata": {
        "id": "529e168f",
        "outputId": "a32c3310-5d85-42b9-9a0e-703ef74adf56"
      },
      "outputs": [
        {
          "data": {
            "text/plain": [
              "[AIMessage(content='hi!', additional_kwargs={}, example=False),\n",
              " HumanMessage(content='what is the capital of france?', additional_kwargs={}, example=False),\n",
              " AIMessage(content='The capital of France is Paris.', additional_kwargs={}, example=False)]"
            ]
          },
          "execution_count": 51,
          "metadata": {},
          "output_type": "execute_result"
        }
      ],
      "source": [
        "history.add_ai_message(ai_response.content)\n",
        "history.messages"
      ]
    },
    {
      "cell_type": "markdown",
      "id": "f29fc79c",
      "metadata": {
        "id": "f29fc79c"
      },
      "source": [
        "## Chains ⛓️⛓️⛓️\n",
        "Combining different LLM calls and action automatically\n",
        "\n",
        "Ex: Summary #1, Summary #2, Summary #3 > Final Summary\n",
        "\n",
        "Check out [this video](https://www.youtube.com/watch?v=f9_BWhCI4Zo&t=2s) explaining different summarization chain types\n",
        "\n",
        "There are [many applications of chains](https://python.langchain.com/en/latest/modules/chains/how_to_guides.html) search to see which are best for your use case.\n",
        "\n",
        "We'll cover two of them:"
      ]
    },
    {
      "cell_type": "markdown",
      "id": "c34ba415",
      "metadata": {
        "id": "c34ba415"
      },
      "source": [
        "### 1. Simple Sequential Chains\n",
        "\n",
        "Easy chains where you can use the output of an LLM as an input into another. Good for breaking up tasks (and keeping your LLM focused)"
      ]
    },
    {
      "cell_type": "code",
      "execution_count": null,
      "id": "79fc0950",
      "metadata": {
        "id": "79fc0950"
      },
      "outputs": [],
      "source": [
        "from langchain.llms import OpenAI\n",
        "from langchain.chains import LLMChain\n",
        "from langchain.prompts import PromptTemplate\n",
        "from langchain.chains import SimpleSequentialChain\n",
        "\n",
        "llm = OpenAI(temperature=1, openai_api_key=openai_api_key)"
      ]
    },
    {
      "cell_type": "code",
      "execution_count": null,
      "id": "43d4494a",
      "metadata": {
        "id": "43d4494a"
      },
      "outputs": [],
      "source": [
        "template = \"\"\"Your job is to come up with a classic dish from the area that the users suggests.\n",
        "% USER LOCATION\n",
        "{user_location}\n",
        "\n",
        "YOUR RESPONSE:\n",
        "\"\"\"\n",
        "prompt_template = PromptTemplate(input_variables=[\"user_location\"], template=template)\n",
        "\n",
        "# Holds my 'location' chain\n",
        "location_chain = LLMChain(llm=llm, prompt=prompt_template)"
      ]
    },
    {
      "cell_type": "code",
      "execution_count": null,
      "id": "b6c8e00f",
      "metadata": {
        "id": "b6c8e00f"
      },
      "outputs": [],
      "source": [
        "template = \"\"\"Given a meal, give a short and simple recipe on how to make that dish at home.\n",
        "% MEAL\n",
        "{user_meal}\n",
        "\n",
        "YOUR RESPONSE:\n",
        "\"\"\"\n",
        "prompt_template = PromptTemplate(input_variables=[\"user_meal\"], template=template)\n",
        "\n",
        "# Holds my 'meal' chain\n",
        "meal_chain = LLMChain(llm=llm, prompt=prompt_template)"
      ]
    },
    {
      "cell_type": "code",
      "execution_count": null,
      "id": "7e0b83f2",
      "metadata": {
        "id": "7e0b83f2"
      },
      "outputs": [],
      "source": [
        "overall_chain = SimpleSequentialChain(chains=[location_chain, meal_chain], verbose=True)"
      ]
    },
    {
      "cell_type": "code",
      "execution_count": null,
      "id": "7d19c64d",
      "metadata": {
        "id": "7d19c64d",
        "outputId": "47623094-fa71-4dd6-bae1-821d205da97f"
      },
      "outputs": [
        {
          "name": "stdout",
          "output_type": "stream",
          "text": [
            "\n",
            "\n",
            "\u001b[1m> Entering new SimpleSequentialChain chain...\u001b[0m\n",
            "\u001b[36;1m\u001b[1;3mA classic dish from Rome is Spaghetti alla Carbonara. This dish is a creamy pasta made with eggs, cured pork, Pecorino Romano cheese, black pepper, and Olive oil.\u001b[0m\n",
            "\u001b[33;1m\u001b[1;3m1. Bring a large pot of salted water to a boil.\n",
            "2. Add about a pound of spaghetti noodles and cook for 8-10 minutes, stirring occasionally.\n",
            "3. Drain noodles and set aside.\n",
            "4. In a separate bowl, whisk together 2 eggs and ½ cup of Pecorino Romano cheese.\n",
            "5. In a large skillet, heat 2 tablespoons of olive oil over medium heat.\n",
            "6. Add 4 ounces of cubed pancetta or guanciale and cook until lightly browned, stirring often.\n",
            "7. Reduce heat to low and add the spaghetti noodles.\n",
            "8. Pour the egg mixture over the noodles and vigorously stir together.\n",
            "9. Remove from heat, stir in a pinch of black pepper and serve.\u001b[0m\n",
            "\n",
            "\u001b[1m> Finished chain.\u001b[0m\n"
          ]
        }
      ],
      "source": [
        "review = overall_chain.run(\"Rome\")"
      ]
    },
    {
      "cell_type": "markdown",
      "id": "f6191bf5",
      "metadata": {
        "id": "f6191bf5"
      },
      "source": [
        "### 2. Summarization Chain\n",
        "\n",
        "Easily run through long numerous documents and get a summary. Check out [this video](https://www.youtube.com/watch?v=f9_BWhCI4Zo) for other chain types besides map-reduce"
      ]
    },
    {
      "cell_type": "code",
      "execution_count": null,
      "id": "6f218c3e",
      "metadata": {
        "id": "6f218c3e",
        "outputId": "83cff014-3a92-416a-f7b1-5df6d17b7007"
      },
      "outputs": [
        {
          "name": "stdout",
          "output_type": "stream",
          "text": [
            "\n",
            "\n",
            "\u001b[1m> Entering new MapReduceDocumentsChain chain...\u001b[0m\n",
            "\n",
            "\n",
            "\u001b[1m> Entering new LLMChain chain...\u001b[0m\n",
            "Prompt after formatting:\n",
            "\u001b[32;1m\u001b[1;3mWrite a concise summary of the following:\n",
            "\n",
            "\n",
            "\"January 2017Because biographies of famous scientists tend to \n",
            "edit out their mistakes, we underestimate the \n",
            "degree of risk they were willing to take.\n",
            "And because anything a famous scientist did that\n",
            "wasn't a mistake has probably now become the\n",
            "conventional wisdom, those choices don't\n",
            "seem risky either.Biographies of Newton, for example, understandably focus\n",
            "more on physics than alchemy or theology.\n",
            "The impression we get is that his unerring judgment\n",
            "led him straight to truths no one else had noticed.\n",
            "How to explain all the time he spent on alchemy\n",
            "and theology?  Well, smart people are often kind of\n",
            "crazy.But maybe there is a simpler explanation. Maybe\"\n",
            "\n",
            "\n",
            "CONCISE SUMMARY:\u001b[0m\n",
            "Prompt after formatting:\n",
            "\u001b[32;1m\u001b[1;3mWrite a concise summary of the following:\n",
            "\n",
            "\n",
            "\"the smartness and the craziness were not as separate\n",
            "as we think. Physics seems to us a promising thing\n",
            "to work on, and alchemy and theology obvious wastes\n",
            "of time. But that's because we know how things\n",
            "turned out. In Newton's day the three problems \n",
            "seemed roughly equally promising. No one knew yet\n",
            "what the payoff would be for inventing what we\n",
            "now call physics; if they had, more people would \n",
            "have been working on it. And alchemy and theology\n",
            "were still then in the category Marc Andreessen would \n",
            "describe as \"huge, if true.\"Newton made three bets. One of them worked. But \n",
            "they were all risky.\"\n",
            "\n",
            "\n",
            "CONCISE SUMMARY:\u001b[0m\n",
            "\n",
            "\u001b[1m> Finished chain.\u001b[0m\n",
            "\n",
            "\n",
            "\u001b[1m> Entering new StuffDocumentsChain chain...\u001b[0m\n",
            "\n",
            "\n",
            "\u001b[1m> Entering new LLMChain chain...\u001b[0m\n",
            "Prompt after formatting:\n",
            "\u001b[32;1m\u001b[1;3mWrite a concise summary of the following:\n",
            "\n",
            "\n",
            "\" Biographies of famous scientists fail to show the risks they took and the mistakes they made, leading to an unbalanced impression. Explaining the detours taken in their exploration of topics such as alchemy and theology, smart people are often thought of as crazy; however, there may be a simpler explanation.\n",
            "\n",
            " In Newton's day, no one knew how successful inventing physics, alchemy, and theology would be. But Newton made the decision to pursue all three topics, and one of them was a success. Even though our current view is that physics is the superior venture and alchemy and theology are waste of time, Newton's risky decision shows that these things were once considered equally important.\"\n",
            "\n",
            "\n",
            "CONCISE SUMMARY:\u001b[0m\n",
            "\n",
            "\u001b[1m> Finished chain.\u001b[0m\n",
            "\n",
            "\u001b[1m> Finished chain.\u001b[0m\n",
            "\n",
            "\u001b[1m> Finished chain.\u001b[0m\n"
          ]
        },
        {
          "data": {
            "text/plain": [
              "\" Biographies of famous scientists do not include the risks and mistakes taken when exploring unproven topics such as alchemy and theology, leading to an unbalanced view. Newton took a risk by exploring all three of these topics, and it paid off in success with physics. Despite the current view that alchemy and theology are a waste of time, Newton's decision shows that once they were regarded equally as important.\""
            ]
          },
          "execution_count": 57,
          "metadata": {},
          "output_type": "execute_result"
        }
      ],
      "source": [
        "from langchain.chains.summarize import load_summarize_chain\n",
        "from langchain.document_loaders import TextLoader\n",
        "from langchain.text_splitter import RecursiveCharacterTextSplitter\n",
        "\n",
        "loader = TextLoader('data/PaulGrahamEssays/disc.txt')\n",
        "documents = loader.load()\n",
        "\n",
        "# Get your splitter ready\n",
        "text_splitter = RecursiveCharacterTextSplitter(chunk_size=700, chunk_overlap=50)\n",
        "\n",
        "# Split your docs into texts\n",
        "texts = text_splitter.split_documents(documents)\n",
        "\n",
        "# There is a lot of complexity hidden in this one line. I encourage you to check out the video above for more detail\n",
        "chain = load_summarize_chain(llm, chain_type=\"map_reduce\", verbose=True)\n",
        "chain.run(texts)"
      ]
    },
    {
      "cell_type": "markdown",
      "id": "84f6193c",
      "metadata": {
        "id": "84f6193c"
      },
      "source": [
        "## Agents 🤖🤖\n",
        "\n",
        "Official LangChain Documentation describes agents perfectly (emphasis mine):\n",
        "> Some applications will require not just a predetermined chain of calls to LLMs/other tools, but potentially an **unknown chain** that depends on the user's input. In these types of chains, there is a “agent” which has access to a suite of tools. Depending on the user input, the agent can then **decide which, if any, of these tools to call**.\n",
        "\n",
        "\n",
        "Basically you use the LLM not just for text output, but also for decision making. The coolness and power of this functionality can't be overstated enough.\n",
        "\n",
        "Sam Altman emphasizes that the LLMs are good '[reasoning engine](https://www.youtube.com/watch?v=L_Guz73e6fw&t=867s)'. Agent take advantage of this."
      ]
    },
    {
      "cell_type": "markdown",
      "id": "3ce05d51",
      "metadata": {
        "id": "3ce05d51"
      },
      "source": [
        "### Agents\n",
        "\n",
        "The language model that drives decision making.\n",
        "\n",
        "More specifically, an agent takes in an input and returns a response corresponding to an action to take along with an action input. You can see different types of agents (which are better for different use cases) [here](https://python.langchain.com/en/latest/modules/agents/agents/agent_types.html)."
      ]
    },
    {
      "cell_type": "markdown",
      "id": "f696b65c",
      "metadata": {
        "id": "f696b65c"
      },
      "source": [
        "### Tools\n",
        "\n",
        "A 'capability' of an agent. This is an abstraction on top of a function that makes it easy for LLMs (and agents) to interact with it. Ex: Google search.\n",
        "\n",
        "This area shares commonalities with [OpenAI plugins](https://platform.openai.com/docs/plugins/introduction)."
      ]
    },
    {
      "cell_type": "markdown",
      "id": "a11f8231",
      "metadata": {
        "id": "a11f8231"
      },
      "source": [
        "### Toolkit\n",
        "\n",
        "Groups of tools that your agent can select from\n",
        "\n",
        "Let's bring them all together:"
      ]
    },
    {
      "cell_type": "code",
      "execution_count": null,
      "id": "67d5d82d",
      "metadata": {
        "id": "67d5d82d"
      },
      "outputs": [],
      "source": [
        "from langchain.agents import load_tools\n",
        "from langchain.agents import initialize_agent\n",
        "from langchain.llms import OpenAI\n",
        "import json\n",
        "\n",
        "llm = OpenAI(temperature=0, openai_api_key=openai_api_key)"
      ]
    },
    {
      "cell_type": "code",
      "execution_count": null,
      "id": "0ddcdbb9",
      "metadata": {
        "id": "0ddcdbb9"
      },
      "outputs": [],
      "source": [
        "serpapi_api_key='...'"
      ]
    },
    {
      "cell_type": "code",
      "execution_count": null,
      "id": "44fad67f",
      "metadata": {
        "id": "44fad67f"
      },
      "outputs": [],
      "source": [
        "toolkit = load_tools([\"serpapi\"], llm=llm, serpapi_api_key=serpapi_api_key)"
      ]
    },
    {
      "cell_type": "code",
      "execution_count": null,
      "id": "f544a74b",
      "metadata": {
        "id": "f544a74b"
      },
      "outputs": [],
      "source": [
        "agent = initialize_agent(toolkit, llm, agent=\"zero-shot-react-description\", verbose=True, return_intermediate_steps=True)"
      ]
    },
    {
      "cell_type": "code",
      "execution_count": null,
      "id": "c4882754",
      "metadata": {
        "id": "c4882754",
        "outputId": "cdb1c234-5fae-42df-e744-2859d13b3067"
      },
      "outputs": [
        {
          "name": "stdout",
          "output_type": "stream",
          "text": [
            "\n",
            "\n",
            "\u001b[1m> Entering new AgentExecutor chain...\u001b[0m\n",
            "\u001b[32;1m\u001b[1;3m I should try to find out what band Natalie Bergman is a part of.\n",
            "Action: Search\n",
            "Action Input: \"Natalie Bergman band\"\u001b[0m\n",
            "Observation: \u001b[36;1m\u001b[1;3mNatalie Bergman is an American singer-songwriter. She is one half of the duo Wild Belle, along with her brother Elliot Bergman. Her debut solo album, Mercy, was released on Third Man Records on May 7, 2021. She is based in Los Angeles.\u001b[0m\n",
            "Thought:\u001b[32;1m\u001b[1;3m I should search for the debut album of Wild Belle.\n",
            "Action: Search\n",
            "Action Input: \"Wild Belle debut album\"\u001b[0m\n",
            "Observation: \u001b[36;1m\u001b[1;3mIsles\u001b[0m\n",
            "Thought:\u001b[32;1m\u001b[1;3m I now know the final answer.\n",
            "Final Answer: Isles is the debut album of Wild Belle, the band that Natalie Bergman is a part of.\u001b[0m\n",
            "\n",
            "\u001b[1m> Finished chain.\u001b[0m\n"
          ]
        }
      ],
      "source": [
        "response = agent({\"input\":\"what was the first album of the\"\n",
        "                    \"band that Natalie Bergman is a part of?\"})"
      ]
    },
    {
      "cell_type": "code",
      "execution_count": null,
      "id": "ba438064",
      "metadata": {
        "id": "ba438064",
        "outputId": "a32586ee-7341-4420-c88e-13fb429e254e"
      },
      "outputs": [
        {
          "name": "stdout",
          "output_type": "stream",
          "text": [
            "[\n",
            "  [\n",
            "    [\n",
            "      \"Search\",\n",
            "      \"Natalie Bergman band\",\n",
            "      \" I should try to find out what band Natalie Bergman is a part of.\\nAction: Search\\nAction Input: \\\"Natalie Bergman band\\\"\"\n",
            "    ],\n",
            "    \"Natalie Bergman is an American singer-songwriter. She is one half of the duo Wild Belle, along with her brother Elliot Bergman. Her debut solo album, Mercy, was released on Third Man Records on May 7, 2021. She is based in Los Angeles.\"\n",
            "  ],\n",
            "  [\n",
            "    [\n",
            "      \"Search\",\n",
            "      \"Wild Belle debut album\",\n",
            "      \" I should search for the debut album of Wild Belle.\\nAction: Search\\nAction Input: \\\"Wild Belle debut album\\\"\"\n",
            "    ],\n",
            "    \"Isles\"\n",
            "  ]\n",
            "]\n"
          ]
        }
      ],
      "source": [
        "print(json.dumps(response[\"intermediate_steps\"], indent=2))"
      ]
    },
    {
      "cell_type": "markdown",
      "id": "3f9c30d2",
      "metadata": {
        "id": "3f9c30d2"
      },
      "source": [
        "![Wild Belle](https://github.com/abeliansw/langchain-tutorials/blob/main/data/WildBelle1.png?raw=1)"
      ]
    },
    {
      "cell_type": "markdown",
      "id": "14f4b368",
      "metadata": {
        "id": "14f4b368"
      },
      "source": [
        "🎵Enjoy🎵\n",
        "https://open.spotify.com/track/1eREJIBdqeCcqNCB1pbz7w?si=c014293b63c7478c"
      ]
    },
    {
      "cell_type": "code",
      "execution_count": null,
      "id": "3193b53e",
      "metadata": {
        "id": "3193b53e"
      },
      "outputs": [],
      "source": []
    }
  ],
  "metadata": {
    "kernelspec": {
      "display_name": "Python 3 (ipykernel)",
      "language": "python",
      "name": "python3"
    },
    "language_info": {
      "codemirror_mode": {
        "name": "ipython",
        "version": 3
      },
      "file_extension": ".py",
      "mimetype": "text/x-python",
      "name": "python",
      "nbconvert_exporter": "python",
      "pygments_lexer": "ipython3",
      "version": "3.9.13"
    },
    "colab": {
      "provenance": []
    }
  },
  "nbformat": 4,
  "nbformat_minor": 5
}