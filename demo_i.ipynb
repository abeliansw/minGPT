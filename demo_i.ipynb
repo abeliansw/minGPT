{
  "cells": [
    {
      "cell_type": "markdown",
      "metadata": {
        "id": "-Jsm-RvGx6OY"
      },
      "source": [
        "A cute little demo showing the simplest usage of minGPT. Configured to run fine on Macbook Air in like a minute."
      ]
    },
    {
      "cell_type": "code",
      "source": [
        "LIVE EVENT DATE:  June 22, 2023\n",
        "LIVE EVENT TIME:  10:00 AM EDT\n",
        "Use the link below to enter the event up to 15 minutes before the start.\n",
        "\n",
        "EVENT LINK:  https://event.on24.com/wcc/r/4260101/F8F2647006EDBE0A5632E6617E76E912?mode=login&email=sungwoo77.hong@samsung.com\n",
        "EMAIL:  sungwoo77.hong@samsung.com"
      ],
      "metadata": {
        "id": "C3Tb2VGTV7UU"
      },
      "execution_count": null,
      "outputs": []
    },
    {
      "cell_type": "code",
      "source": [
        "https://vimeo.com/839749267?mkt_tok=Nzg2LVpLVC0wNjQAAAGMmV74AV4JQUw05my6iXG-OurZBor4oTo--v84QvljrL9kHdKutE7FYu5Zkamp-2MyPWdf56ih_dWSsYzFq0VIPUeJxpG5z59Xzmu7L0J9sQjj"
      ],
      "metadata": {
        "id": "7cb-37JuIl79"
      },
      "execution_count": null,
      "outputs": []
    },
    {
      "cell_type": "code",
      "source": [],
      "metadata": {
        "id": "k_P5BUTwKBOJ"
      },
      "execution_count": null,
      "outputs": []
    },
    {
      "cell_type": "code",
      "source": [],
      "metadata": {
        "id": "Cx9pQGezKBSv"
      },
      "execution_count": null,
      "outputs": []
    },
    {
      "cell_type": "code",
      "source": [],
      "metadata": {
        "id": "ap3E4kznKBXr"
      },
      "execution_count": null,
      "outputs": []
    },
    {
      "cell_type": "code",
      "source": [],
      "metadata": {
        "id": "1ezWaye7H2xV"
      },
      "execution_count": null,
      "outputs": []
    },
    {
      "cell_type": "code",
      "source": [],
      "metadata": {
        "id": "xc6wNZHGBKbC"
      },
      "execution_count": null,
      "outputs": []
    },
    {
      "cell_type": "code",
      "source": [],
      "metadata": {
        "id": "3qZGYDLyTRef"
      },
      "execution_count": null,
      "outputs": []
    },
    {
      "cell_type": "code",
      "source": [
        "import pandas as pd\n",
        "import requests\n",
        "from lxml import html\n",
        "from tqdm import tqdm"
      ],
      "metadata": {
        "id": "nJXUoKGU1WA7"
      },
      "execution_count": null,
      "outputs": []
    },
    {
      "cell_type": "code",
      "source": [
        "# 삼성전자\n",
        "sample_code = '005930'"
      ],
      "metadata": {
        "id": "MYximEWe1h2U"
      },
      "execution_count": null,
      "outputs": []
    },
    {
      "cell_type": "code",
      "source": [],
      "metadata": {
        "id": "3XNYI0VoRXdU"
      },
      "execution_count": null,
      "outputs": []
    },
    {
      "cell_type": "code",
      "source": [
        "# parsing URL\n",
        "# 우리 컴퓨터 -> [접속] -> 에프앤가이드(Data Source) -> [크롤링/웹 스크래핑] -> 우리 컴퓨터\n",
        "# client -> request -> [Server] -> response -> client\n",
        "\n",
        "SNAP_URL = 'https://comp.fnguide.com/SVO2/ASP/SVD_Main.asp?pGB=1&gicode=A{}&cID=&MenuYn=Y&ReportGB=&NewMenuID=101&stkGb=701'\n",
        "RATIO_URL = 'https://comp.fnguide.com/SVO2/ASP/SVD_FinanceRatio.asp?pGB=1&gicode=A{}&cID=&MenuYn=Y&ReportGB=&NewMenuID=104&stkGb=701'\n"
      ],
      "metadata": {
        "id": "yLI_kOa0yPdJ"
      },
      "execution_count": null,
      "outputs": []
    },
    {
      "cell_type": "code",
      "source": [
        "# object -> 데이터 덩어리(추상화)\n",
        "\n",
        "snap_url = SNAP_URL.format(sample_code)\n",
        "snap_content = requests.get(snap_url).content # 문자열 binary\n",
        "snap_tree = html.fromstring(snap_content) # 객체(object)\n",
        "per = snap_tree.xpath('//*[@id=\"corp_group2\"]/dl[1]/dd')[0].text\n",
        "per = float(per)"
      ],
      "metadata": {
        "id": "utPTldQQ1q72"
      },
      "execution_count": null,
      "outputs": []
    },
    {
      "cell_type": "code",
      "source": [
        "per"
      ],
      "metadata": {
        "id": "-OHT6EgL1weN",
        "outputId": "69ae0b35-5287-4193-83a6-360a73a50010",
        "colab": {
          "base_uri": "https://localhost:8080/"
        }
      },
      "execution_count": null,
      "outputs": [
        {
          "output_type": "execute_result",
          "data": {
            "text/plain": [
              "8.15"
            ]
          },
          "metadata": {},
          "execution_count": 5
        }
      ]
    },
    {
      "cell_type": "code",
      "source": [
        "ratio_url = RATIO_URL.format(sample_code)\n",
        "ratio_content = requests.get(ratio_url).content\n",
        "ratio_tree = html.fromstring(ratio_content)\n",
        "debt_ratio = ratio_tree.xpath('//*[@id=\"p_grid1_3\"]/td[5]')[0].text\n",
        "debt_ratio = float(debt_ratio)"
      ],
      "metadata": {
        "id": "ys-_Cy7U1zyE"
      },
      "execution_count": null,
      "outputs": []
    },
    {
      "cell_type": "code",
      "source": [
        "# stockMkt => KOSPI\n",
        "# kosdaqMkt => KOSDAQ\n",
        "# konexMkt => KONEX"
      ],
      "metadata": {
        "id": "oYYdEg1N14-E"
      },
      "execution_count": null,
      "outputs": []
    },
    {
      "cell_type": "code",
      "execution_count": null,
      "metadata": {
        "id": "x3NWsE1Ux6OZ"
      },
      "outputs": [],
      "source": [
        "def get_stock_list(market):\n",
        "    market_code = ''\n",
        "    if market == 'kospi':\n",
        "        market_code = 'stockMkt'\n",
        "    elif market == 'kosdaq':\n",
        "        market_code = 'kosdaqMkt'\n",
        "    elif market == 'konex':\n",
        "        market_code = 'konexMkt'\n",
        "    kind_url = 'https://kind.krx.co.kr/corpgeneral/corpList.do?method=download&pageIndex=1&currentPageSize=3000&comAbbrv=&beginIndex=&orderMode=3&orderStat=D&isurCd=&repIsuSrtCd=&searchCodeType=&marketType={}&searchType=13&industry=&fiscalYearEnd=all&comAbbrvTmp=&location=all'.format(market_code)\n",
        "\n",
        "    return pd.read_html(kind_url, converters={'종목코드':lambda x: str(x)})[0]\n"
      ]
    },
    {
      "cell_type": "code",
      "source": [
        "def converter(x):\n",
        "    return str(x)\n",
        "\n",
        "# 람다 함수 == 무명(anonymous) 함수 == 일회용 함수\n",
        "lambda x: str(x)"
      ],
      "metadata": {
        "id": "m4dSksON2B7c",
        "outputId": "216c58ad-10c2-483a-a352-ac017c41de0c",
        "colab": {
          "base_uri": "https://localhost:8080/"
        }
      },
      "execution_count": null,
      "outputs": [
        {
          "output_type": "execute_result",
          "data": {
            "text/plain": [
              "<function __main__.<lambda>(x)>"
            ]
          },
          "metadata": {},
          "execution_count": 9
        }
      ]
    },
    {
      "cell_type": "code",
      "source": [
        "kospi_df = get_stock_list('kospi')\n",
        "print(kospi_df.shape)"
      ],
      "metadata": {
        "id": "yDHaKPAW2FVr",
        "outputId": "b6e5ea3e-6421-43e0-bbcf-5560519eaf3c",
        "colab": {
          "base_uri": "https://localhost:8080/"
        }
      },
      "execution_count": null,
      "outputs": [
        {
          "output_type": "stream",
          "name": "stdout",
          "text": [
            "(829, 9)\n"
          ]
        }
      ]
    },
    {
      "cell_type": "code",
      "source": [
        "kosdaq_df = get_stock_list('kosdaq')\n",
        "print(kosdaq_df.shape)"
      ],
      "metadata": {
        "id": "FdITfDhN2JO1",
        "outputId": "a5decbf5-cb85-4e2f-ca63-c928e2c55e09",
        "colab": {
          "base_uri": "https://localhost:8080/"
        }
      },
      "execution_count": null,
      "outputs": [
        {
          "output_type": "stream",
          "name": "stdout",
          "text": [
            "(1632, 9)\n"
          ]
        }
      ]
    },
    {
      "cell_type": "code",
      "source": [
        "# merge -> SQL Join\n",
        "# append | kospi_df.append([kosdaq_df])\n",
        "# concatenate(합치다)\n",
        "stock_list_df = pd.concat([kospi_df, kosdaq_df] )"
      ],
      "metadata": {
        "id": "7pKujXHw2NGN"
      },
      "execution_count": null,
      "outputs": []
    },
    {
      "cell_type": "code",
      "source": [
        "print(stock_list_df.shape)"
      ],
      "metadata": {
        "id": "U17NWHc12Qp0",
        "outputId": "3daa686a-48d6-44cc-b3f3-55388a2a0ef8",
        "colab": {
          "base_uri": "https://localhost:8080/"
        }
      },
      "execution_count": null,
      "outputs": [
        {
          "output_type": "stream",
          "name": "stdout",
          "text": [
            "(2461, 9)\n"
          ]
        }
      ]
    },
    {
      "cell_type": "code",
      "source": [
        "# stock_list_df['종목코드'].dropna()\n",
        "stock_list_df = stock_list_df[stock_list_df['종목코드'].notnull()]"
      ],
      "metadata": {
        "id": "OM0TQZ7F2WzW"
      },
      "execution_count": null,
      "outputs": []
    },
    {
      "cell_type": "code",
      "source": [
        "stock_list_df = stock_list_df[~stock_list_df['회사명'].str.contains('스팩|리츠')]\n",
        "print(stock_list_df.shape)"
      ],
      "metadata": {
        "id": "XPD1Bm6b2aMU",
        "outputId": "4bf7eec6-07a8-4e75-848d-46ff8626e130",
        "colab": {
          "base_uri": "https://localhost:8080/"
        }
      },
      "execution_count": null,
      "outputs": [
        {
          "output_type": "stream",
          "name": "stdout",
          "text": [
            "(2364, 9)\n"
          ]
        }
      ]
    },
    {
      "cell_type": "code",
      "source": [
        "# list comprehension\n",
        "stock_list_df.index = [x for x in range(len(stock_list_df))]"
      ],
      "metadata": {
        "id": "pGc_FJns2hB1"
      },
      "execution_count": null,
      "outputs": []
    },
    {
      "cell_type": "code",
      "source": [
        "stock_list_df.to_csv('kospi_kosdaq_stock_list.csv', encoding='utf-8', index=True)"
      ],
      "metadata": {
        "id": "LX49wIwP2k1I"
      },
      "execution_count": null,
      "outputs": []
    },
    {
      "cell_type": "code",
      "source": [
        "code_list = stock_list_df['종목코드']\n",
        "code_list"
      ],
      "metadata": {
        "id": "2zjn1OcB2qz9",
        "outputId": "e440bf5a-11ee-416f-d317-b999b67a8d6b",
        "colab": {
          "base_uri": "https://localhost:8080/"
        }
      },
      "execution_count": null,
      "outputs": [
        {
          "output_type": "execute_result",
          "data": {
            "text/plain": [
              "0       100090\n",
              "1       453340\n",
              "2       452260\n",
              "3       450140\n",
              "4       377740\n",
              "         ...  \n",
              "2359    013030\n",
              "2360    019550\n",
              "2361    019570\n",
              "2362    019590\n",
              "2363    006920\n",
              "Name: 종목코드, Length: 2364, dtype: object"
            ]
          },
          "metadata": {},
          "execution_count": 18
        }
      ]
    },
    {
      "cell_type": "code",
      "execution_count": null,
      "metadata": {
        "id": "YsSiGaHPx6Oa"
      },
      "outputs": [],
      "source": [
        "sample_df = pd.DataFrame(\n",
        "    {'005930':['삼성전자', 1, 2], '035720':['카카오', 1, 2], '015720':['카카오', 1, 2], '025720':['카카오', 1, 2]}\n",
        ").transpose()\n",
        "\n"
      ]
    },
    {
      "cell_type": "code",
      "source": [
        "sample_df.columns = ['name', 'PER', 'Debt_ratio']"
      ],
      "metadata": {
        "id": "HYN6s4GZ20un"
      },
      "execution_count": null,
      "outputs": []
    },
    {
      "cell_type": "code",
      "source": [
        "sample_df"
      ],
      "metadata": {
        "id": "eyCNlJi124IP",
        "outputId": "e73fdb85-0543-40d0-bcc0-4ebc09f3f158",
        "colab": {
          "base_uri": "https://localhost:8080/",
          "height": 175
        }
      },
      "execution_count": null,
      "outputs": [
        {
          "output_type": "execute_result",
          "data": {
            "text/plain": [
              "        name PER Debt_ratio\n",
              "005930  삼성전자   1          2\n",
              "035720   카카오   1          2\n",
              "015720   카카오   1          2\n",
              "025720   카카오   1          2"
            ],
            "text/html": [
              "\n",
              "  <div id=\"df-7132c7b0-26ea-49f4-b886-760104fc8ed6\">\n",
              "    <div class=\"colab-df-container\">\n",
              "      <div>\n",
              "<style scoped>\n",
              "    .dataframe tbody tr th:only-of-type {\n",
              "        vertical-align: middle;\n",
              "    }\n",
              "\n",
              "    .dataframe tbody tr th {\n",
              "        vertical-align: top;\n",
              "    }\n",
              "\n",
              "    .dataframe thead th {\n",
              "        text-align: right;\n",
              "    }\n",
              "</style>\n",
              "<table border=\"1\" class=\"dataframe\">\n",
              "  <thead>\n",
              "    <tr style=\"text-align: right;\">\n",
              "      <th></th>\n",
              "      <th>name</th>\n",
              "      <th>PER</th>\n",
              "      <th>Debt_ratio</th>\n",
              "    </tr>\n",
              "  </thead>\n",
              "  <tbody>\n",
              "    <tr>\n",
              "      <th>005930</th>\n",
              "      <td>삼성전자</td>\n",
              "      <td>1</td>\n",
              "      <td>2</td>\n",
              "    </tr>\n",
              "    <tr>\n",
              "      <th>035720</th>\n",
              "      <td>카카오</td>\n",
              "      <td>1</td>\n",
              "      <td>2</td>\n",
              "    </tr>\n",
              "    <tr>\n",
              "      <th>015720</th>\n",
              "      <td>카카오</td>\n",
              "      <td>1</td>\n",
              "      <td>2</td>\n",
              "    </tr>\n",
              "    <tr>\n",
              "      <th>025720</th>\n",
              "      <td>카카오</td>\n",
              "      <td>1</td>\n",
              "      <td>2</td>\n",
              "    </tr>\n",
              "  </tbody>\n",
              "</table>\n",
              "</div>\n",
              "      <button class=\"colab-df-convert\" onclick=\"convertToInteractive('df-7132c7b0-26ea-49f4-b886-760104fc8ed6')\"\n",
              "              title=\"Convert this dataframe to an interactive table.\"\n",
              "              style=\"display:none;\">\n",
              "        \n",
              "  <svg xmlns=\"http://www.w3.org/2000/svg\" height=\"24px\"viewBox=\"0 0 24 24\"\n",
              "       width=\"24px\">\n",
              "    <path d=\"M0 0h24v24H0V0z\" fill=\"none\"/>\n",
              "    <path d=\"M18.56 5.44l.94 2.06.94-2.06 2.06-.94-2.06-.94-.94-2.06-.94 2.06-2.06.94zm-11 1L8.5 8.5l.94-2.06 2.06-.94-2.06-.94L8.5 2.5l-.94 2.06-2.06.94zm10 10l.94 2.06.94-2.06 2.06-.94-2.06-.94-.94-2.06-.94 2.06-2.06.94z\"/><path d=\"M17.41 7.96l-1.37-1.37c-.4-.4-.92-.59-1.43-.59-.52 0-1.04.2-1.43.59L10.3 9.45l-7.72 7.72c-.78.78-.78 2.05 0 2.83L4 21.41c.39.39.9.59 1.41.59.51 0 1.02-.2 1.41-.59l7.78-7.78 2.81-2.81c.8-.78.8-2.07 0-2.86zM5.41 20L4 18.59l7.72-7.72 1.47 1.35L5.41 20z\"/>\n",
              "  </svg>\n",
              "      </button>\n",
              "      \n",
              "  <style>\n",
              "    .colab-df-container {\n",
              "      display:flex;\n",
              "      flex-wrap:wrap;\n",
              "      gap: 12px;\n",
              "    }\n",
              "\n",
              "    .colab-df-convert {\n",
              "      background-color: #E8F0FE;\n",
              "      border: none;\n",
              "      border-radius: 50%;\n",
              "      cursor: pointer;\n",
              "      display: none;\n",
              "      fill: #1967D2;\n",
              "      height: 32px;\n",
              "      padding: 0 0 0 0;\n",
              "      width: 32px;\n",
              "    }\n",
              "\n",
              "    .colab-df-convert:hover {\n",
              "      background-color: #E2EBFA;\n",
              "      box-shadow: 0px 1px 2px rgba(60, 64, 67, 0.3), 0px 1px 3px 1px rgba(60, 64, 67, 0.15);\n",
              "      fill: #174EA6;\n",
              "    }\n",
              "\n",
              "    [theme=dark] .colab-df-convert {\n",
              "      background-color: #3B4455;\n",
              "      fill: #D2E3FC;\n",
              "    }\n",
              "\n",
              "    [theme=dark] .colab-df-convert:hover {\n",
              "      background-color: #434B5C;\n",
              "      box-shadow: 0px 1px 3px 1px rgba(0, 0, 0, 0.15);\n",
              "      filter: drop-shadow(0px 1px 2px rgba(0, 0, 0, 0.3));\n",
              "      fill: #FFFFFF;\n",
              "    }\n",
              "  </style>\n",
              "\n",
              "      <script>\n",
              "        const buttonEl =\n",
              "          document.querySelector('#df-7132c7b0-26ea-49f4-b886-760104fc8ed6 button.colab-df-convert');\n",
              "        buttonEl.style.display =\n",
              "          google.colab.kernel.accessAllowed ? 'block' : 'none';\n",
              "\n",
              "        async function convertToInteractive(key) {\n",
              "          const element = document.querySelector('#df-7132c7b0-26ea-49f4-b886-760104fc8ed6');\n",
              "          const dataTable =\n",
              "            await google.colab.kernel.invokeFunction('convertToInteractive',\n",
              "                                                     [key], {});\n",
              "          if (!dataTable) return;\n",
              "\n",
              "          const docLinkHtml = 'Like what you see? Visit the ' +\n",
              "            '<a target=\"_blank\" href=https://colab.research.google.com/notebooks/data_table.ipynb>data table notebook</a>'\n",
              "            + ' to learn more about interactive tables.';\n",
              "          element.innerHTML = '';\n",
              "          dataTable['output_type'] = 'display_data';\n",
              "          await google.colab.output.renderOutput(dataTable, element);\n",
              "          const docLink = document.createElement('div');\n",
              "          docLink.innerHTML = docLinkHtml;\n",
              "          element.appendChild(docLink);\n",
              "        }\n",
              "      </script>\n",
              "    </div>\n",
              "  </div>\n",
              "  "
            ]
          },
          "metadata": {},
          "execution_count": 21
        }
      ]
    },
    {
      "cell_type": "code",
      "execution_count": null,
      "metadata": {
        "id": "PGfL8oFwx6Ob"
      },
      "outputs": [],
      "source": [
        "def FinanceInfoCrawler(li, df):\n",
        "    result_dict = {}\n",
        "    error_codes = []\n",
        "\n",
        "    for code in tqdm(li):\n",
        "        try:\n",
        "            # Parsing URL setting\n",
        "            SNAP_URL = 'https://comp.fnguide.com/SVO2/ASP/SVD_Main.asp?pGB=1&gicode=A{}&cID=&MenuYn=Y&ReportGB=&NewMenuID=101&stkGb=701'\n",
        "            RATIO_URL = 'https://comp.fnguide.com/SVO2/ASP/SVD_FinanceRatio.asp?pGB=1&gicode=A{}&cID=&MenuYn=Y&ReportGB=&NewMenuID=104&stkGb=701'\n",
        "\n",
        "            # company name\n",
        "            company_name = df[df['종목코드'] == code]['회사명'].values[0]\n",
        "\n",
        "            # Get PER\n",
        "            snap_url = SNAP_URL.format(code)\n",
        "            snap_content = requests.get(snap_url).content\n",
        "            snap_tree = html.fromstring(snap_content)\n",
        "            per = snap_tree.xpath('//*[@id=\"corp_group2\"]/dl[1]/dd')[0].text\n",
        "            per = float(per)\n",
        "\n",
        "            # Get Debt ratio\n",
        "            ratio_url = RATIO_URL.format(code)\n",
        "            ratio_content = requests.get(ratio_url).content\n",
        "            ratio_tree = html.fromstring(ratio_content)\n",
        "            debt_ratio = ratio_tree.xpath('//*[@id=\"p_grid1_3\"]/td[5]')[0].text\n",
        "            debt_ratio = float(debt_ratio)\n",
        "\n",
        "            result_dict[code] = [company_name, per, debt_ratio]\n",
        "\n",
        "        except (TypeError, IndexError, AttributeError, ValueError):\n",
        "            pass\n",
        "#             print(code)\n",
        "            error_codes.append(code)\n",
        "\n",
        "    # convert dict to DataFrame\n",
        "    result_df = pd.DataFrame(result_dict)\n",
        "\n",
        "    # transpose DataFrame\n",
        "    result_df = result_df.transpose()\n",
        "\n",
        "    # Setting column names\n",
        "    result_df.columns = ['Name', 'PER', 'Debt_ratio']\n",
        "\n",
        "    return result_df, error_codes"
      ]
    },
    {
      "cell_type": "code",
      "execution_count": null,
      "metadata": {
        "id": "0UaI3sdMx6Ob",
        "outputId": "0117fd19-5021-4069-a04e-b770e2137322",
        "colab": {
          "base_uri": "https://localhost:8080/"
        }
      },
      "outputs": [
        {
          "output_type": "stream",
          "name": "stderr",
          "text": [
            "100%|██████████| 50/50 [00:46<00:00,  1.07it/s]\n"
          ]
        }
      ],
      "source": [
        "crawling_result_df = FinanceInfoCrawler(code_list[:50],stock_list_df)"
      ]
    },
    {
      "cell_type": "code",
      "execution_count": null,
      "metadata": {
        "id": "i73eGDnWx6Ob",
        "outputId": "f786190e-3cf6-4d44-f5ac-3ccdc2a6e337",
        "colab": {
          "base_uri": "https://localhost:8080/",
          "height": 224
        }
      },
      "outputs": [
        {
          "output_type": "stream",
          "name": "stdout",
          "text": [
            "(39, 3)\n"
          ]
        },
        {
          "output_type": "execute_result",
          "data": {
            "text/plain": [
              "            Name     PER Debt_ratio\n",
              "100090   SK오션플랜트   38.11      132.0\n",
              "377740     바이오노트    1.89        9.8\n",
              "446070  유니드비티플러스  104.18       11.2\n",
              "108320     LX세미콘     7.5       35.7\n",
              "126720   수산인더스트리     6.3       24.7"
            ],
            "text/html": [
              "\n",
              "  <div id=\"df-5f472a9d-c3d4-4e02-9733-4fcfac8770f3\">\n",
              "    <div class=\"colab-df-container\">\n",
              "      <div>\n",
              "<style scoped>\n",
              "    .dataframe tbody tr th:only-of-type {\n",
              "        vertical-align: middle;\n",
              "    }\n",
              "\n",
              "    .dataframe tbody tr th {\n",
              "        vertical-align: top;\n",
              "    }\n",
              "\n",
              "    .dataframe thead th {\n",
              "        text-align: right;\n",
              "    }\n",
              "</style>\n",
              "<table border=\"1\" class=\"dataframe\">\n",
              "  <thead>\n",
              "    <tr style=\"text-align: right;\">\n",
              "      <th></th>\n",
              "      <th>Name</th>\n",
              "      <th>PER</th>\n",
              "      <th>Debt_ratio</th>\n",
              "    </tr>\n",
              "  </thead>\n",
              "  <tbody>\n",
              "    <tr>\n",
              "      <th>100090</th>\n",
              "      <td>SK오션플랜트</td>\n",
              "      <td>38.11</td>\n",
              "      <td>132.0</td>\n",
              "    </tr>\n",
              "    <tr>\n",
              "      <th>377740</th>\n",
              "      <td>바이오노트</td>\n",
              "      <td>1.89</td>\n",
              "      <td>9.8</td>\n",
              "    </tr>\n",
              "    <tr>\n",
              "      <th>446070</th>\n",
              "      <td>유니드비티플러스</td>\n",
              "      <td>104.18</td>\n",
              "      <td>11.2</td>\n",
              "    </tr>\n",
              "    <tr>\n",
              "      <th>108320</th>\n",
              "      <td>LX세미콘</td>\n",
              "      <td>7.5</td>\n",
              "      <td>35.7</td>\n",
              "    </tr>\n",
              "    <tr>\n",
              "      <th>126720</th>\n",
              "      <td>수산인더스트리</td>\n",
              "      <td>6.3</td>\n",
              "      <td>24.7</td>\n",
              "    </tr>\n",
              "  </tbody>\n",
              "</table>\n",
              "</div>\n",
              "      <button class=\"colab-df-convert\" onclick=\"convertToInteractive('df-5f472a9d-c3d4-4e02-9733-4fcfac8770f3')\"\n",
              "              title=\"Convert this dataframe to an interactive table.\"\n",
              "              style=\"display:none;\">\n",
              "        \n",
              "  <svg xmlns=\"http://www.w3.org/2000/svg\" height=\"24px\"viewBox=\"0 0 24 24\"\n",
              "       width=\"24px\">\n",
              "    <path d=\"M0 0h24v24H0V0z\" fill=\"none\"/>\n",
              "    <path d=\"M18.56 5.44l.94 2.06.94-2.06 2.06-.94-2.06-.94-.94-2.06-.94 2.06-2.06.94zm-11 1L8.5 8.5l.94-2.06 2.06-.94-2.06-.94L8.5 2.5l-.94 2.06-2.06.94zm10 10l.94 2.06.94-2.06 2.06-.94-2.06-.94-.94-2.06-.94 2.06-2.06.94z\"/><path d=\"M17.41 7.96l-1.37-1.37c-.4-.4-.92-.59-1.43-.59-.52 0-1.04.2-1.43.59L10.3 9.45l-7.72 7.72c-.78.78-.78 2.05 0 2.83L4 21.41c.39.39.9.59 1.41.59.51 0 1.02-.2 1.41-.59l7.78-7.78 2.81-2.81c.8-.78.8-2.07 0-2.86zM5.41 20L4 18.59l7.72-7.72 1.47 1.35L5.41 20z\"/>\n",
              "  </svg>\n",
              "      </button>\n",
              "      \n",
              "  <style>\n",
              "    .colab-df-container {\n",
              "      display:flex;\n",
              "      flex-wrap:wrap;\n",
              "      gap: 12px;\n",
              "    }\n",
              "\n",
              "    .colab-df-convert {\n",
              "      background-color: #E8F0FE;\n",
              "      border: none;\n",
              "      border-radius: 50%;\n",
              "      cursor: pointer;\n",
              "      display: none;\n",
              "      fill: #1967D2;\n",
              "      height: 32px;\n",
              "      padding: 0 0 0 0;\n",
              "      width: 32px;\n",
              "    }\n",
              "\n",
              "    .colab-df-convert:hover {\n",
              "      background-color: #E2EBFA;\n",
              "      box-shadow: 0px 1px 2px rgba(60, 64, 67, 0.3), 0px 1px 3px 1px rgba(60, 64, 67, 0.15);\n",
              "      fill: #174EA6;\n",
              "    }\n",
              "\n",
              "    [theme=dark] .colab-df-convert {\n",
              "      background-color: #3B4455;\n",
              "      fill: #D2E3FC;\n",
              "    }\n",
              "\n",
              "    [theme=dark] .colab-df-convert:hover {\n",
              "      background-color: #434B5C;\n",
              "      box-shadow: 0px 1px 3px 1px rgba(0, 0, 0, 0.15);\n",
              "      filter: drop-shadow(0px 1px 2px rgba(0, 0, 0, 0.3));\n",
              "      fill: #FFFFFF;\n",
              "    }\n",
              "  </style>\n",
              "\n",
              "      <script>\n",
              "        const buttonEl =\n",
              "          document.querySelector('#df-5f472a9d-c3d4-4e02-9733-4fcfac8770f3 button.colab-df-convert');\n",
              "        buttonEl.style.display =\n",
              "          google.colab.kernel.accessAllowed ? 'block' : 'none';\n",
              "\n",
              "        async function convertToInteractive(key) {\n",
              "          const element = document.querySelector('#df-5f472a9d-c3d4-4e02-9733-4fcfac8770f3');\n",
              "          const dataTable =\n",
              "            await google.colab.kernel.invokeFunction('convertToInteractive',\n",
              "                                                     [key], {});\n",
              "          if (!dataTable) return;\n",
              "\n",
              "          const docLinkHtml = 'Like what you see? Visit the ' +\n",
              "            '<a target=\"_blank\" href=https://colab.research.google.com/notebooks/data_table.ipynb>data table notebook</a>'\n",
              "            + ' to learn more about interactive tables.';\n",
              "          element.innerHTML = '';\n",
              "          dataTable['output_type'] = 'display_data';\n",
              "          await google.colab.output.renderOutput(dataTable, element);\n",
              "          const docLink = document.createElement('div');\n",
              "          docLink.innerHTML = docLinkHtml;\n",
              "          element.appendChild(docLink);\n",
              "        }\n",
              "      </script>\n",
              "    </div>\n",
              "  </div>\n",
              "  "
            ]
          },
          "metadata": {},
          "execution_count": 27
        }
      ],
      "source": [
        "print(crawling_result_df[0].shape)\n",
        "crawling_result_df[0].head()"
      ]
    },
    {
      "cell_type": "code",
      "execution_count": null,
      "metadata": {
        "id": "SZKhQVVLx6Oc"
      },
      "outputs": [],
      "source": [
        "# original data\n",
        "# crawling_result_df\n",
        "\n",
        "# copy data\n",
        "copy_df = crawling_result_df[0].copy()"
      ]
    },
    {
      "cell_type": "code",
      "execution_count": null,
      "metadata": {
        "id": "J6aAw4ZCx6Oc"
      },
      "outputs": [],
      "source": [
        "# PER 10 이하\n",
        "# 부채비율 50 이하\n",
        "# (상위) 20개 종목\n",
        "\n",
        "final_result_df = copy_df[\n",
        "    (copy_df['PER'] <= 10)&(copy_df['Debt_ratio'] <= 50)&(copy_df['PER'] > 0)\n",
        "].sort_values(\n",
        "    by='PER', ascending=True\n",
        ").iloc[:20]\n"
      ]
    },
    {
      "cell_type": "code",
      "execution_count": null,
      "metadata": {
        "id": "SpI1WZy8x6Oc"
      },
      "outputs": [],
      "source": [
        "import datetime\n",
        "\n",
        "# 시간까지 포함한 날짜\n",
        "now = datetime.datetime.now()\n",
        "\n",
        "final_result_df.to_csv('LowPER_LowDR_{}.csv'.format(now.strftime('%Y%m%d')))"
      ]
    },
    {
      "cell_type": "code",
      "execution_count": null,
      "metadata": {
        "id": "ve8414ELx6Oc",
        "outputId": "cd65e0eb-5c60-4ae4-86e1-903d6a041a79",
        "colab": {
          "base_uri": "https://localhost:8080/",
          "height": 269
        }
      },
      "outputs": [
        {
          "output_type": "execute_result",
          "data": {
            "text/plain": [
              "   Unnamed: 0      Name   PER  Debt_ratio\n",
              "0      377740     바이오노트  1.89         9.8\n",
              "1      137310  에스디바이오센서  2.39        10.7\n",
              "2      383800     LX홀딩스  3.90         1.5\n",
              "3      353200      대덕전자  6.16        39.4\n",
              "4      363280    티와이홀딩스  6.17        47.6\n",
              "5      126720   수산인더스트리  6.30        24.7\n",
              "6      108320     LX세미콘  7.50        35.7"
            ],
            "text/html": [
              "\n",
              "  <div id=\"df-8fdecf28-0d48-49c3-9ad5-37269d7635cb\">\n",
              "    <div class=\"colab-df-container\">\n",
              "      <div>\n",
              "<style scoped>\n",
              "    .dataframe tbody tr th:only-of-type {\n",
              "        vertical-align: middle;\n",
              "    }\n",
              "\n",
              "    .dataframe tbody tr th {\n",
              "        vertical-align: top;\n",
              "    }\n",
              "\n",
              "    .dataframe thead th {\n",
              "        text-align: right;\n",
              "    }\n",
              "</style>\n",
              "<table border=\"1\" class=\"dataframe\">\n",
              "  <thead>\n",
              "    <tr style=\"text-align: right;\">\n",
              "      <th></th>\n",
              "      <th>Unnamed: 0</th>\n",
              "      <th>Name</th>\n",
              "      <th>PER</th>\n",
              "      <th>Debt_ratio</th>\n",
              "    </tr>\n",
              "  </thead>\n",
              "  <tbody>\n",
              "    <tr>\n",
              "      <th>0</th>\n",
              "      <td>377740</td>\n",
              "      <td>바이오노트</td>\n",
              "      <td>1.89</td>\n",
              "      <td>9.8</td>\n",
              "    </tr>\n",
              "    <tr>\n",
              "      <th>1</th>\n",
              "      <td>137310</td>\n",
              "      <td>에스디바이오센서</td>\n",
              "      <td>2.39</td>\n",
              "      <td>10.7</td>\n",
              "    </tr>\n",
              "    <tr>\n",
              "      <th>2</th>\n",
              "      <td>383800</td>\n",
              "      <td>LX홀딩스</td>\n",
              "      <td>3.90</td>\n",
              "      <td>1.5</td>\n",
              "    </tr>\n",
              "    <tr>\n",
              "      <th>3</th>\n",
              "      <td>353200</td>\n",
              "      <td>대덕전자</td>\n",
              "      <td>6.16</td>\n",
              "      <td>39.4</td>\n",
              "    </tr>\n",
              "    <tr>\n",
              "      <th>4</th>\n",
              "      <td>363280</td>\n",
              "      <td>티와이홀딩스</td>\n",
              "      <td>6.17</td>\n",
              "      <td>47.6</td>\n",
              "    </tr>\n",
              "    <tr>\n",
              "      <th>5</th>\n",
              "      <td>126720</td>\n",
              "      <td>수산인더스트리</td>\n",
              "      <td>6.30</td>\n",
              "      <td>24.7</td>\n",
              "    </tr>\n",
              "    <tr>\n",
              "      <th>6</th>\n",
              "      <td>108320</td>\n",
              "      <td>LX세미콘</td>\n",
              "      <td>7.50</td>\n",
              "      <td>35.7</td>\n",
              "    </tr>\n",
              "  </tbody>\n",
              "</table>\n",
              "</div>\n",
              "      <button class=\"colab-df-convert\" onclick=\"convertToInteractive('df-8fdecf28-0d48-49c3-9ad5-37269d7635cb')\"\n",
              "              title=\"Convert this dataframe to an interactive table.\"\n",
              "              style=\"display:none;\">\n",
              "        \n",
              "  <svg xmlns=\"http://www.w3.org/2000/svg\" height=\"24px\"viewBox=\"0 0 24 24\"\n",
              "       width=\"24px\">\n",
              "    <path d=\"M0 0h24v24H0V0z\" fill=\"none\"/>\n",
              "    <path d=\"M18.56 5.44l.94 2.06.94-2.06 2.06-.94-2.06-.94-.94-2.06-.94 2.06-2.06.94zm-11 1L8.5 8.5l.94-2.06 2.06-.94-2.06-.94L8.5 2.5l-.94 2.06-2.06.94zm10 10l.94 2.06.94-2.06 2.06-.94-2.06-.94-.94-2.06-.94 2.06-2.06.94z\"/><path d=\"M17.41 7.96l-1.37-1.37c-.4-.4-.92-.59-1.43-.59-.52 0-1.04.2-1.43.59L10.3 9.45l-7.72 7.72c-.78.78-.78 2.05 0 2.83L4 21.41c.39.39.9.59 1.41.59.51 0 1.02-.2 1.41-.59l7.78-7.78 2.81-2.81c.8-.78.8-2.07 0-2.86zM5.41 20L4 18.59l7.72-7.72 1.47 1.35L5.41 20z\"/>\n",
              "  </svg>\n",
              "      </button>\n",
              "      \n",
              "  <style>\n",
              "    .colab-df-container {\n",
              "      display:flex;\n",
              "      flex-wrap:wrap;\n",
              "      gap: 12px;\n",
              "    }\n",
              "\n",
              "    .colab-df-convert {\n",
              "      background-color: #E8F0FE;\n",
              "      border: none;\n",
              "      border-radius: 50%;\n",
              "      cursor: pointer;\n",
              "      display: none;\n",
              "      fill: #1967D2;\n",
              "      height: 32px;\n",
              "      padding: 0 0 0 0;\n",
              "      width: 32px;\n",
              "    }\n",
              "\n",
              "    .colab-df-convert:hover {\n",
              "      background-color: #E2EBFA;\n",
              "      box-shadow: 0px 1px 2px rgba(60, 64, 67, 0.3), 0px 1px 3px 1px rgba(60, 64, 67, 0.15);\n",
              "      fill: #174EA6;\n",
              "    }\n",
              "\n",
              "    [theme=dark] .colab-df-convert {\n",
              "      background-color: #3B4455;\n",
              "      fill: #D2E3FC;\n",
              "    }\n",
              "\n",
              "    [theme=dark] .colab-df-convert:hover {\n",
              "      background-color: #434B5C;\n",
              "      box-shadow: 0px 1px 3px 1px rgba(0, 0, 0, 0.15);\n",
              "      filter: drop-shadow(0px 1px 2px rgba(0, 0, 0, 0.3));\n",
              "      fill: #FFFFFF;\n",
              "    }\n",
              "  </style>\n",
              "\n",
              "      <script>\n",
              "        const buttonEl =\n",
              "          document.querySelector('#df-8fdecf28-0d48-49c3-9ad5-37269d7635cb button.colab-df-convert');\n",
              "        buttonEl.style.display =\n",
              "          google.colab.kernel.accessAllowed ? 'block' : 'none';\n",
              "\n",
              "        async function convertToInteractive(key) {\n",
              "          const element = document.querySelector('#df-8fdecf28-0d48-49c3-9ad5-37269d7635cb');\n",
              "          const dataTable =\n",
              "            await google.colab.kernel.invokeFunction('convertToInteractive',\n",
              "                                                     [key], {});\n",
              "          if (!dataTable) return;\n",
              "\n",
              "          const docLinkHtml = 'Like what you see? Visit the ' +\n",
              "            '<a target=\"_blank\" href=https://colab.research.google.com/notebooks/data_table.ipynb>data table notebook</a>'\n",
              "            + ' to learn more about interactive tables.';\n",
              "          element.innerHTML = '';\n",
              "          dataTable['output_type'] = 'display_data';\n",
              "          await google.colab.output.renderOutput(dataTable, element);\n",
              "          const docLink = document.createElement('div');\n",
              "          docLink.innerHTML = docLinkHtml;\n",
              "          element.appendChild(docLink);\n",
              "        }\n",
              "      </script>\n",
              "    </div>\n",
              "  </div>\n",
              "  "
            ]
          },
          "metadata": {},
          "execution_count": 32
        }
      ],
      "source": [
        "pd.read_csv('LowPER_LowDR_{}.csv'.format(now.strftime('%Y%m%d')))"
      ]
    }
  ],
  "metadata": {
    "kernelspec": {
      "display_name": "Python 3.10.4 64-bit",
      "language": "python",
      "name": "python3"
    },
    "language_info": {
      "codemirror_mode": {
        "name": "ipython",
        "version": 3
      },
      "file_extension": ".py",
      "mimetype": "text/x-python",
      "name": "python",
      "nbconvert_exporter": "python",
      "pygments_lexer": "ipython3",
      "version": "3.10.4"
    },
    "orig_nbformat": 4,
    "vscode": {
      "interpreter": {
        "hash": "3ad933181bd8a04b432d3370b9dc3b0662ad032c4dfaa4e4f1596c548f763858"
      }
    },
    "colab": {
      "provenance": []
    },
    "accelerator": "GPU",
    "gpuClass": "standard"
  },
  "nbformat": 4,
  "nbformat_minor": 0
}